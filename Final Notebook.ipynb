{
 "cells": [
  {
   "cell_type": "markdown",
   "metadata": {},
   "source": [
    "# Import Libraries"
   ]
  },
  {
   "cell_type": "code",
   "execution_count": 170,
   "metadata": {},
   "outputs": [],
   "source": [
    "import requests\n",
    "import json\n",
    "import spotipy\n",
    "import string\n",
    "import mysql.connector\n",
    "import os\n",
    "import itertools\n",
    "import pandas as pd\n",
    "import numpy as np \n",
    "import seaborn as sns\n",
    "plt.style.use('seaborn')\n",
    "import pickle\n",
    "import scipy as sp\n",
    "import xgboost as xgb\n",
    "import scipy.stats as stats\n",
    "from scipy import stats\n",
    "from scipy.stats import skew,norm\n",
    "from scipy.stats.stats import pearsonr\n",
    "from tqdm import tqdm\n",
    "import spotipy.oauth2 as oauth2\n",
    "from spotipy.oauth2 import SpotifyClientCredentials\n",
    "from imblearn.over_sampling import SMOTE\n",
    "import statsmodels.api as sm\n",
    "from statsmodels.formula.api import ols\n",
    "import matplotlib.pyplot as plt\n",
    "from datetime import datetime\n",
    "from sklearn import metrics\n",
    "from sklearn.utils import resample\n",
    "from sklearn.linear_model import LinearRegression\n",
    "from sklearn.linear_model import LogisticRegression\n",
    "from sklearn.preprocessing import StandardScaler\n",
    "from sklearn.preprocessing import PolynomialFeatures\n",
    "from sklearn.metrics import accuracy_score, f1_score, recall_score\n",
    "from sklearn.metrics import classification_report\n",
    "from sklearn.metrics import confusion_matrix\n",
    "from sklearn.neighbors import KNeighborsClassifier\n",
    "from sklearn.tree import DecisionTreeClassifier\n",
    "from sklearn.model_selection import train_test_split\n",
    "from sklearn.model_selection import GridSearchCV\n",
    "from sklearn.model_selection import RandomizedSearchCV\n",
    "from sklearn.model_selection import cross_val_score\n",
    "from sklearn.ensemble import VotingClassifier\n",
    "from sklearn.ensemble import RandomForestClassifier\n",
    "from sklearn.feature_selection import SelectKBest, f_regression,mutual_info_regression\n",
    "from sklearn.dummy import DummyClassifier\n",
    "from sklearn.preprocessing import OneHotEncoder\n"
   ]
  },
  {
   "cell_type": "markdown",
   "metadata": {},
   "source": [
    "## Data Cleaning and EDA"
   ]
  },
  {
   "cell_type": "markdown",
   "metadata": {},
   "source": [
    "Uploaded data from spotify data notebook"
   ]
  },
  {
   "cell_type": "code",
   "execution_count": 535,
   "metadata": {},
   "outputs": [],
   "source": [
    "df_weekly = pd.read_csv('spotify_weekly.csv', sep = ';')\n",
    "df_artists = pd.read_csv('artists.csv', sep = ';')\n",
    "df_features = pd.read_csv('audio_features.csv', sep = ';')\n",
    "df_albums = pd.read_csv('album_features.csv', sep = ';')\n",
    "df_unique = pd.read_csv('weekly_features_pd.csv')"
   ]
  },
  {
   "cell_type": "markdown",
   "metadata": {},
   "source": [
    "Rename columns to match with features df for successful merge\n"
   ]
  },
  {
   "cell_type": "code",
   "execution_count": 536,
   "metadata": {},
   "outputs": [],
   "source": [
    "df_artists.rename(columns = {'name': 'artist'}, inplace = True)"
   ]
  },
  {
   "cell_type": "markdown",
   "metadata": {},
   "source": [
    "Merge dataframes to match track features with track placement on charts\n"
   ]
  },
  {
   "cell_type": "code",
   "execution_count": 537,
   "metadata": {},
   "outputs": [],
   "source": [
    "weekly_features = pd.merge(df_weekly, df_features, how = 'left', on = 'id')"
   ]
  },
  {
   "cell_type": "code",
   "execution_count": 538,
   "metadata": {
    "scrolled": true
   },
   "outputs": [
    {
     "data": {
      "text/html": [
       "<div>\n",
       "<style scoped>\n",
       "    .dataframe tbody tr th:only-of-type {\n",
       "        vertical-align: middle;\n",
       "    }\n",
       "\n",
       "    .dataframe tbody tr th {\n",
       "        vertical-align: top;\n",
       "    }\n",
       "\n",
       "    .dataframe thead th {\n",
       "        text-align: right;\n",
       "    }\n",
       "</style>\n",
       "<table border=\"1\" class=\"dataframe\">\n",
       "  <thead>\n",
       "    <tr style=\"text-align: right;\">\n",
       "      <th></th>\n",
       "      <th>id</th>\n",
       "      <th>week_of</th>\n",
       "      <th>chart_position</th>\n",
       "      <th>track_name</th>\n",
       "      <th>artist</th>\n",
       "      <th>num_of_streams</th>\n",
       "      <th>danceability</th>\n",
       "      <th>energy</th>\n",
       "      <th>loudness</th>\n",
       "      <th>speechiness</th>\n",
       "      <th>acousticness</th>\n",
       "      <th>instrumentalness</th>\n",
       "      <th>liveness</th>\n",
       "      <th>valence</th>\n",
       "      <th>tempo</th>\n",
       "      <th>duration</th>\n",
       "      <th>time_signature</th>\n",
       "    </tr>\n",
       "  </thead>\n",
       "  <tbody>\n",
       "    <tr>\n",
       "      <th>10996</th>\n",
       "      <td>14msK75pk3pA33pzPVNtBF</td>\n",
       "      <td>55</td>\n",
       "      <td>1</td>\n",
       "      <td>7 rings</td>\n",
       "      <td>Ariana Grande</td>\n",
       "      <td>71467874</td>\n",
       "      <td>0.725</td>\n",
       "      <td>0.321</td>\n",
       "      <td>-10.744</td>\n",
       "      <td>0.323</td>\n",
       "      <td>0.578</td>\n",
       "      <td>0.000</td>\n",
       "      <td>0.088</td>\n",
       "      <td>0.319</td>\n",
       "      <td>70.142</td>\n",
       "      <td>178640</td>\n",
       "      <td>4.0</td>\n",
       "    </tr>\n",
       "    <tr>\n",
       "      <th>3600</th>\n",
       "      <td>0bAkKNCQfWkexHFn7fIKns</td>\n",
       "      <td>18</td>\n",
       "      <td>1</td>\n",
       "      <td>In My Feelings</td>\n",
       "      <td>Drake</td>\n",
       "      <td>67499798</td>\n",
       "      <td>0.735</td>\n",
       "      <td>0.482</td>\n",
       "      <td>-9.445</td>\n",
       "      <td>0.139</td>\n",
       "      <td>0.006</td>\n",
       "      <td>0.014</td>\n",
       "      <td>0.448</td>\n",
       "      <td>0.315</td>\n",
       "      <td>181.995</td>\n",
       "      <td>217933</td>\n",
       "      <td>4.0</td>\n",
       "    </tr>\n",
       "    <tr>\n",
       "      <th>8200</th>\n",
       "      <td>0TK2YIli7K1leLovkQiNik</td>\n",
       "      <td>41</td>\n",
       "      <td>1</td>\n",
       "      <td>Señorita</td>\n",
       "      <td>Shawn Mendes</td>\n",
       "      <td>67237638</td>\n",
       "      <td>0.759</td>\n",
       "      <td>0.540</td>\n",
       "      <td>-6.039</td>\n",
       "      <td>0.029</td>\n",
       "      <td>0.037</td>\n",
       "      <td>0.000</td>\n",
       "      <td>0.095</td>\n",
       "      <td>0.750</td>\n",
       "      <td>116.947</td>\n",
       "      <td>190960</td>\n",
       "      <td>4.0</td>\n",
       "    </tr>\n",
       "    <tr>\n",
       "      <th>18596</th>\n",
       "      <td>0TK2YIli7K1leLovkQiNik</td>\n",
       "      <td>93</td>\n",
       "      <td>1</td>\n",
       "      <td>Señorita</td>\n",
       "      <td>Shawn Mendes</td>\n",
       "      <td>66933317</td>\n",
       "      <td>0.759</td>\n",
       "      <td>0.540</td>\n",
       "      <td>-6.039</td>\n",
       "      <td>0.029</td>\n",
       "      <td>0.037</td>\n",
       "      <td>0.000</td>\n",
       "      <td>0.095</td>\n",
       "      <td>0.750</td>\n",
       "      <td>116.947</td>\n",
       "      <td>190960</td>\n",
       "      <td>4.0</td>\n",
       "    </tr>\n",
       "    <tr>\n",
       "      <th>9196</th>\n",
       "      <td>2G7V7zsVDxg1yRsu7Ew9RJ</td>\n",
       "      <td>46</td>\n",
       "      <td>1</td>\n",
       "      <td>In My Feelings</td>\n",
       "      <td>Drake</td>\n",
       "      <td>65825491</td>\n",
       "      <td>0.835</td>\n",
       "      <td>0.626</td>\n",
       "      <td>-5.833</td>\n",
       "      <td>0.125</td>\n",
       "      <td>0.059</td>\n",
       "      <td>0.000</td>\n",
       "      <td>0.396</td>\n",
       "      <td>0.350</td>\n",
       "      <td>91.030</td>\n",
       "      <td>217925</td>\n",
       "      <td>4.0</td>\n",
       "    </tr>\n",
       "    <tr>\n",
       "      <th>...</th>\n",
       "      <td>...</td>\n",
       "      <td>...</td>\n",
       "      <td>...</td>\n",
       "      <td>...</td>\n",
       "      <td>...</td>\n",
       "      <td>...</td>\n",
       "      <td>...</td>\n",
       "      <td>...</td>\n",
       "      <td>...</td>\n",
       "      <td>...</td>\n",
       "      <td>...</td>\n",
       "      <td>...</td>\n",
       "      <td>...</td>\n",
       "      <td>...</td>\n",
       "      <td>...</td>\n",
       "      <td>...</td>\n",
       "      <td>...</td>\n",
       "    </tr>\n",
       "    <tr>\n",
       "      <th>5195</th>\n",
       "      <td>19a3JfW8BQwqHWUMbcqSx8</td>\n",
       "      <td>25</td>\n",
       "      <td>196</td>\n",
       "      <td>Famous</td>\n",
       "      <td>Kanye West</td>\n",
       "      <td>2580512</td>\n",
       "      <td>0.465</td>\n",
       "      <td>0.735</td>\n",
       "      <td>-3.715</td>\n",
       "      <td>0.117</td>\n",
       "      <td>0.071</td>\n",
       "      <td>0.000</td>\n",
       "      <td>0.098</td>\n",
       "      <td>0.409</td>\n",
       "      <td>173.935</td>\n",
       "      <td>196040</td>\n",
       "      <td>4.0</td>\n",
       "    </tr>\n",
       "    <tr>\n",
       "      <th>5196</th>\n",
       "      <td>2q6tgiA9tpb6DMguABwCWE</td>\n",
       "      <td>25</td>\n",
       "      <td>197</td>\n",
       "      <td>All of Me</td>\n",
       "      <td>John Legend</td>\n",
       "      <td>2568720</td>\n",
       "      <td>0.422</td>\n",
       "      <td>0.264</td>\n",
       "      <td>-7.064</td>\n",
       "      <td>0.032</td>\n",
       "      <td>0.922</td>\n",
       "      <td>0.000</td>\n",
       "      <td>0.132</td>\n",
       "      <td>0.331</td>\n",
       "      <td>119.930</td>\n",
       "      <td>269560</td>\n",
       "      <td>4.0</td>\n",
       "    </tr>\n",
       "    <tr>\n",
       "      <th>5197</th>\n",
       "      <td>494OU6M7NOf4ICYb4zWCf5</td>\n",
       "      <td>25</td>\n",
       "      <td>198</td>\n",
       "      <td>Sugar</td>\n",
       "      <td>Maroon 5</td>\n",
       "      <td>2541963</td>\n",
       "      <td>0.748</td>\n",
       "      <td>0.788</td>\n",
       "      <td>-7.055</td>\n",
       "      <td>0.033</td>\n",
       "      <td>0.059</td>\n",
       "      <td>0.000</td>\n",
       "      <td>0.086</td>\n",
       "      <td>0.884</td>\n",
       "      <td>120.076</td>\n",
       "      <td>235493</td>\n",
       "      <td>4.0</td>\n",
       "    </tr>\n",
       "    <tr>\n",
       "      <th>5198</th>\n",
       "      <td>2jyjhRf6DVbMPU5zxagN2h</td>\n",
       "      <td>25</td>\n",
       "      <td>199</td>\n",
       "      <td>Let Her Go</td>\n",
       "      <td>Passenger</td>\n",
       "      <td>2536282</td>\n",
       "      <td>0.509</td>\n",
       "      <td>0.538</td>\n",
       "      <td>-7.335</td>\n",
       "      <td>0.057</td>\n",
       "      <td>0.385</td>\n",
       "      <td>0.000</td>\n",
       "      <td>0.104</td>\n",
       "      <td>0.244</td>\n",
       "      <td>75.089</td>\n",
       "      <td>252867</td>\n",
       "      <td>4.0</td>\n",
       "    </tr>\n",
       "    <tr>\n",
       "      <th>5199</th>\n",
       "      <td>7AtlMCIauSQZqiXSlbBPW6</td>\n",
       "      <td>25</td>\n",
       "      <td>200</td>\n",
       "      <td>Bobo</td>\n",
       "      <td>J Balvin</td>\n",
       "      <td>2525159</td>\n",
       "      <td>0.729</td>\n",
       "      <td>0.888</td>\n",
       "      <td>-2.864</td>\n",
       "      <td>0.122</td>\n",
       "      <td>0.117</td>\n",
       "      <td>0.000</td>\n",
       "      <td>0.125</td>\n",
       "      <td>0.800</td>\n",
       "      <td>177.908</td>\n",
       "      <td>209427</td>\n",
       "      <td>4.0</td>\n",
       "    </tr>\n",
       "  </tbody>\n",
       "</table>\n",
       "<p>30995 rows × 17 columns</p>\n",
       "</div>"
      ],
      "text/plain": [
       "                           id  week_of  chart_position      track_name  \\\n",
       "10996  14msK75pk3pA33pzPVNtBF       55               1         7 rings   \n",
       "3600   0bAkKNCQfWkexHFn7fIKns       18               1  In My Feelings   \n",
       "8200   0TK2YIli7K1leLovkQiNik       41               1        Señorita   \n",
       "18596  0TK2YIli7K1leLovkQiNik       93               1        Señorita   \n",
       "9196   2G7V7zsVDxg1yRsu7Ew9RJ       46               1  In My Feelings   \n",
       "...                       ...      ...             ...             ...   \n",
       "5195   19a3JfW8BQwqHWUMbcqSx8       25             196          Famous   \n",
       "5196   2q6tgiA9tpb6DMguABwCWE       25             197       All of Me   \n",
       "5197   494OU6M7NOf4ICYb4zWCf5       25             198           Sugar   \n",
       "5198   2jyjhRf6DVbMPU5zxagN2h       25             199      Let Her Go   \n",
       "5199   7AtlMCIauSQZqiXSlbBPW6       25             200            Bobo   \n",
       "\n",
       "              artist  num_of_streams  danceability  energy  loudness  \\\n",
       "10996  Ariana Grande        71467874         0.725   0.321   -10.744   \n",
       "3600           Drake        67499798         0.735   0.482    -9.445   \n",
       "8200    Shawn Mendes        67237638         0.759   0.540    -6.039   \n",
       "18596   Shawn Mendes        66933317         0.759   0.540    -6.039   \n",
       "9196           Drake        65825491         0.835   0.626    -5.833   \n",
       "...              ...             ...           ...     ...       ...   \n",
       "5195      Kanye West         2580512         0.465   0.735    -3.715   \n",
       "5196     John Legend         2568720         0.422   0.264    -7.064   \n",
       "5197        Maroon 5         2541963         0.748   0.788    -7.055   \n",
       "5198       Passenger         2536282         0.509   0.538    -7.335   \n",
       "5199        J Balvin         2525159         0.729   0.888    -2.864   \n",
       "\n",
       "       speechiness  acousticness  instrumentalness  liveness  valence  \\\n",
       "10996        0.323         0.578             0.000     0.088    0.319   \n",
       "3600         0.139         0.006             0.014     0.448    0.315   \n",
       "8200         0.029         0.037             0.000     0.095    0.750   \n",
       "18596        0.029         0.037             0.000     0.095    0.750   \n",
       "9196         0.125         0.059             0.000     0.396    0.350   \n",
       "...            ...           ...               ...       ...      ...   \n",
       "5195         0.117         0.071             0.000     0.098    0.409   \n",
       "5196         0.032         0.922             0.000     0.132    0.331   \n",
       "5197         0.033         0.059             0.000     0.086    0.884   \n",
       "5198         0.057         0.385             0.000     0.104    0.244   \n",
       "5199         0.122         0.117             0.000     0.125    0.800   \n",
       "\n",
       "         tempo  duration  time_signature  \n",
       "10996   70.142    178640             4.0  \n",
       "3600   181.995    217933             4.0  \n",
       "8200   116.947    190960             4.0  \n",
       "18596  116.947    190960             4.0  \n",
       "9196    91.030    217925             4.0  \n",
       "...        ...       ...             ...  \n",
       "5195   173.935    196040             4.0  \n",
       "5196   119.930    269560             4.0  \n",
       "5197   120.076    235493             4.0  \n",
       "5198    75.089    252867             4.0  \n",
       "5199   177.908    209427             4.0  \n",
       "\n",
       "[30995 rows x 17 columns]"
      ]
     },
     "execution_count": 538,
     "metadata": {},
     "output_type": "execute_result"
    }
   ],
   "source": [
    "weekly_features.sort_values('num_of_streams', ascending = False)"
   ]
  },
  {
   "cell_type": "markdown",
   "metadata": {},
   "source": [
    "Merging weekly features and artists into the master dataframe"
   ]
  },
  {
   "cell_type": "code",
   "execution_count": 539,
   "metadata": {},
   "outputs": [],
   "source": [
    "df_master = pd.merge(weekly_features, df_artists, how = 'left', on = 'artist')"
   ]
  },
  {
   "cell_type": "code",
   "execution_count": 540,
   "metadata": {},
   "outputs": [
    {
     "data": {
      "text/html": [
       "<div>\n",
       "<style scoped>\n",
       "    .dataframe tbody tr th:only-of-type {\n",
       "        vertical-align: middle;\n",
       "    }\n",
       "\n",
       "    .dataframe tbody tr th {\n",
       "        vertical-align: top;\n",
       "    }\n",
       "\n",
       "    .dataframe thead th {\n",
       "        text-align: right;\n",
       "    }\n",
       "</style>\n",
       "<table border=\"1\" class=\"dataframe\">\n",
       "  <thead>\n",
       "    <tr style=\"text-align: right;\">\n",
       "      <th></th>\n",
       "      <th>id_x</th>\n",
       "      <th>week_of</th>\n",
       "      <th>chart_position</th>\n",
       "      <th>track_name</th>\n",
       "      <th>artist</th>\n",
       "      <th>num_of_streams</th>\n",
       "      <th>danceability</th>\n",
       "      <th>energy</th>\n",
       "      <th>loudness</th>\n",
       "      <th>speechiness</th>\n",
       "      <th>acousticness</th>\n",
       "      <th>instrumentalness</th>\n",
       "      <th>liveness</th>\n",
       "      <th>valence</th>\n",
       "      <th>tempo</th>\n",
       "      <th>duration</th>\n",
       "      <th>time_signature</th>\n",
       "      <th>id_y</th>\n",
       "      <th>popularity_score</th>\n",
       "      <th>num_of_followers</th>\n",
       "    </tr>\n",
       "  </thead>\n",
       "  <tbody>\n",
       "    <tr>\n",
       "      <th>20440</th>\n",
       "      <td>2C6WXnmZ66tHhHlnvwePiK</td>\n",
       "      <td>102</td>\n",
       "      <td>45</td>\n",
       "      <td>Die For Me (feat. Future &amp; Halsey)</td>\n",
       "      <td>Post Malone</td>\n",
       "      <td>10373799</td>\n",
       "      <td>0.614</td>\n",
       "      <td>0.660</td>\n",
       "      <td>-2.848</td>\n",
       "      <td>0.044</td>\n",
       "      <td>0.190</td>\n",
       "      <td>0.000</td>\n",
       "      <td>0.211</td>\n",
       "      <td>0.452</td>\n",
       "      <td>145.010</td>\n",
       "      <td>245267</td>\n",
       "      <td>4.0</td>\n",
       "      <td>246dkjvS1zLTtiykXe5h60</td>\n",
       "      <td>100.0</td>\n",
       "      <td>20854501.0</td>\n",
       "    </tr>\n",
       "    <tr>\n",
       "      <th>17596</th>\n",
       "      <td>7wGoVu4Dady5GV0Sv4UIsx</td>\n",
       "      <td>88</td>\n",
       "      <td>1</td>\n",
       "      <td>rockstar</td>\n",
       "      <td>Post Malone</td>\n",
       "      <td>29659184</td>\n",
       "      <td>0.577</td>\n",
       "      <td>0.522</td>\n",
       "      <td>-6.594</td>\n",
       "      <td>0.098</td>\n",
       "      <td>0.130</td>\n",
       "      <td>0.000</td>\n",
       "      <td>0.142</td>\n",
       "      <td>0.119</td>\n",
       "      <td>159.772</td>\n",
       "      <td>218320</td>\n",
       "      <td>4.0</td>\n",
       "      <td>246dkjvS1zLTtiykXe5h60</td>\n",
       "      <td>100.0</td>\n",
       "      <td>20854501.0</td>\n",
       "    </tr>\n",
       "    <tr>\n",
       "      <th>2485</th>\n",
       "      <td>5yuShbu70mtHXY0yLzCQLQ</td>\n",
       "      <td>12</td>\n",
       "      <td>86</td>\n",
       "      <td>Go Flex</td>\n",
       "      <td>Post Malone</td>\n",
       "      <td>5934885</td>\n",
       "      <td>0.665</td>\n",
       "      <td>0.498</td>\n",
       "      <td>-8.185</td>\n",
       "      <td>0.083</td>\n",
       "      <td>0.228</td>\n",
       "      <td>0.000</td>\n",
       "      <td>0.076</td>\n",
       "      <td>0.127</td>\n",
       "      <td>81.967</td>\n",
       "      <td>179613</td>\n",
       "      <td>4.0</td>\n",
       "      <td>246dkjvS1zLTtiykXe5h60</td>\n",
       "      <td>100.0</td>\n",
       "      <td>20854501.0</td>\n",
       "    </tr>\n",
       "    <tr>\n",
       "      <th>21433</th>\n",
       "      <td>7dt6x5M1jzdTEt8oCbisTK</td>\n",
       "      <td>107</td>\n",
       "      <td>38</td>\n",
       "      <td>Better Now</td>\n",
       "      <td>Post Malone</td>\n",
       "      <td>11775588</td>\n",
       "      <td>0.680</td>\n",
       "      <td>0.578</td>\n",
       "      <td>-5.804</td>\n",
       "      <td>0.040</td>\n",
       "      <td>0.331</td>\n",
       "      <td>0.000</td>\n",
       "      <td>0.135</td>\n",
       "      <td>0.341</td>\n",
       "      <td>145.038</td>\n",
       "      <td>231267</td>\n",
       "      <td>4.0</td>\n",
       "      <td>246dkjvS1zLTtiykXe5h60</td>\n",
       "      <td>100.0</td>\n",
       "      <td>20854501.0</td>\n",
       "    </tr>\n",
       "    <tr>\n",
       "      <th>10002</th>\n",
       "      <td>6MWtB6iiXyIwun0YzU6DFP</td>\n",
       "      <td>50</td>\n",
       "      <td>7</td>\n",
       "      <td>Wow.</td>\n",
       "      <td>Post Malone</td>\n",
       "      <td>22700765</td>\n",
       "      <td>0.833</td>\n",
       "      <td>0.539</td>\n",
       "      <td>-7.399</td>\n",
       "      <td>0.178</td>\n",
       "      <td>0.163</td>\n",
       "      <td>0.000</td>\n",
       "      <td>0.101</td>\n",
       "      <td>0.385</td>\n",
       "      <td>99.947</td>\n",
       "      <td>149520</td>\n",
       "      <td>4.0</td>\n",
       "      <td>246dkjvS1zLTtiykXe5h60</td>\n",
       "      <td>100.0</td>\n",
       "      <td>20854501.0</td>\n",
       "    </tr>\n",
       "    <tr>\n",
       "      <th>...</th>\n",
       "      <td>...</td>\n",
       "      <td>...</td>\n",
       "      <td>...</td>\n",
       "      <td>...</td>\n",
       "      <td>...</td>\n",
       "      <td>...</td>\n",
       "      <td>...</td>\n",
       "      <td>...</td>\n",
       "      <td>...</td>\n",
       "      <td>...</td>\n",
       "      <td>...</td>\n",
       "      <td>...</td>\n",
       "      <td>...</td>\n",
       "      <td>...</td>\n",
       "      <td>...</td>\n",
       "      <td>...</td>\n",
       "      <td>...</td>\n",
       "      <td>...</td>\n",
       "      <td>...</td>\n",
       "      <td>...</td>\n",
       "    </tr>\n",
       "    <tr>\n",
       "      <th>29918</th>\n",
       "      <td>1839RWzPRZCVgvamu4sHSN</td>\n",
       "      <td>149</td>\n",
       "      <td>124</td>\n",
       "      <td>All My Love (feat. Conor Maynard)</td>\n",
       "      <td>Cash Cash</td>\n",
       "      <td>4273200</td>\n",
       "      <td>0.590</td>\n",
       "      <td>0.871</td>\n",
       "      <td>-3.353</td>\n",
       "      <td>0.089</td>\n",
       "      <td>0.148</td>\n",
       "      <td>0.000</td>\n",
       "      <td>0.074</td>\n",
       "      <td>0.304</td>\n",
       "      <td>134.956</td>\n",
       "      <td>191331</td>\n",
       "      <td>4.0</td>\n",
       "      <td>NaN</td>\n",
       "      <td>NaN</td>\n",
       "      <td>NaN</td>\n",
       "    </tr>\n",
       "    <tr>\n",
       "      <th>30391</th>\n",
       "      <td>48yAM9xWBwT4Ac9G1y20rw</td>\n",
       "      <td>151</td>\n",
       "      <td>197</td>\n",
       "      <td>Explícale</td>\n",
       "      <td>Yandel</td>\n",
       "      <td>3100361</td>\n",
       "      <td>0.808</td>\n",
       "      <td>0.690</td>\n",
       "      <td>-4.151</td>\n",
       "      <td>0.148</td>\n",
       "      <td>0.058</td>\n",
       "      <td>0.000</td>\n",
       "      <td>0.103</td>\n",
       "      <td>0.640</td>\n",
       "      <td>125.086</td>\n",
       "      <td>223147</td>\n",
       "      <td>4.0</td>\n",
       "      <td>NaN</td>\n",
       "      <td>NaN</td>\n",
       "      <td>NaN</td>\n",
       "    </tr>\n",
       "    <tr>\n",
       "      <th>30759</th>\n",
       "      <td>01vR5Z7AHinp9D2wu2BNQS</td>\n",
       "      <td>153</td>\n",
       "      <td>165</td>\n",
       "      <td>UP IN SMOKE</td>\n",
       "      <td>RIN</td>\n",
       "      <td>5126611</td>\n",
       "      <td>0.791</td>\n",
       "      <td>0.663</td>\n",
       "      <td>-5.655</td>\n",
       "      <td>0.153</td>\n",
       "      <td>0.235</td>\n",
       "      <td>0.000</td>\n",
       "      <td>0.117</td>\n",
       "      <td>0.314</td>\n",
       "      <td>77.494</td>\n",
       "      <td>174600</td>\n",
       "      <td>4.0</td>\n",
       "      <td>NaN</td>\n",
       "      <td>NaN</td>\n",
       "      <td>NaN</td>\n",
       "    </tr>\n",
       "    <tr>\n",
       "      <th>30949</th>\n",
       "      <td>1SSzM044DUbVpYNNHWIhYJ</td>\n",
       "      <td>154</td>\n",
       "      <td>155</td>\n",
       "      <td>Vermissen (feat. Henning May)</td>\n",
       "      <td>Juju</td>\n",
       "      <td>5164410</td>\n",
       "      <td>0.718</td>\n",
       "      <td>0.667</td>\n",
       "      <td>-5.008</td>\n",
       "      <td>0.055</td>\n",
       "      <td>0.169</td>\n",
       "      <td>0.000</td>\n",
       "      <td>0.067</td>\n",
       "      <td>0.480</td>\n",
       "      <td>89.029</td>\n",
       "      <td>161882</td>\n",
       "      <td>4.0</td>\n",
       "      <td>NaN</td>\n",
       "      <td>NaN</td>\n",
       "      <td>NaN</td>\n",
       "    </tr>\n",
       "    <tr>\n",
       "      <th>30962</th>\n",
       "      <td>6xwI9R3ZHT9nWtSYvffYQm</td>\n",
       "      <td>154</td>\n",
       "      <td>168</td>\n",
       "      <td>Vintage</td>\n",
       "      <td>RIN</td>\n",
       "      <td>4947824</td>\n",
       "      <td>0.821</td>\n",
       "      <td>0.767</td>\n",
       "      <td>-4.934</td>\n",
       "      <td>0.275</td>\n",
       "      <td>0.105</td>\n",
       "      <td>0.004</td>\n",
       "      <td>0.117</td>\n",
       "      <td>0.698</td>\n",
       "      <td>159.959</td>\n",
       "      <td>167217</td>\n",
       "      <td>4.0</td>\n",
       "      <td>NaN</td>\n",
       "      <td>NaN</td>\n",
       "      <td>NaN</td>\n",
       "    </tr>\n",
       "  </tbody>\n",
       "</table>\n",
       "<p>30995 rows × 20 columns</p>\n",
       "</div>"
      ],
      "text/plain": [
       "                         id_x  week_of  chart_position  \\\n",
       "20440  2C6WXnmZ66tHhHlnvwePiK      102              45   \n",
       "17596  7wGoVu4Dady5GV0Sv4UIsx       88               1   \n",
       "2485   5yuShbu70mtHXY0yLzCQLQ       12              86   \n",
       "21433  7dt6x5M1jzdTEt8oCbisTK      107              38   \n",
       "10002  6MWtB6iiXyIwun0YzU6DFP       50               7   \n",
       "...                       ...      ...             ...   \n",
       "29918  1839RWzPRZCVgvamu4sHSN      149             124   \n",
       "30391  48yAM9xWBwT4Ac9G1y20rw      151             197   \n",
       "30759  01vR5Z7AHinp9D2wu2BNQS      153             165   \n",
       "30949  1SSzM044DUbVpYNNHWIhYJ      154             155   \n",
       "30962  6xwI9R3ZHT9nWtSYvffYQm      154             168   \n",
       "\n",
       "                               track_name       artist  num_of_streams  \\\n",
       "20440  Die For Me (feat. Future & Halsey)  Post Malone        10373799   \n",
       "17596                            rockstar  Post Malone        29659184   \n",
       "2485                              Go Flex  Post Malone         5934885   \n",
       "21433                          Better Now  Post Malone        11775588   \n",
       "10002                                Wow.  Post Malone        22700765   \n",
       "...                                   ...          ...             ...   \n",
       "29918   All My Love (feat. Conor Maynard)    Cash Cash         4273200   \n",
       "30391                           Explícale       Yandel         3100361   \n",
       "30759                         UP IN SMOKE          RIN         5126611   \n",
       "30949       Vermissen (feat. Henning May)         Juju         5164410   \n",
       "30962                             Vintage          RIN         4947824   \n",
       "\n",
       "       danceability  energy  loudness  speechiness  acousticness  \\\n",
       "20440         0.614   0.660    -2.848        0.044         0.190   \n",
       "17596         0.577   0.522    -6.594        0.098         0.130   \n",
       "2485          0.665   0.498    -8.185        0.083         0.228   \n",
       "21433         0.680   0.578    -5.804        0.040         0.331   \n",
       "10002         0.833   0.539    -7.399        0.178         0.163   \n",
       "...             ...     ...       ...          ...           ...   \n",
       "29918         0.590   0.871    -3.353        0.089         0.148   \n",
       "30391         0.808   0.690    -4.151        0.148         0.058   \n",
       "30759         0.791   0.663    -5.655        0.153         0.235   \n",
       "30949         0.718   0.667    -5.008        0.055         0.169   \n",
       "30962         0.821   0.767    -4.934        0.275         0.105   \n",
       "\n",
       "       instrumentalness  liveness  valence    tempo  duration  time_signature  \\\n",
       "20440             0.000     0.211    0.452  145.010    245267             4.0   \n",
       "17596             0.000     0.142    0.119  159.772    218320             4.0   \n",
       "2485              0.000     0.076    0.127   81.967    179613             4.0   \n",
       "21433             0.000     0.135    0.341  145.038    231267             4.0   \n",
       "10002             0.000     0.101    0.385   99.947    149520             4.0   \n",
       "...                 ...       ...      ...      ...       ...             ...   \n",
       "29918             0.000     0.074    0.304  134.956    191331             4.0   \n",
       "30391             0.000     0.103    0.640  125.086    223147             4.0   \n",
       "30759             0.000     0.117    0.314   77.494    174600             4.0   \n",
       "30949             0.000     0.067    0.480   89.029    161882             4.0   \n",
       "30962             0.004     0.117    0.698  159.959    167217             4.0   \n",
       "\n",
       "                         id_y  popularity_score  num_of_followers  \n",
       "20440  246dkjvS1zLTtiykXe5h60             100.0        20854501.0  \n",
       "17596  246dkjvS1zLTtiykXe5h60             100.0        20854501.0  \n",
       "2485   246dkjvS1zLTtiykXe5h60             100.0        20854501.0  \n",
       "21433  246dkjvS1zLTtiykXe5h60             100.0        20854501.0  \n",
       "10002  246dkjvS1zLTtiykXe5h60             100.0        20854501.0  \n",
       "...                       ...               ...               ...  \n",
       "29918                     NaN               NaN               NaN  \n",
       "30391                     NaN               NaN               NaN  \n",
       "30759                     NaN               NaN               NaN  \n",
       "30949                     NaN               NaN               NaN  \n",
       "30962                     NaN               NaN               NaN  \n",
       "\n",
       "[30995 rows x 20 columns]"
      ]
     },
     "execution_count": 540,
     "metadata": {},
     "output_type": "execute_result"
    }
   ],
   "source": [
    "df_master.sort_values('popularity_score', ascending = False)"
   ]
  },
  {
   "cell_type": "markdown",
   "metadata": {},
   "source": [
    "Dropping NaN's from popularity score"
   ]
  },
  {
   "cell_type": "code",
   "execution_count": 541,
   "metadata": {},
   "outputs": [],
   "source": [
    "pop_score = df_master['popularity_score'].dropna()"
   ]
  },
  {
   "cell_type": "code",
   "execution_count": 542,
   "metadata": {},
   "outputs": [],
   "source": [
    "acousticness = df_master['acousticness']"
   ]
  },
  {
   "cell_type": "code",
   "execution_count": 543,
   "metadata": {
    "scrolled": true
   },
   "outputs": [
    {
     "data": {
      "text/html": [
       "<div>\n",
       "<style scoped>\n",
       "    .dataframe tbody tr th:only-of-type {\n",
       "        vertical-align: middle;\n",
       "    }\n",
       "\n",
       "    .dataframe tbody tr th {\n",
       "        vertical-align: top;\n",
       "    }\n",
       "\n",
       "    .dataframe thead th {\n",
       "        text-align: right;\n",
       "    }\n",
       "</style>\n",
       "<table border=\"1\" class=\"dataframe\">\n",
       "  <thead>\n",
       "    <tr style=\"text-align: right;\">\n",
       "      <th></th>\n",
       "      <th>Unnamed: 0</th>\n",
       "      <th>id</th>\n",
       "      <th>week_of</th>\n",
       "      <th>chart_position</th>\n",
       "      <th>track_name</th>\n",
       "      <th>artist</th>\n",
       "      <th>num_of_streams</th>\n",
       "      <th>num_times</th>\n",
       "      <th>danceability</th>\n",
       "      <th>energy</th>\n",
       "      <th>loudness</th>\n",
       "      <th>speechiness</th>\n",
       "      <th>acousticness</th>\n",
       "      <th>instrumentalness</th>\n",
       "      <th>liveness</th>\n",
       "      <th>valence</th>\n",
       "      <th>tempo</th>\n",
       "      <th>duration</th>\n",
       "      <th>time_signature</th>\n",
       "    </tr>\n",
       "  </thead>\n",
       "  <tbody>\n",
       "    <tr>\n",
       "      <th>1823</th>\n",
       "      <td>1823</td>\n",
       "      <td>4tHqQMWSqmL6YjXwsqthDI</td>\n",
       "      <td>16</td>\n",
       "      <td>123</td>\n",
       "      <td>Carol of the Bells</td>\n",
       "      <td>Mykola Dmytrovych Leontovych</td>\n",
       "      <td>7362398</td>\n",
       "      <td>6</td>\n",
       "      <td>0.418</td>\n",
       "      <td>0.106</td>\n",
       "      <td>-22.507</td>\n",
       "      <td>0.045</td>\n",
       "      <td>0.994</td>\n",
       "      <td>0.029</td>\n",
       "      <td>0.179</td>\n",
       "      <td>0.800</td>\n",
       "      <td>46.718</td>\n",
       "      <td>85267</td>\n",
       "      <td>4.0</td>\n",
       "    </tr>\n",
       "    <tr>\n",
       "      <th>322</th>\n",
       "      <td>322</td>\n",
       "      <td>0Uv5Kp8sEnriJjkX4oLfNI</td>\n",
       "      <td>8</td>\n",
       "      <td>127</td>\n",
       "      <td>Paul - Skit</td>\n",
       "      <td>Paul Rosenberg</td>\n",
       "      <td>5139520</td>\n",
       "      <td>2</td>\n",
       "      <td>0.636</td>\n",
       "      <td>0.335</td>\n",
       "      <td>-13.327</td>\n",
       "      <td>0.966</td>\n",
       "      <td>0.993</td>\n",
       "      <td>0.000</td>\n",
       "      <td>0.342</td>\n",
       "      <td>0.561</td>\n",
       "      <td>161.680</td>\n",
       "      <td>35240</td>\n",
       "      <td>4.0</td>\n",
       "    </tr>\n",
       "    <tr>\n",
       "      <th>1351</th>\n",
       "      <td>1351</td>\n",
       "      <td>3ITvHA9zhZZdBJsOsAUegF</td>\n",
       "      <td>2</td>\n",
       "      <td>116</td>\n",
       "      <td>Amorfoda</td>\n",
       "      <td>Bad Bunny</td>\n",
       "      <td>5573531</td>\n",
       "      <td>17</td>\n",
       "      <td>0.742</td>\n",
       "      <td>0.432</td>\n",
       "      <td>-7.539</td>\n",
       "      <td>0.062</td>\n",
       "      <td>0.984</td>\n",
       "      <td>0.000</td>\n",
       "      <td>0.080</td>\n",
       "      <td>0.252</td>\n",
       "      <td>148.005</td>\n",
       "      <td>155676</td>\n",
       "      <td>3.0</td>\n",
       "    </tr>\n",
       "    <tr>\n",
       "      <th>415</th>\n",
       "      <td>415</td>\n",
       "      <td>14JzyD6FlBD5z0wV5P07YI</td>\n",
       "      <td>5</td>\n",
       "      <td>51</td>\n",
       "      <td>when the party's over</td>\n",
       "      <td>Billie Eilish</td>\n",
       "      <td>9681823</td>\n",
       "      <td>23</td>\n",
       "      <td>0.498</td>\n",
       "      <td>0.104</td>\n",
       "      <td>-14.080</td>\n",
       "      <td>0.062</td>\n",
       "      <td>0.979</td>\n",
       "      <td>0.000</td>\n",
       "      <td>0.090</td>\n",
       "      <td>0.205</td>\n",
       "      <td>124.001</td>\n",
       "      <td>199931</td>\n",
       "      <td>3.0</td>\n",
       "    </tr>\n",
       "    <tr>\n",
       "      <th>842</th>\n",
       "      <td>842</td>\n",
       "      <td>299lFlaAsNQdgbIZNPmIA0</td>\n",
       "      <td>88</td>\n",
       "      <td>127</td>\n",
       "      <td>Christmas Time Is Here - Vocal</td>\n",
       "      <td>Vince Guaraldi Trio</td>\n",
       "      <td>5457722</td>\n",
       "      <td>1</td>\n",
       "      <td>0.388</td>\n",
       "      <td>0.145</td>\n",
       "      <td>-19.697</td>\n",
       "      <td>0.032</td>\n",
       "      <td>0.978</td>\n",
       "      <td>0.000</td>\n",
       "      <td>0.100</td>\n",
       "      <td>0.091</td>\n",
       "      <td>75.474</td>\n",
       "      <td>166387</td>\n",
       "      <td>3.0</td>\n",
       "    </tr>\n",
       "    <tr>\n",
       "      <th>...</th>\n",
       "      <td>...</td>\n",
       "      <td>...</td>\n",
       "      <td>...</td>\n",
       "      <td>...</td>\n",
       "      <td>...</td>\n",
       "      <td>...</td>\n",
       "      <td>...</td>\n",
       "      <td>...</td>\n",
       "      <td>...</td>\n",
       "      <td>...</td>\n",
       "      <td>...</td>\n",
       "      <td>...</td>\n",
       "      <td>...</td>\n",
       "      <td>...</td>\n",
       "      <td>...</td>\n",
       "      <td>...</td>\n",
       "      <td>...</td>\n",
       "      <td>...</td>\n",
       "      <td>...</td>\n",
       "    </tr>\n",
       "    <tr>\n",
       "      <th>1257</th>\n",
       "      <td>1257</td>\n",
       "      <td>3agtg0x11wPvLIWkYR39nZ</td>\n",
       "      <td>105</td>\n",
       "      <td>138</td>\n",
       "      <td>Somewhere I Belong</td>\n",
       "      <td>Linkin Park</td>\n",
       "      <td>4067269</td>\n",
       "      <td>1</td>\n",
       "      <td>0.451</td>\n",
       "      <td>0.951</td>\n",
       "      <td>-3.754</td>\n",
       "      <td>0.065</td>\n",
       "      <td>0.000</td>\n",
       "      <td>0.000</td>\n",
       "      <td>0.261</td>\n",
       "      <td>0.442</td>\n",
       "      <td>162.065</td>\n",
       "      <td>213933</td>\n",
       "      <td>4.0</td>\n",
       "    </tr>\n",
       "    <tr>\n",
       "      <th>1832</th>\n",
       "      <td>1832</td>\n",
       "      <td>4U9arGcc4ATa7shChhLQP0</td>\n",
       "      <td>135</td>\n",
       "      <td>199</td>\n",
       "      <td>Walk On Water</td>\n",
       "      <td>Thirty Seconds To Mars</td>\n",
       "      <td>3278983</td>\n",
       "      <td>1</td>\n",
       "      <td>0.494</td>\n",
       "      <td>0.778</td>\n",
       "      <td>-7.041</td>\n",
       "      <td>0.036</td>\n",
       "      <td>0.000</td>\n",
       "      <td>0.000</td>\n",
       "      <td>0.090</td>\n",
       "      <td>0.406</td>\n",
       "      <td>139.963</td>\n",
       "      <td>188228</td>\n",
       "      <td>4.0</td>\n",
       "    </tr>\n",
       "    <tr>\n",
       "      <th>1148</th>\n",
       "      <td>1148</td>\n",
       "      <td>2wOXxtHZgRkkrkEbKLzzqs</td>\n",
       "      <td>44</td>\n",
       "      <td>161</td>\n",
       "      <td>1.5</td>\n",
       "      <td>21 Savage</td>\n",
       "      <td>5894178</td>\n",
       "      <td>1</td>\n",
       "      <td>0.885</td>\n",
       "      <td>0.520</td>\n",
       "      <td>-8.353</td>\n",
       "      <td>0.359</td>\n",
       "      <td>0.000</td>\n",
       "      <td>0.000</td>\n",
       "      <td>0.454</td>\n",
       "      <td>0.306</td>\n",
       "      <td>84.022</td>\n",
       "      <td>148656</td>\n",
       "      <td>4.0</td>\n",
       "    </tr>\n",
       "    <tr>\n",
       "      <th>1063</th>\n",
       "      <td>1063</td>\n",
       "      <td>2QpGZOhTCHHiKmpSO9FW4h</td>\n",
       "      <td>57</td>\n",
       "      <td>11</td>\n",
       "      <td>Follow God</td>\n",
       "      <td>Kanye West</td>\n",
       "      <td>17466061</td>\n",
       "      <td>6</td>\n",
       "      <td>0.529</td>\n",
       "      <td>0.900</td>\n",
       "      <td>-3.503</td>\n",
       "      <td>0.418</td>\n",
       "      <td>0.000</td>\n",
       "      <td>0.000</td>\n",
       "      <td>0.043</td>\n",
       "      <td>0.434</td>\n",
       "      <td>180.291</td>\n",
       "      <td>104591</td>\n",
       "      <td>4.0</td>\n",
       "    </tr>\n",
       "    <tr>\n",
       "      <th>2902</th>\n",
       "      <td>2902</td>\n",
       "      <td>7KXjTSCq5nL1LoYtL7XAwS</td>\n",
       "      <td>2</td>\n",
       "      <td>106</td>\n",
       "      <td>HUMBLE.</td>\n",
       "      <td>Kendrick Lamar</td>\n",
       "      <td>5831911</td>\n",
       "      <td>93</td>\n",
       "      <td>0.908</td>\n",
       "      <td>0.621</td>\n",
       "      <td>-6.638</td>\n",
       "      <td>0.102</td>\n",
       "      <td>0.000</td>\n",
       "      <td>0.000</td>\n",
       "      <td>0.096</td>\n",
       "      <td>0.421</td>\n",
       "      <td>150.011</td>\n",
       "      <td>177000</td>\n",
       "      <td>4.0</td>\n",
       "    </tr>\n",
       "  </tbody>\n",
       "</table>\n",
       "<p>3024 rows × 19 columns</p>\n",
       "</div>"
      ],
      "text/plain": [
       "      Unnamed: 0                      id  week_of  chart_position  \\\n",
       "1823        1823  4tHqQMWSqmL6YjXwsqthDI       16             123   \n",
       "322          322  0Uv5Kp8sEnriJjkX4oLfNI        8             127   \n",
       "1351        1351  3ITvHA9zhZZdBJsOsAUegF        2             116   \n",
       "415          415  14JzyD6FlBD5z0wV5P07YI        5              51   \n",
       "842          842  299lFlaAsNQdgbIZNPmIA0       88             127   \n",
       "...          ...                     ...      ...             ...   \n",
       "1257        1257  3agtg0x11wPvLIWkYR39nZ      105             138   \n",
       "1832        1832  4U9arGcc4ATa7shChhLQP0      135             199   \n",
       "1148        1148  2wOXxtHZgRkkrkEbKLzzqs       44             161   \n",
       "1063        1063  2QpGZOhTCHHiKmpSO9FW4h       57              11   \n",
       "2902        2902  7KXjTSCq5nL1LoYtL7XAwS        2             106   \n",
       "\n",
       "                          track_name                        artist  \\\n",
       "1823              Carol of the Bells  Mykola Dmytrovych Leontovych   \n",
       "322                      Paul - Skit                Paul Rosenberg   \n",
       "1351                        Amorfoda                     Bad Bunny   \n",
       "415            when the party's over                 Billie Eilish   \n",
       "842   Christmas Time Is Here - Vocal           Vince Guaraldi Trio   \n",
       "...                              ...                           ...   \n",
       "1257              Somewhere I Belong                   Linkin Park   \n",
       "1832                   Walk On Water        Thirty Seconds To Mars   \n",
       "1148                             1.5                     21 Savage   \n",
       "1063                      Follow God                    Kanye West   \n",
       "2902                         HUMBLE.                Kendrick Lamar   \n",
       "\n",
       "      num_of_streams  num_times  danceability  energy  loudness  speechiness  \\\n",
       "1823         7362398          6         0.418   0.106   -22.507        0.045   \n",
       "322          5139520          2         0.636   0.335   -13.327        0.966   \n",
       "1351         5573531         17         0.742   0.432    -7.539        0.062   \n",
       "415          9681823         23         0.498   0.104   -14.080        0.062   \n",
       "842          5457722          1         0.388   0.145   -19.697        0.032   \n",
       "...              ...        ...           ...     ...       ...          ...   \n",
       "1257         4067269          1         0.451   0.951    -3.754        0.065   \n",
       "1832         3278983          1         0.494   0.778    -7.041        0.036   \n",
       "1148         5894178          1         0.885   0.520    -8.353        0.359   \n",
       "1063        17466061          6         0.529   0.900    -3.503        0.418   \n",
       "2902         5831911         93         0.908   0.621    -6.638        0.102   \n",
       "\n",
       "      acousticness  instrumentalness  liveness  valence    tempo  duration  \\\n",
       "1823         0.994             0.029     0.179    0.800   46.718     85267   \n",
       "322          0.993             0.000     0.342    0.561  161.680     35240   \n",
       "1351         0.984             0.000     0.080    0.252  148.005    155676   \n",
       "415          0.979             0.000     0.090    0.205  124.001    199931   \n",
       "842          0.978             0.000     0.100    0.091   75.474    166387   \n",
       "...            ...               ...       ...      ...      ...       ...   \n",
       "1257         0.000             0.000     0.261    0.442  162.065    213933   \n",
       "1832         0.000             0.000     0.090    0.406  139.963    188228   \n",
       "1148         0.000             0.000     0.454    0.306   84.022    148656   \n",
       "1063         0.000             0.000     0.043    0.434  180.291    104591   \n",
       "2902         0.000             0.000     0.096    0.421  150.011    177000   \n",
       "\n",
       "      time_signature  \n",
       "1823             4.0  \n",
       "322              4.0  \n",
       "1351             3.0  \n",
       "415              3.0  \n",
       "842              3.0  \n",
       "...              ...  \n",
       "1257             4.0  \n",
       "1832             4.0  \n",
       "1148             4.0  \n",
       "1063             4.0  \n",
       "2902             4.0  \n",
       "\n",
       "[3024 rows x 19 columns]"
      ]
     },
     "execution_count": 543,
     "metadata": {},
     "output_type": "execute_result"
    }
   ],
   "source": [
    "df_unique.sort_values('acousticness', ascending = False)"
   ]
  },
  {
   "cell_type": "code",
   "execution_count": 544,
   "metadata": {},
   "outputs": [],
   "source": [
    "df_unique.drop('Unnamed: 0', axis =1, inplace=True)\n"
   ]
  },
  {
   "cell_type": "code",
   "execution_count": 545,
   "metadata": {
    "scrolled": true
   },
   "outputs": [
    {
     "data": {
      "text/plain": [
       "264"
      ]
     },
     "execution_count": 545,
     "metadata": {},
     "output_type": "execute_result"
    }
   ],
   "source": [
    "df_master.isnull().sum().sum()"
   ]
  },
  {
   "cell_type": "code",
   "execution_count": 546,
   "metadata": {},
   "outputs": [],
   "source": [
    "df_master.dropna(inplace=True)"
   ]
  },
  {
   "cell_type": "markdown",
   "metadata": {},
   "source": [
    "## Visualizations"
   ]
  },
  {
   "cell_type": "markdown",
   "metadata": {},
   "source": [
    "Checking the popularity of songs based on the weighted features of each song"
   ]
  },
  {
   "cell_type": "code",
   "execution_count": 547,
   "metadata": {},
   "outputs": [
    {
     "data": {
      "image/png": "[encoded data removed]",
      "text/plain": [
       "<Figure size 720x432 with 1 Axes>"
      ]
     },
     "metadata": {},
     "output_type": "display_data"
    }
   ],
   "source": [
    "fig, ax = plt.subplots(figsize=[10,6])\n",
    "sns.kdeplot(df_unique['danceability'])\n",
    "sns.kdeplot(df_unique['energy'])\n",
    "sns.kdeplot(df_unique['liveness'])\n",
    "sns.kdeplot(df_unique['valence'])\n",
    "sns.kdeplot(df_unique['acousticness'])\n",
    "sns.kdeplot(df_unique['instrumentalness'])\n",
    "sns.kdeplot(df_unique['speechiness'])\n",
    "plt.title('Song Feature Weighted vs Popularity')\n",
    "plt.show()\n",
    "\n",
    "# because x is 0 and there is not much instrumentalness, there were a lot of top 200 songs with no instru\n",
    "# Y axis is in the thousands and x axis is the feature number"
   ]
  },
  {
   "cell_type": "markdown",
   "metadata": {},
   "source": [
    "Creating the Top 10 for song positions on the music charts"
   ]
  },
  {
   "cell_type": "code",
   "execution_count": 548,
   "metadata": {},
   "outputs": [],
   "source": [
    "top_ten = df_unique[df_unique['chart_position']<=10]"
   ]
  },
  {
   "cell_type": "code",
   "execution_count": 549,
   "metadata": {
    "scrolled": true
   },
   "outputs": [
    {
     "data": {
      "text/html": [
       "<div>\n",
       "<style scoped>\n",
       "    .dataframe tbody tr th:only-of-type {\n",
       "        vertical-align: middle;\n",
       "    }\n",
       "\n",
       "    .dataframe tbody tr th {\n",
       "        vertical-align: top;\n",
       "    }\n",
       "\n",
       "    .dataframe thead th {\n",
       "        text-align: right;\n",
       "    }\n",
       "</style>\n",
       "<table border=\"1\" class=\"dataframe\">\n",
       "  <thead>\n",
       "    <tr style=\"text-align: right;\">\n",
       "      <th></th>\n",
       "      <th>id</th>\n",
       "      <th>week_of</th>\n",
       "      <th>chart_position</th>\n",
       "      <th>track_name</th>\n",
       "      <th>artist</th>\n",
       "      <th>num_of_streams</th>\n",
       "      <th>num_times</th>\n",
       "      <th>danceability</th>\n",
       "      <th>energy</th>\n",
       "      <th>loudness</th>\n",
       "      <th>speechiness</th>\n",
       "      <th>acousticness</th>\n",
       "      <th>instrumentalness</th>\n",
       "      <th>liveness</th>\n",
       "      <th>valence</th>\n",
       "      <th>tempo</th>\n",
       "      <th>duration</th>\n",
       "      <th>time_signature</th>\n",
       "    </tr>\n",
       "  </thead>\n",
       "  <tbody>\n",
       "    <tr>\n",
       "      <th>2954</th>\n",
       "      <td>7qiZfU4dY1lWllzX7mPBI3</td>\n",
       "      <td>0</td>\n",
       "      <td>1</td>\n",
       "      <td>Shape of You</td>\n",
       "      <td>Ed Sheeran</td>\n",
       "      <td>64275251</td>\n",
       "      <td>153</td>\n",
       "      <td>0.825</td>\n",
       "      <td>0.652</td>\n",
       "      <td>-3.183</td>\n",
       "      <td>0.080</td>\n",
       "      <td>0.581</td>\n",
       "      <td>0.000</td>\n",
       "      <td>0.093</td>\n",
       "      <td>0.931</td>\n",
       "      <td>95.977</td>\n",
       "      <td>233713</td>\n",
       "      <td>4.0</td>\n",
       "    </tr>\n",
       "    <tr>\n",
       "      <th>297</th>\n",
       "      <td>0tgVpDi06FyKpA1z0VMD4v</td>\n",
       "      <td>0</td>\n",
       "      <td>7</td>\n",
       "      <td>Perfect</td>\n",
       "      <td>Ed Sheeran</td>\n",
       "      <td>24795623</td>\n",
       "      <td>144</td>\n",
       "      <td>0.599</td>\n",
       "      <td>0.448</td>\n",
       "      <td>-6.312</td>\n",
       "      <td>0.023</td>\n",
       "      <td>0.163</td>\n",
       "      <td>0.000</td>\n",
       "      <td>0.106</td>\n",
       "      <td>0.168</td>\n",
       "      <td>95.050</td>\n",
       "      <td>263400</td>\n",
       "      <td>3.0</td>\n",
       "    </tr>\n",
       "    <tr>\n",
       "      <th>2580</th>\n",
       "      <td>6RUKPb4LETWmmr3iAEQktW</td>\n",
       "      <td>0</td>\n",
       "      <td>5</td>\n",
       "      <td>Something Just Like This</td>\n",
       "      <td>The Chainsmokers</td>\n",
       "      <td>30048981</td>\n",
       "      <td>125</td>\n",
       "      <td>0.617</td>\n",
       "      <td>0.635</td>\n",
       "      <td>-6.769</td>\n",
       "      <td>0.032</td>\n",
       "      <td>0.050</td>\n",
       "      <td>0.000</td>\n",
       "      <td>0.164</td>\n",
       "      <td>0.446</td>\n",
       "      <td>103.019</td>\n",
       "      <td>247160</td>\n",
       "      <td>4.0</td>\n",
       "    </tr>\n",
       "    <tr>\n",
       "      <th>1089</th>\n",
       "      <td>2RttW7RAu5nOAfq6YFvApB</td>\n",
       "      <td>0</td>\n",
       "      <td>10</td>\n",
       "      <td>Happier</td>\n",
       "      <td>Ed Sheeran</td>\n",
       "      <td>23574465</td>\n",
       "      <td>89</td>\n",
       "      <td>0.522</td>\n",
       "      <td>0.385</td>\n",
       "      <td>-7.355</td>\n",
       "      <td>0.029</td>\n",
       "      <td>0.536</td>\n",
       "      <td>0.000</td>\n",
       "      <td>0.135</td>\n",
       "      <td>0.236</td>\n",
       "      <td>89.792</td>\n",
       "      <td>207520</td>\n",
       "      <td>4.0</td>\n",
       "    </tr>\n",
       "    <tr>\n",
       "      <th>2810</th>\n",
       "      <td>7dt6x5M1jzdTEt8oCbisTK</td>\n",
       "      <td>2</td>\n",
       "      <td>2</td>\n",
       "      <td>Better Now</td>\n",
       "      <td>Post Malone</td>\n",
       "      <td>32111555</td>\n",
       "      <td>87</td>\n",
       "      <td>0.680</td>\n",
       "      <td>0.578</td>\n",
       "      <td>-5.804</td>\n",
       "      <td>0.040</td>\n",
       "      <td>0.331</td>\n",
       "      <td>0.000</td>\n",
       "      <td>0.135</td>\n",
       "      <td>0.341</td>\n",
       "      <td>145.038</td>\n",
       "      <td>231267</td>\n",
       "      <td>4.0</td>\n",
       "    </tr>\n",
       "    <tr>\n",
       "      <th>...</th>\n",
       "      <td>...</td>\n",
       "      <td>...</td>\n",
       "      <td>...</td>\n",
       "      <td>...</td>\n",
       "      <td>...</td>\n",
       "      <td>...</td>\n",
       "      <td>...</td>\n",
       "      <td>...</td>\n",
       "      <td>...</td>\n",
       "      <td>...</td>\n",
       "      <td>...</td>\n",
       "      <td>...</td>\n",
       "      <td>...</td>\n",
       "      <td>...</td>\n",
       "      <td>...</td>\n",
       "      <td>...</td>\n",
       "      <td>...</td>\n",
       "      <td>...</td>\n",
       "    </tr>\n",
       "    <tr>\n",
       "      <th>2714</th>\n",
       "      <td>72Q0FQQo32KJloivv5xge2</td>\n",
       "      <td>78</td>\n",
       "      <td>2</td>\n",
       "      <td>I'm the One</td>\n",
       "      <td>DJ Khaled</td>\n",
       "      <td>33067187</td>\n",
       "      <td>1</td>\n",
       "      <td>0.599</td>\n",
       "      <td>0.667</td>\n",
       "      <td>-4.267</td>\n",
       "      <td>0.037</td>\n",
       "      <td>0.053</td>\n",
       "      <td>0.000</td>\n",
       "      <td>0.134</td>\n",
       "      <td>0.817</td>\n",
       "      <td>80.984</td>\n",
       "      <td>288877</td>\n",
       "      <td>4.0</td>\n",
       "    </tr>\n",
       "    <tr>\n",
       "      <th>1850</th>\n",
       "      <td>4VginDwYTP2eaHJzO0QMjG</td>\n",
       "      <td>153</td>\n",
       "      <td>2</td>\n",
       "      <td>Circles</td>\n",
       "      <td>Post Malone</td>\n",
       "      <td>32068232</td>\n",
       "      <td>1</td>\n",
       "      <td>0.704</td>\n",
       "      <td>0.758</td>\n",
       "      <td>-3.537</td>\n",
       "      <td>0.040</td>\n",
       "      <td>0.233</td>\n",
       "      <td>0.001</td>\n",
       "      <td>0.092</td>\n",
       "      <td>0.534</td>\n",
       "      <td>120.003</td>\n",
       "      <td>214907</td>\n",
       "      <td>4.0</td>\n",
       "    </tr>\n",
       "    <tr>\n",
       "      <th>2618</th>\n",
       "      <td>6UFEJuDXQMWhL5UH5f9fUR</td>\n",
       "      <td>98</td>\n",
       "      <td>7</td>\n",
       "      <td>Enemies (feat. DaBaby)</td>\n",
       "      <td>Post Malone</td>\n",
       "      <td>25861671</td>\n",
       "      <td>1</td>\n",
       "      <td>0.542</td>\n",
       "      <td>0.674</td>\n",
       "      <td>-4.169</td>\n",
       "      <td>0.210</td>\n",
       "      <td>0.059</td>\n",
       "      <td>0.000</td>\n",
       "      <td>0.096</td>\n",
       "      <td>0.667</td>\n",
       "      <td>76.388</td>\n",
       "      <td>196760</td>\n",
       "      <td>4.0</td>\n",
       "    </tr>\n",
       "    <tr>\n",
       "      <th>1886</th>\n",
       "      <td>4Yq3XUNfWrAPWuB94qkC09</td>\n",
       "      <td>98</td>\n",
       "      <td>6</td>\n",
       "      <td>Take What You Want (feat. Ozzy Osbourne &amp; Trav...</td>\n",
       "      <td>Post Malone</td>\n",
       "      <td>27875018</td>\n",
       "      <td>1</td>\n",
       "      <td>0.499</td>\n",
       "      <td>0.800</td>\n",
       "      <td>-2.665</td>\n",
       "      <td>0.050</td>\n",
       "      <td>0.091</td>\n",
       "      <td>0.000</td>\n",
       "      <td>0.147</td>\n",
       "      <td>0.272</td>\n",
       "      <td>139.919</td>\n",
       "      <td>229573</td>\n",
       "      <td>4.0</td>\n",
       "    </tr>\n",
       "    <tr>\n",
       "      <th>3004</th>\n",
       "      <td>7wrDRQgHlvDnimrRHfQZxt</td>\n",
       "      <td>132</td>\n",
       "      <td>5</td>\n",
       "      <td>Psycho (feat. Ty Dolla $ign)</td>\n",
       "      <td>Post Malone</td>\n",
       "      <td>26119695</td>\n",
       "      <td>1</td>\n",
       "      <td>0.748</td>\n",
       "      <td>0.546</td>\n",
       "      <td>-8.134</td>\n",
       "      <td>0.106</td>\n",
       "      <td>0.590</td>\n",
       "      <td>0.000</td>\n",
       "      <td>0.112</td>\n",
       "      <td>0.413</td>\n",
       "      <td>140.005</td>\n",
       "      <td>220880</td>\n",
       "      <td>4.0</td>\n",
       "    </tr>\n",
       "  </tbody>\n",
       "</table>\n",
       "<p>89 rows × 18 columns</p>\n",
       "</div>"
      ],
      "text/plain": [
       "                          id  week_of  chart_position  \\\n",
       "2954  7qiZfU4dY1lWllzX7mPBI3        0               1   \n",
       "297   0tgVpDi06FyKpA1z0VMD4v        0               7   \n",
       "2580  6RUKPb4LETWmmr3iAEQktW        0               5   \n",
       "1089  2RttW7RAu5nOAfq6YFvApB        0              10   \n",
       "2810  7dt6x5M1jzdTEt8oCbisTK        2               2   \n",
       "...                      ...      ...             ...   \n",
       "2714  72Q0FQQo32KJloivv5xge2       78               2   \n",
       "1850  4VginDwYTP2eaHJzO0QMjG      153               2   \n",
       "2618  6UFEJuDXQMWhL5UH5f9fUR       98               7   \n",
       "1886  4Yq3XUNfWrAPWuB94qkC09       98               6   \n",
       "3004  7wrDRQgHlvDnimrRHfQZxt      132               5   \n",
       "\n",
       "                                             track_name            artist  \\\n",
       "2954                                       Shape of You        Ed Sheeran   \n",
       "297                                             Perfect        Ed Sheeran   \n",
       "2580                           Something Just Like This  The Chainsmokers   \n",
       "1089                                            Happier        Ed Sheeran   \n",
       "2810                                         Better Now       Post Malone   \n",
       "...                                                 ...               ...   \n",
       "2714                                        I'm the One         DJ Khaled   \n",
       "1850                                            Circles       Post Malone   \n",
       "2618                             Enemies (feat. DaBaby)       Post Malone   \n",
       "1886  Take What You Want (feat. Ozzy Osbourne & Trav...       Post Malone   \n",
       "3004                       Psycho (feat. Ty Dolla $ign)       Post Malone   \n",
       "\n",
       "      num_of_streams  num_times  danceability  energy  loudness  speechiness  \\\n",
       "2954        64275251        153         0.825   0.652    -3.183        0.080   \n",
       "297         24795623        144         0.599   0.448    -6.312        0.023   \n",
       "2580        30048981        125         0.617   0.635    -6.769        0.032   \n",
       "1089        23574465         89         0.522   0.385    -7.355        0.029   \n",
       "2810        32111555         87         0.680   0.578    -5.804        0.040   \n",
       "...              ...        ...           ...     ...       ...          ...   \n",
       "2714        33067187          1         0.599   0.667    -4.267        0.037   \n",
       "1850        32068232          1         0.704   0.758    -3.537        0.040   \n",
       "2618        25861671          1         0.542   0.674    -4.169        0.210   \n",
       "1886        27875018          1         0.499   0.800    -2.665        0.050   \n",
       "3004        26119695          1         0.748   0.546    -8.134        0.106   \n",
       "\n",
       "      acousticness  instrumentalness  liveness  valence    tempo  duration  \\\n",
       "2954         0.581             0.000     0.093    0.931   95.977    233713   \n",
       "297          0.163             0.000     0.106    0.168   95.050    263400   \n",
       "2580         0.050             0.000     0.164    0.446  103.019    247160   \n",
       "1089         0.536             0.000     0.135    0.236   89.792    207520   \n",
       "2810         0.331             0.000     0.135    0.341  145.038    231267   \n",
       "...            ...               ...       ...      ...      ...       ...   \n",
       "2714         0.053             0.000     0.134    0.817   80.984    288877   \n",
       "1850         0.233             0.001     0.092    0.534  120.003    214907   \n",
       "2618         0.059             0.000     0.096    0.667   76.388    196760   \n",
       "1886         0.091             0.000     0.147    0.272  139.919    229573   \n",
       "3004         0.590             0.000     0.112    0.413  140.005    220880   \n",
       "\n",
       "      time_signature  \n",
       "2954             4.0  \n",
       "297              3.0  \n",
       "2580             4.0  \n",
       "1089             4.0  \n",
       "2810             4.0  \n",
       "...              ...  \n",
       "2714             4.0  \n",
       "1850             4.0  \n",
       "2618             4.0  \n",
       "1886             4.0  \n",
       "3004             4.0  \n",
       "\n",
       "[89 rows x 18 columns]"
      ]
     },
     "execution_count": 549,
     "metadata": {},
     "output_type": "execute_result"
    }
   ],
   "source": [
    "top_ten.sort_values('num_times', ascending = False)"
   ]
  },
  {
   "cell_type": "markdown",
   "metadata": {},
   "source": [
    "Visualizing the Top 200 songs compared to the Top 10 songs in regards to the feature Danceability"
   ]
  },
  {
   "cell_type": "code",
   "execution_count": 550,
   "metadata": {},
   "outputs": [
    {
     "data": {
      "image/png": "[encoded data removed]",
      "text/plain": [
       "<Figure size 720x432 with 1 Axes>"
      ]
     },
     "metadata": {},
     "output_type": "display_data"
    }
   ],
   "source": [
    "fig, ax = plt.subplots(figsize=[10,6])\n",
    "sns.kdeplot(top_ten['danceability'], label = 'top 10')\n",
    "sns.kdeplot(df_unique['danceability'], label = 'top 200')\n",
    "plt.title('Danceability for Top 20 vs Top 200')\n",
    "plt.show()\n",
    "\n",
    "# Most songs had .8 danceability"
   ]
  },
  {
   "cell_type": "markdown",
   "metadata": {},
   "source": [
    "Visualizing the Top 200 songs compared to the Top 10 songs in regards to the feature Loudness"
   ]
  },
  {
   "cell_type": "code",
   "execution_count": 551,
   "metadata": {},
   "outputs": [
    {
     "data": {
      "image/png": "[encoded data removed]",
      "text/plain": [
       "<Figure size 720x432 with 1 Axes>"
      ]
     },
     "metadata": {},
     "output_type": "display_data"
    }
   ],
   "source": [
    "fig, ax = plt.subplots(figsize=[10,6])\n",
    "sns.kdeplot(top_ten['loudness'], label = 'top 10', color = 'red')\n",
    "sns.kdeplot(df_unique['loudness'], label = 'top 200', color = 'black')\n",
    "plt.title('Loudness of Songs')\n",
    "plt.show()"
   ]
  },
  {
   "cell_type": "markdown",
   "metadata": {},
   "source": [
    "Visualizing the Top 200 songs compared to the Top 10 songs in regards to the feature Liveness"
   ]
  },
  {
   "cell_type": "code",
   "execution_count": 552,
   "metadata": {},
   "outputs": [
    {
     "data": {
      "image/png": "[encoded data removed]",
      "text/plain": [
       "<Figure size 720x432 with 1 Axes>"
      ]
     },
     "metadata": {},
     "output_type": "display_data"
    }
   ],
   "source": [
    "fig, ax = plt.subplots(figsize=[10,6])\n",
    "sns.kdeplot(top_ten['liveness'], label = 'top 10', color = 'red')\n",
    "sns.kdeplot(df_unique['liveness'], label = 'top 200', color = 'blue')\n",
    "plt.title('Liveness of Songs')\n",
    "plt.show()"
   ]
  },
  {
   "cell_type": "code",
   "execution_count": 553,
   "metadata": {},
   "outputs": [
    {
     "data": {
      "text/plain": [
       "(0.10110372509350708, 0.13269716532580722)"
      ]
     },
     "execution_count": 553,
     "metadata": {},
     "output_type": "execute_result"
    }
   ],
   "source": [
    "top_ten['liveness'].std(), df_unique['liveness'].std()\n"
   ]
  },
  {
   "cell_type": "code",
   "execution_count": 554,
   "metadata": {
    "scrolled": true
   },
   "outputs": [
    {
     "data": {
      "image/png": "[encoded data removed]",
      "text/plain": [
       "<Figure size 288x432 with 1 Axes>"
      ]
     },
     "metadata": {},
     "output_type": "display_data"
    }
   ],
   "source": [
    "df_bar = [top_ten['liveness'], df_unique['liveness']]\n",
    "\n",
    "fig, ax = plt.subplots(1,1,figsize=[4,6])\n",
    "sns.barplot(data=df_bar, ax=ax,capsize=.15, lw=1, edgecolor=\".2\", ci=95) # SEM errorbars\n",
    "plt.show()"
   ]
  },
  {
   "cell_type": "markdown",
   "metadata": {},
   "source": [
    "Visualizing the Acousticness of a song compared to the time on the charts"
   ]
  },
  {
   "cell_type": "code",
   "execution_count": 555,
   "metadata": {},
   "outputs": [
    {
     "data": {
      "image/png": "[encoded data removed]",
      "text/plain": [
       "<Figure size 432x468 with 1 Axes>"
      ]
     },
     "metadata": {},
     "output_type": "display_data"
    }
   ],
   "source": [
    "sns.set(style=\"whitegrid\")\n",
    "f, ax = plt.subplots(figsize=(6, 6.5))\n",
    "sns.despine(f, left=True, bottom=True)\n",
    "\n",
    "sns.scatterplot(x= df_unique['acousticness'], y = df_unique['num_times'],\n",
    "                sizes=(1, 8), linewidth=0,\n",
    "                 ax=ax, color = 'lightblue', label = 'top 200')\n",
    "                    \n",
    "sns.scatterplot(x= top_ten['acousticness'], y = top_ten['num_times'],\n",
    "                sizes=(1, 8), linewidth=0,\n",
    "                 ax=ax, color = 'salmon', label = 'top 10')                    \n",
    "plt.title('Acousticness on Charts')\n",
    "plt.show()"
   ]
  },
  {
   "cell_type": "markdown",
   "metadata": {},
   "source": [
    "Visualizing the Danceability of a song compared to the time on the charts"
   ]
  },
  {
   "cell_type": "code",
   "execution_count": 556,
   "metadata": {},
   "outputs": [
    {
     "data": {
      "image/png": "[encoded data removed]",
      "text/plain": [
       "<Figure size 468x468 with 1 Axes>"
      ]
     },
     "metadata": {},
     "output_type": "display_data"
    }
   ],
   "source": [
    "sns.set(style=\"whitegrid\")\n",
    "f, ax = plt.subplots(figsize=(6.5, 6.5))\n",
    "sns.despine(f, left=True, bottom=True)\n",
    "\n",
    "sns.scatterplot(x= df_unique['danceability'], y = df_unique['num_times'],\n",
    "                sizes=(1, 8), linewidth=0,\n",
    "                 ax=ax, color = 'lightblue')\n",
    "                    \n",
    "sns.scatterplot(x= top_ten['danceability'], y = top_ten['num_times'],\n",
    "                sizes=(1, 8), linewidth=0,\n",
    "                 ax=ax, color = 'red')                    \n",
    "plt.title('Danceability vs Times on Charts')\n",
    "plt.show()"
   ]
  },
  {
   "cell_type": "markdown",
   "metadata": {},
   "source": [
    "Visualizing the Tempo of a song compared to the time on the charts"
   ]
  },
  {
   "cell_type": "code",
   "execution_count": 557,
   "metadata": {},
   "outputs": [
    {
     "data": {
      "image/png": "[encoded data removed]",
      "text/plain": [
       "<Figure size 720x468 with 1 Axes>"
      ]
     },
     "metadata": {},
     "output_type": "display_data"
    }
   ],
   "source": [
    "sns.set(style=\"whitegrid\")\n",
    "f, ax = plt.subplots(figsize=(10, 6.5))\n",
    "sns.despine(f, left=True, bottom=True)\n",
    "\n",
    "sns.scatterplot(x= df_unique['tempo'], y = df_unique['num_times'],\n",
    "                sizes=(1, 8), linewidth=0,\n",
    "                 ax=ax, color = 'lightblue')\n",
    "                    \n",
    "sns.scatterplot(x= top_ten['tempo'], y = top_ten['num_times'],\n",
    "                sizes=(1, 8), linewidth=0,\n",
    "                 ax=ax, color = 'red')                    \n",
    "plt.title('Tempo vs Times on Charts')\n",
    "plt.show()"
   ]
  },
  {
   "cell_type": "code",
   "execution_count": 558,
   "metadata": {},
   "outputs": [
    {
     "data": {
      "text/plain": [
       "0.15037078651685398"
      ]
     },
     "execution_count": 558,
     "metadata": {},
     "output_type": "execute_result"
    }
   ],
   "source": [
    "top_live_mean = top_ten['liveness'].mean()\n",
    "top_live_mean"
   ]
  },
  {
   "cell_type": "markdown",
   "metadata": {},
   "source": [
    "## Hypothesis Testing"
   ]
  },
  {
   "cell_type": "markdown",
   "metadata": {},
   "source": [
    "### T Test"
   ]
  },
  {
   "cell_type": "markdown",
   "metadata": {},
   "source": [
    "Top 10 vs Top 200"
   ]
  },
  {
   "cell_type": "markdown",
   "metadata": {},
   "source": [
    "- Ho: There is no difference in acousticness in the Top 10 songs of the Top 200 list\n",
    "\n",
    "- Ha: There is a difference in acousticness in the Top 10 songs of the Top 200 list"
   ]
  },
  {
   "cell_type": "markdown",
   "metadata": {},
   "source": [
    "We fail to reject the Null hypothesis. There is no significant significance "
   ]
  },
  {
   "cell_type": "code",
   "execution_count": 559,
   "metadata": {
    "scrolled": true
   },
   "outputs": [
    {
     "data": {
      "text/plain": [
       "Ttest_1sampResult(statistic=0.482601584482359, pvalue=0.6305769979326019)"
      ]
     },
     "execution_count": 559,
     "metadata": {},
     "output_type": "execute_result"
    }
   ],
   "source": [
    "stats.ttest_1samp(top_ten['acousticness'], df_unique['acousticness'].mean())\n"
   ]
  },
  {
   "cell_type": "markdown",
   "metadata": {},
   "source": [
    "# Baseline Model"
   ]
  },
  {
   "cell_type": "markdown",
   "metadata": {},
   "source": [
    "Creating a baseline model. Going to use F1 score as the chosen metric"
   ]
  },
  {
   "cell_type": "code",
   "execution_count": 560,
   "metadata": {},
   "outputs": [],
   "source": [
    "df_master['Top_10']= np.where(df_master['chart_position']<=10,1,0)"
   ]
  },
  {
   "cell_type": "code",
   "execution_count": 561,
   "metadata": {},
   "outputs": [
    {
     "data": {
      "text/plain": [
       "0    0.949914\n",
       "1    0.050086\n",
       "Name: Top_10, dtype: float64"
      ]
     },
     "execution_count": 561,
     "metadata": {},
     "output_type": "execute_result"
    }
   ],
   "source": [
    "y.value_counts(normalize=True)"
   ]
  },
  {
   "cell_type": "markdown",
   "metadata": {},
   "source": [
    "## Preprocessing"
   ]
  },
  {
   "cell_type": "markdown",
   "metadata": {},
   "source": [
    "Preprocessed data between continuous and categorical variables "
   ]
  },
  {
   "cell_type": "code",
   "execution_count": 562,
   "metadata": {},
   "outputs": [],
   "source": [
    "X = df_master.drop(columns=['Top_10'])\n",
    "y = df_master['Top_10']\n",
    "\n",
    "continuous_columns = ['week_of','chart_position','num_of_streams','danceability','energy','loudness','speechiness','acousticness','instrumentalness','liveness','valence','tempo','duration','time_signature','popularity_score','num_of_followers']\n",
    "categorical_columns = [x for x in X.columns if x not in continuous_columns]\n"
   ]
  },
  {
   "cell_type": "code",
   "execution_count": 563,
   "metadata": {},
   "outputs": [],
   "source": [
    "# train test split\n",
    "X_train, X_test, y_train, y_test = train_test_split(X, y, test_size=0.2, random_state=19)"
   ]
  },
  {
   "cell_type": "markdown",
   "metadata": {},
   "source": [
    "#### One Hot Encoder (Categorical Features)\n"
   ]
  },
  {
   "cell_type": "code",
   "execution_count": 564,
   "metadata": {},
   "outputs": [],
   "source": [
    "ohe = OneHotEncoder(handle_unknown = 'ignore')\n",
    "_X_train_ohe = ohe.fit_transform(X_train[categorical_columns]).toarray()\n",
    "_X_train_ohe_df = pd.DataFrame(data = _X_train_ohe,\n",
    "                        columns = ohe.get_feature_names(categorical_columns))\n",
    "\n",
    "_X_test_ohe = ohe.transform(X_test[categorical_columns]).toarray()\n",
    "_X_test_ohe_df = pd.DataFrame(data = _X_test_ohe,\n",
    "                        columns = ohe.get_feature_names(categorical_columns))"
   ]
  },
  {
   "cell_type": "markdown",
   "metadata": {},
   "source": [
    "#### Standard Scaler (Continuous Features)\n"
   ]
  },
  {
   "cell_type": "code",
   "execution_count": 565,
   "metadata": {},
   "outputs": [],
   "source": [
    "scaler = StandardScaler()\n",
    "_X_train_cont = scaler.fit_transform(X_train[continuous_columns])\n",
    "_X_train_cont_df = pd.DataFrame(data = _X_train_cont,\n",
    "                         columns = continuous_columns)\n",
    "\n",
    "_X_test_cont = scaler.transform(X_test[continuous_columns])\n",
    "_X_test_cont_df = pd.DataFrame(data = _X_test_cont,\n",
    "                         columns = continuous_columns)"
   ]
  },
  {
   "cell_type": "markdown",
   "metadata": {},
   "source": [
    "#### Merge Continuous Features with Categorical Features\n"
   ]
  },
  {
   "cell_type": "code",
   "execution_count": 566,
   "metadata": {},
   "outputs": [
    {
     "data": {
      "text/plain": [
       "(24725, 6453)"
      ]
     },
     "execution_count": 566,
     "metadata": {},
     "output_type": "execute_result"
    }
   ],
   "source": [
    "_X_test_merged = _X_test_cont_df[continuous_columns].merge(_X_test_ohe_df, left_index=True, right_index=True)\n",
    "_X_train_merged = _X_train_cont_df[continuous_columns].merge(_X_train_ohe_df, left_index=True, right_index=True)\n",
    "_X_train_merged.shape"
   ]
  },
  {
   "cell_type": "markdown",
   "metadata": {},
   "source": [
    "#### Oversampling with SMOTE\n"
   ]
  },
  {
   "cell_type": "code",
   "execution_count": 567,
   "metadata": {},
   "outputs": [],
   "source": [
    "_smote = SMOTE(sampling_strategy='minority', random_state=42)\n",
    "_X_train_merged, y_train = _smote.fit_sample(_X_train_merged, y_train)"
   ]
  },
  {
   "cell_type": "markdown",
   "metadata": {},
   "source": [
    "### Dummy Classifier"
   ]
  },
  {
   "cell_type": "markdown",
   "metadata": {},
   "source": [
    "The dummy classifier is our baseline model. We will use this to compare future models throughout this notebook"
   ]
  },
  {
   "cell_type": "code",
   "execution_count": 568,
   "metadata": {},
   "outputs": [],
   "source": [
    "from sklearn.metrics import precision_score, f1_score, plot_confusion_matrix, accuracy_score, recall_score"
   ]
  },
  {
   "cell_type": "code",
   "execution_count": 569,
   "metadata": {},
   "outputs": [],
   "source": [
    "# Recall = TP / (TP + FN)\n",
    "# Precision = TP / (TP + FP)\n",
    "# F1 = (2*Precision*Recall) / Precision + Recall\n",
    "#Classifying everything as not top 10 so it gives an F1 score of 0"
   ]
  },
  {
   "cell_type": "code",
   "execution_count": 570,
   "metadata": {},
   "outputs": [
    {
     "name": "stdout",
     "output_type": "stream",
     "text": [
      "Training Accuracy:  0.5\n",
      "Testing Accuracy:  0.9498544160465868\n",
      "\n",
      "\n",
      "\n",
      "Training F1-Score:  0.0\n",
      "Testing F1-Score:  0.0\n",
      "\n",
      "\n",
      "\n",
      "Training Recall:  0.0\n",
      "Testing Recall:  0.0\n"
     ]
    }
   ],
   "source": [
    "dummy_clf = DummyClassifier(strategy='constant', constant=0)\n",
    "dummy_clf.fit(_X_train_merged, y_train)\n",
    "dummy_train_pred = dummy_clf.predict(_X_train_merged)\n",
    "dummy_pred = dummy_clf.predict(_X_test_merged)\n",
    "\n",
    "print('Training Accuracy: ', accuracy_score(y_train, dummy_train_pred))\n",
    "print('Testing Accuracy: ',accuracy_score(y_test, dummy_pred))\n",
    "print('\\n\\n')\n",
    "print('Training F1-Score: ', f1_score(y_train, dummy_train_pred))\n",
    "print('Testing F1-Score: ', f1_score(y_test, dummy_pred))\n",
    "print('\\n\\n')\n",
    "print('Training Recall: ', recall_score(y_train, dummy_train_pred))\n",
    "print('Testing Recall: ',recall_score(y_test, dummy_pred))\n"
   ]
  },
  {
   "cell_type": "code",
   "execution_count": 571,
   "metadata": {
    "scrolled": true
   },
   "outputs": [
    {
     "data": {
      "image/png": "[encoded data removed]",
      "text/plain": [
       "<Figure size 864x576 with 2 Axes>"
      ]
     },
     "metadata": {},
     "output_type": "display_data"
    }
   ],
   "source": [
    "# plot confusion matrix\n",
    "fig,ax = plt.subplots(figsize=(12,8))\n",
    "plot_confusion_matrix(dummy_clf, _X_test_merged, y_test, cmap = 'Blues', values_format='d' , ax= ax)\n",
    "ax.set_title('Dummy Confusion Matrix')\n",
    "fig.savefig('Dummy_Confusion_Matrix');"
   ]
  },
  {
   "cell_type": "markdown",
   "metadata": {},
   "source": [
    "The dummy classifier classified everything as \"Not Top 10\" due to significant class imbalance"
   ]
  },
  {
   "cell_type": "markdown",
   "metadata": {},
   "source": [
    "# Additional Models"
   ]
  },
  {
   "cell_type": "markdown",
   "metadata": {},
   "source": [
    "Creating a dataframe without unnecessary columns"
   ]
  },
  {
   "cell_type": "code",
   "execution_count": 572,
   "metadata": {},
   "outputs": [],
   "source": [
    "columns_to_drop= ['id_x', 'week_of', 'chart_position', 'track_name','num_of_streams','time_signature', 'id_y', 'popularity_score','num_of_followers', 'artist']\n",
    "df_modeling= df_master.drop(columns= columns_to_drop)\n"
   ]
  },
  {
   "cell_type": "code",
   "execution_count": 573,
   "metadata": {},
   "outputs": [],
   "source": [
    "df_modeling= pd.get_dummies(df_modeling)"
   ]
  },
  {
   "cell_type": "code",
   "execution_count": 574,
   "metadata": {},
   "outputs": [
    {
     "data": {
      "text/html": [
       "<div>\n",
       "<style scoped>\n",
       "    .dataframe tbody tr th:only-of-type {\n",
       "        vertical-align: middle;\n",
       "    }\n",
       "\n",
       "    .dataframe tbody tr th {\n",
       "        vertical-align: top;\n",
       "    }\n",
       "\n",
       "    .dataframe thead th {\n",
       "        text-align: right;\n",
       "    }\n",
       "</style>\n",
       "<table border=\"1\" class=\"dataframe\">\n",
       "  <thead>\n",
       "    <tr style=\"text-align: right;\">\n",
       "      <th></th>\n",
       "      <th>danceability</th>\n",
       "      <th>energy</th>\n",
       "      <th>loudness</th>\n",
       "      <th>speechiness</th>\n",
       "      <th>acousticness</th>\n",
       "      <th>instrumentalness</th>\n",
       "      <th>liveness</th>\n",
       "      <th>valence</th>\n",
       "      <th>tempo</th>\n",
       "      <th>duration</th>\n",
       "      <th>Top_10</th>\n",
       "    </tr>\n",
       "  </thead>\n",
       "  <tbody>\n",
       "    <tr>\n",
       "      <th>danceability</th>\n",
       "      <td>1.000000</td>\n",
       "      <td>0.036525</td>\n",
       "      <td>0.114612</td>\n",
       "      <td>0.182618</td>\n",
       "      <td>-0.196097</td>\n",
       "      <td>-0.010130</td>\n",
       "      <td>-0.046267</td>\n",
       "      <td>0.323928</td>\n",
       "      <td>-0.103813</td>\n",
       "      <td>-0.098897</td>\n",
       "      <td>0.024438</td>\n",
       "    </tr>\n",
       "    <tr>\n",
       "      <th>energy</th>\n",
       "      <td>0.036525</td>\n",
       "      <td>1.000000</td>\n",
       "      <td>0.751240</td>\n",
       "      <td>-0.047149</td>\n",
       "      <td>-0.480262</td>\n",
       "      <td>-0.069138</td>\n",
       "      <td>0.064755</td>\n",
       "      <td>0.376809</td>\n",
       "      <td>0.081263</td>\n",
       "      <td>0.025982</td>\n",
       "      <td>-0.024726</td>\n",
       "    </tr>\n",
       "    <tr>\n",
       "      <th>loudness</th>\n",
       "      <td>0.114612</td>\n",
       "      <td>0.751240</td>\n",
       "      <td>1.000000</td>\n",
       "      <td>-0.150256</td>\n",
       "      <td>-0.381628</td>\n",
       "      <td>-0.142434</td>\n",
       "      <td>0.005643</td>\n",
       "      <td>0.340068</td>\n",
       "      <td>0.032559</td>\n",
       "      <td>0.018092</td>\n",
       "      <td>0.012990</td>\n",
       "    </tr>\n",
       "    <tr>\n",
       "      <th>speechiness</th>\n",
       "      <td>0.182618</td>\n",
       "      <td>-0.047149</td>\n",
       "      <td>-0.150256</td>\n",
       "      <td>1.000000</td>\n",
       "      <td>-0.061556</td>\n",
       "      <td>-0.012574</td>\n",
       "      <td>0.028252</td>\n",
       "      <td>-0.006881</td>\n",
       "      <td>0.179684</td>\n",
       "      <td>-0.047067</td>\n",
       "      <td>-0.013873</td>\n",
       "    </tr>\n",
       "    <tr>\n",
       "      <th>acousticness</th>\n",
       "      <td>-0.196097</td>\n",
       "      <td>-0.480262</td>\n",
       "      <td>-0.381628</td>\n",
       "      <td>-0.061556</td>\n",
       "      <td>1.000000</td>\n",
       "      <td>0.070571</td>\n",
       "      <td>-0.072001</td>\n",
       "      <td>-0.045069</td>\n",
       "      <td>-0.106970</td>\n",
       "      <td>-0.028227</td>\n",
       "      <td>-0.004819</td>\n",
       "    </tr>\n",
       "    <tr>\n",
       "      <th>instrumentalness</th>\n",
       "      <td>-0.010130</td>\n",
       "      <td>-0.069138</td>\n",
       "      <td>-0.142434</td>\n",
       "      <td>-0.012574</td>\n",
       "      <td>0.070571</td>\n",
       "      <td>1.000000</td>\n",
       "      <td>0.002846</td>\n",
       "      <td>-0.081191</td>\n",
       "      <td>0.029870</td>\n",
       "      <td>-0.007557</td>\n",
       "      <td>-0.000567</td>\n",
       "    </tr>\n",
       "    <tr>\n",
       "      <th>liveness</th>\n",
       "      <td>-0.046267</td>\n",
       "      <td>0.064755</td>\n",
       "      <td>0.005643</td>\n",
       "      <td>0.028252</td>\n",
       "      <td>-0.072001</td>\n",
       "      <td>0.002846</td>\n",
       "      <td>1.000000</td>\n",
       "      <td>0.000046</td>\n",
       "      <td>-0.005262</td>\n",
       "      <td>-0.012741</td>\n",
       "      <td>-0.029654</td>\n",
       "    </tr>\n",
       "    <tr>\n",
       "      <th>valence</th>\n",
       "      <td>0.323928</td>\n",
       "      <td>0.376809</td>\n",
       "      <td>0.340068</td>\n",
       "      <td>-0.006881</td>\n",
       "      <td>-0.045069</td>\n",
       "      <td>-0.081191</td>\n",
       "      <td>0.000046</td>\n",
       "      <td>1.000000</td>\n",
       "      <td>-0.048825</td>\n",
       "      <td>-0.087891</td>\n",
       "      <td>0.011573</td>\n",
       "    </tr>\n",
       "    <tr>\n",
       "      <th>tempo</th>\n",
       "      <td>-0.103813</td>\n",
       "      <td>0.081263</td>\n",
       "      <td>0.032559</td>\n",
       "      <td>0.179684</td>\n",
       "      <td>-0.106970</td>\n",
       "      <td>0.029870</td>\n",
       "      <td>-0.005262</td>\n",
       "      <td>-0.048825</td>\n",
       "      <td>1.000000</td>\n",
       "      <td>0.013175</td>\n",
       "      <td>-0.024493</td>\n",
       "    </tr>\n",
       "    <tr>\n",
       "      <th>duration</th>\n",
       "      <td>-0.098897</td>\n",
       "      <td>0.025982</td>\n",
       "      <td>0.018092</td>\n",
       "      <td>-0.047067</td>\n",
       "      <td>-0.028227</td>\n",
       "      <td>-0.007557</td>\n",
       "      <td>-0.012741</td>\n",
       "      <td>-0.087891</td>\n",
       "      <td>0.013175</td>\n",
       "      <td>1.000000</td>\n",
       "      <td>-0.006285</td>\n",
       "    </tr>\n",
       "    <tr>\n",
       "      <th>Top_10</th>\n",
       "      <td>0.024438</td>\n",
       "      <td>-0.024726</td>\n",
       "      <td>0.012990</td>\n",
       "      <td>-0.013873</td>\n",
       "      <td>-0.004819</td>\n",
       "      <td>-0.000567</td>\n",
       "      <td>-0.029654</td>\n",
       "      <td>0.011573</td>\n",
       "      <td>-0.024493</td>\n",
       "      <td>-0.006285</td>\n",
       "      <td>1.000000</td>\n",
       "    </tr>\n",
       "  </tbody>\n",
       "</table>\n",
       "</div>"
      ],
      "text/plain": [
       "                  danceability    energy  loudness  speechiness  acousticness  \\\n",
       "danceability          1.000000  0.036525  0.114612     0.182618     -0.196097   \n",
       "energy                0.036525  1.000000  0.751240    -0.047149     -0.480262   \n",
       "loudness              0.114612  0.751240  1.000000    -0.150256     -0.381628   \n",
       "speechiness           0.182618 -0.047149 -0.150256     1.000000     -0.061556   \n",
       "acousticness         -0.196097 -0.480262 -0.381628    -0.061556      1.000000   \n",
       "instrumentalness     -0.010130 -0.069138 -0.142434    -0.012574      0.070571   \n",
       "liveness             -0.046267  0.064755  0.005643     0.028252     -0.072001   \n",
       "valence               0.323928  0.376809  0.340068    -0.006881     -0.045069   \n",
       "tempo                -0.103813  0.081263  0.032559     0.179684     -0.106970   \n",
       "duration             -0.098897  0.025982  0.018092    -0.047067     -0.028227   \n",
       "Top_10                0.024438 -0.024726  0.012990    -0.013873     -0.004819   \n",
       "\n",
       "                  instrumentalness  liveness   valence     tempo  duration  \\\n",
       "danceability             -0.010130 -0.046267  0.323928 -0.103813 -0.098897   \n",
       "energy                   -0.069138  0.064755  0.376809  0.081263  0.025982   \n",
       "loudness                 -0.142434  0.005643  0.340068  0.032559  0.018092   \n",
       "speechiness              -0.012574  0.028252 -0.006881  0.179684 -0.047067   \n",
       "acousticness              0.070571 -0.072001 -0.045069 -0.106970 -0.028227   \n",
       "instrumentalness          1.000000  0.002846 -0.081191  0.029870 -0.007557   \n",
       "liveness                  0.002846  1.000000  0.000046 -0.005262 -0.012741   \n",
       "valence                  -0.081191  0.000046  1.000000 -0.048825 -0.087891   \n",
       "tempo                     0.029870 -0.005262 -0.048825  1.000000  0.013175   \n",
       "duration                 -0.007557 -0.012741 -0.087891  0.013175  1.000000   \n",
       "Top_10                   -0.000567 -0.029654  0.011573 -0.024493 -0.006285   \n",
       "\n",
       "                    Top_10  \n",
       "danceability      0.024438  \n",
       "energy           -0.024726  \n",
       "loudness          0.012990  \n",
       "speechiness      -0.013873  \n",
       "acousticness     -0.004819  \n",
       "instrumentalness -0.000567  \n",
       "liveness         -0.029654  \n",
       "valence           0.011573  \n",
       "tempo            -0.024493  \n",
       "duration         -0.006285  \n",
       "Top_10            1.000000  "
      ]
     },
     "execution_count": 574,
     "metadata": {},
     "output_type": "execute_result"
    }
   ],
   "source": [
    "df_modeling.corr()"
   ]
  },
  {
   "cell_type": "markdown",
   "metadata": {},
   "source": [
    "### Logistic Regression"
   ]
  },
  {
   "cell_type": "code",
   "execution_count": 576,
   "metadata": {},
   "outputs": [],
   "source": [
    "target = df_modeling['Top_10']\n",
    "df_features = df_modeling.drop(['Top_10'], axis=1)"
   ]
  },
  {
   "cell_type": "code",
   "execution_count": 459,
   "metadata": {},
   "outputs": [],
   "source": [
    "#df_features = df_master.drop(columns = ['Top_10', 'num_of_streams', 'popularity_score', 'num_of_followers', 'week_of',\n",
    "#                                       'track_name', 'id_x', 'time_signature', 'id_y', 'chart_position'])"
   ]
  },
  {
   "cell_type": "code",
   "execution_count": 577,
   "metadata": {},
   "outputs": [],
   "source": [
    "X_train, X_test, y_train, y_test = train_test_split(features, target, random_state=25,test_size=0.30)"
   ]
  },
  {
   "cell_type": "code",
   "execution_count": 578,
   "metadata": {
    "scrolled": true
   },
   "outputs": [
    {
     "name": "stdout",
     "output_type": "stream",
     "text": [
      "              precision    recall  f1-score   support\n",
      "\n",
      "     Top 200       0.95      1.00      0.97      8816\n",
      "      Top 10       0.00      0.00      0.00       457\n",
      "\n",
      "    accuracy                           0.95      9273\n",
      "   macro avg       0.48      0.50      0.49      9273\n",
      "weighted avg       0.90      0.95      0.93      9273\n",
      "\n"
     ]
    },
    {
     "name": "stderr",
     "output_type": "stream",
     "text": [
      "/Users/joeybillet/anaconda3/lib/python3.7/site-packages/sklearn/metrics/_classification.py:1221: UndefinedMetricWarning: Precision and F-score are ill-defined and being set to 0.0 in labels with no predicted samples. Use `zero_division` parameter to control this behavior.\n",
      "  _warn_prf(average, modifier, msg_start, len(result))\n"
     ]
    }
   ],
   "source": [
    "log = LogisticRegression()\n",
    "log.fit(X_train, y_train)\n",
    "log_preds = log.predict(X_test)\n",
    "\n",
    "log_f1 = metrics.f1_score(y_test, log_preds)\n",
    "log_acc = metrics.accuracy_score(y_test, log_preds)\n",
    "\n",
    "print(classification_report(y_test, log_preds, target_names=['Top 200','Top 10']))"
   ]
  },
  {
   "cell_type": "markdown",
   "metadata": {},
   "source": [
    "We can see from our F1 score that our model nearly exclusively picked the Top 200 class. This indicates that our model could be skewed towards a class imbalance\n"
   ]
  },
  {
   "cell_type": "markdown",
   "metadata": {},
   "source": [
    "### Class Imbalance"
   ]
  },
  {
   "cell_type": "code",
   "execution_count": 579,
   "metadata": {},
   "outputs": [
    {
     "data": {
      "image/png": "[encoded data removed]",
      "text/plain": [
       "<Figure size 576x396 with 1 Axes>"
      ]
     },
     "metadata": {},
     "output_type": "display_data"
    }
   ],
   "source": [
    "sns.countplot(x=\"Top_10\", data= df_modeling);"
   ]
  },
  {
   "cell_type": "markdown",
   "metadata": {},
   "source": [
    "The chart above confirms our suspicision of a class imbalance, we can see that our data is severely skewed towards our Top 200 class."
   ]
  },
  {
   "cell_type": "markdown",
   "metadata": {},
   "source": [
    "To solve our class imbalance we are going to create synthetic cases in our Top 10 class using SMOTE."
   ]
  },
  {
   "cell_type": "code",
   "execution_count": 580,
   "metadata": {},
   "outputs": [
    {
     "name": "stdout",
     "output_type": "stream",
     "text": [
      "-----------------------------------------\n",
      "Synthetic sample class distribution: \n",
      "\n",
      "1    20543\n",
      "0    20543\n",
      "Name: Top_10, dtype: int64\n"
     ]
    }
   ],
   "source": [
    "smote = SMOTE()\n",
    "X_train_resampled, y_train_resampled = smote.fit_sample(X_train, y_train)\n",
    "#X_train, y_train= X_train_resampled, y_train_resampled\n",
    "# Preview synthetic sample class distribution\n",
    "print('-----------------------------------------')\n",
    "print('Synthetic sample class distribution: \\n')\n",
    "print(pd.Series(y_train_resampled).value_counts())"
   ]
  },
  {
   "cell_type": "code",
   "execution_count": 581,
   "metadata": {},
   "outputs": [
    {
     "name": "stdout",
     "output_type": "stream",
     "text": [
      "F1:  0.09849119865884326\n",
      "Acc:  0.5360724684568101\n",
      "              precision    recall  f1-score   support\n",
      "\n",
      "     Top 200       0.96      0.54      0.69      8816\n",
      "      Top 10       0.05      0.51      0.10       457\n",
      "\n",
      "    accuracy                           0.54      9273\n",
      "   macro avg       0.50      0.53      0.39      9273\n",
      "weighted avg       0.91      0.54      0.66      9273\n",
      "\n"
     ]
    }
   ],
   "source": [
    "log = LogisticRegression()\n",
    "log.fit(X_train_resampled, y_train_resampled)\n",
    "log_preds = log.predict(X_test)\n",
    "\n",
    "log_f1 = metrics.f1_score(y_test, log_preds)\n",
    "log_acc = metrics.accuracy_score(y_test, log_preds)\n",
    "print('F1: ',log_f1)\n",
    "print('Acc: ',log_acc)\n",
    "print(classification_report(y_test, log_preds, target_names=['Top 200','Top 10']))"
   ]
  },
  {
   "cell_type": "code",
   "execution_count": 582,
   "metadata": {},
   "outputs": [],
   "source": [
    "def plot_confusion_matrix(cm, classes, normalize=False, title='Confusion matrix',cmap=plt.cm.Blues):\n",
    "    if normalize:\n",
    "        cm = cm.astype('float') / cm.sum(axis=1)[:, np.newaxis]\n",
    "    print(cm)\n",
    "    plt.imshow(cm, interpolation='nearest', cmap=cmap)\n",
    "    plt.title(title)\n",
    "    plt.colorbar()\n",
    "    tick_marks = np.arange(len(classes))\n",
    "    plt.xticks(tick_marks, classes, rotation=45)\n",
    "    plt.yticks(tick_marks, classes)\n",
    "\n",
    "    fmt = '.2f' if normalize else 'd'\n",
    "    thresh = cm.max() / 2.\n",
    "    for i, j in itertools.product(range(cm.shape[0]), range(cm.shape[1])):\n",
    "        plt.text(j, i, format(cm[i, j], fmt),\n",
    "                 horizontalalignment=\"center\",\n",
    "                 color=\"white\" if cm[i, j] > thresh else \"black\")\n",
    "\n",
    "    plt.tight_layout()\n",
    "    plt.ylabel('True label')\n",
    "    plt.xlabel('Predicted label')"
   ]
  },
  {
   "cell_type": "code",
   "execution_count": 583,
   "metadata": {
    "scrolled": false
   },
   "outputs": [
    {
     "name": "stdout",
     "output_type": "stream",
     "text": [
      "[[4736 4080]\n",
      " [ 222  235]]\n"
     ]
    },
    {
     "data": {
      "image/png": "[encoded data removed]",
      "text/plain": [
       "<Figure size 576x396 with 2 Axes>"
      ]
     },
     "metadata": {},
     "output_type": "display_data"
    }
   ],
   "source": [
    "cm = confusion_matrix(y_test,log_preds)\n",
    "classes = ['TOP_200','Top_10']\n",
    "plot_confusion_matrix(cm, classes, normalize=False, title='Confusion matrix', cmap=plt.cm.Reds)"
   ]
  },
  {
   "cell_type": "markdown",
   "metadata": {},
   "source": [
    "While we previously solved for the class imbalance we see that it didn't help with our logistic regression model. This tells me that the logistic regression model is likely not the best model for my problem"
   ]
  },
  {
   "cell_type": "markdown",
   "metadata": {},
   "source": [
    "### Logistic with Class weight balanced"
   ]
  },
  {
   "cell_type": "code",
   "execution_count": 617,
   "metadata": {},
   "outputs": [
    {
     "name": "stdout",
     "output_type": "stream",
     "text": [
      "Test Accuracy score:  0.5440526259031597\n",
      "Train F1 score:  0.10920212287487631\n",
      "Test F1 score:  0.10195412064570943\n"
     ]
    }
   ],
   "source": [
    "lr_clf_weighted = LogisticRegression(solver='liblinear', class_weight = 'balanced')\n",
    "lr_clf_weighted.fit(X_train, y_train)\n",
    "y_weighted_train = lr_clf_weighted.predict(X_train)\n",
    "y_weighted_test = lr_clf_weighted.predict(X_test)\n",
    "\n",
    "f1_train = metrics.f1_score(y_train, y_weighted_train)\n",
    "f1_test = metrics.f1_score(y_test, y_weighted_test)\n",
    "print('Test Accuracy score: ', metrics.accuracy_score(y_test, y_weighted_test))\n",
    "print('Train F1 score: ', f1_train)\n",
    "print('Test F1 score: ', f1_test)"
   ]
  },
  {
   "cell_type": "code",
   "execution_count": 618,
   "metadata": {},
   "outputs": [],
   "source": [
    "coef_names = list(zip(df_features.columns, lr_clf_weighted.coef_[0]))"
   ]
  },
  {
   "cell_type": "code",
   "execution_count": 619,
   "metadata": {},
   "outputs": [
    {
     "data": {
      "text/plain": [
       "[('danceability', 0.8054426012150899),\n",
       " ('energy', -2.1744090083184),\n",
       " ('loudness', 0.09281725435537852),\n",
       " ('speechiness', -0.42519188522654866),\n",
       " ('acousticness', -0.4020229402251261),\n",
       " ('instrumentalness', -0.23811211604684837),\n",
       " ('liveness', -1.4786553959882331),\n",
       " ('valence', 0.19005913537532595),\n",
       " ('tempo', -0.002497176313964908),\n",
       " ('duration', 4.061267547654066e-07)]"
      ]
     },
     "execution_count": 619,
     "metadata": {},
     "output_type": "execute_result"
    }
   ],
   "source": [
    "coef_names"
   ]
  },
  {
   "cell_type": "code",
   "execution_count": 620,
   "metadata": {},
   "outputs": [],
   "source": [
    "log_bal = sorted(coef_names, key=lambda x: abs(x[1]), reverse = True)\n"
   ]
  },
  {
   "cell_type": "code",
   "execution_count": 621,
   "metadata": {},
   "outputs": [
    {
     "data": {
      "text/plain": [
       "[('energy', -2.1744090083184),\n",
       " ('liveness', -1.4786553959882331),\n",
       " ('danceability', 0.8054426012150899),\n",
       " ('speechiness', -0.42519188522654866),\n",
       " ('acousticness', -0.4020229402251261),\n",
       " ('instrumentalness', -0.23811211604684837),\n",
       " ('valence', 0.19005913537532595),\n",
       " ('loudness', 0.09281725435537852),\n",
       " ('tempo', -0.002497176313964908),\n",
       " ('duration', 4.061267547654066e-07)]"
      ]
     },
     "execution_count": 621,
     "metadata": {},
     "output_type": "execute_result"
    }
   ],
   "source": [
    "log_bal[0:15]"
   ]
  },
  {
   "cell_type": "markdown",
   "metadata": {},
   "source": [
    "## K-Best Feature Selection"
   ]
  },
  {
   "cell_type": "code",
   "execution_count": 623,
   "metadata": {},
   "outputs": [
    {
     "ename": "ValueError",
     "evalue": "k should be >=0, <= n_features = 10; got 22. Use k='all' to return all features.",
     "output_type": "error",
     "traceback": [
      "\u001b[0;31m---------------------------------------------------------------------------\u001b[0m",
      "\u001b[0;31mValueError\u001b[0m                                Traceback (most recent call last)",
      "\u001b[0;32m<ipython-input-623-19e2555a1305>\u001b[0m in \u001b[0;36m<module>\u001b[0;34m\u001b[0m\n\u001b[1;32m      6\u001b[0m \u001b[0mselector\u001b[0m \u001b[0;34m=\u001b[0m \u001b[0mSelectKBest\u001b[0m\u001b[0;34m(\u001b[0m\u001b[0mf_regression\u001b[0m\u001b[0;34m,\u001b[0m \u001b[0mk\u001b[0m\u001b[0;34m=\u001b[0m\u001b[0;36m22\u001b[0m\u001b[0;34m)\u001b[0m\u001b[0;34m\u001b[0m\u001b[0;34m\u001b[0m\u001b[0m\n\u001b[1;32m      7\u001b[0m \u001b[0;34m\u001b[0m\u001b[0m\n\u001b[0;32m----> 8\u001b[0;31m \u001b[0mselector\u001b[0m\u001b[0;34m.\u001b[0m\u001b[0mfit\u001b[0m\u001b[0;34m(\u001b[0m\u001b[0mX_train_resampled\u001b[0m\u001b[0;34m,\u001b[0m \u001b[0my_train_resampled\u001b[0m\u001b[0;34m)\u001b[0m\u001b[0;34m\u001b[0m\u001b[0;34m\u001b[0m\u001b[0m\n\u001b[0m\u001b[1;32m      9\u001b[0m \u001b[0;34m\u001b[0m\u001b[0m\n\u001b[1;32m     10\u001b[0m \u001b[0mselected_columns\u001b[0m \u001b[0;34m=\u001b[0m \u001b[0mX_train_resampled\u001b[0m\u001b[0;34m.\u001b[0m\u001b[0mcolumns\u001b[0m\u001b[0;34m[\u001b[0m\u001b[0mselector\u001b[0m\u001b[0;34m.\u001b[0m\u001b[0mget_support\u001b[0m\u001b[0;34m(\u001b[0m\u001b[0;34m)\u001b[0m\u001b[0;34m]\u001b[0m\u001b[0;34m\u001b[0m\u001b[0;34m\u001b[0m\u001b[0m\n",
      "\u001b[0;32m~/anaconda3/lib/python3.7/site-packages/sklearn/feature_selection/_univariate_selection.py\u001b[0m in \u001b[0;36mfit\u001b[0;34m(self, X, y)\u001b[0m\n\u001b[1;32m    350\u001b[0m                             % (self.score_func, type(self.score_func)))\n\u001b[1;32m    351\u001b[0m \u001b[0;34m\u001b[0m\u001b[0m\n\u001b[0;32m--> 352\u001b[0;31m         \u001b[0mself\u001b[0m\u001b[0;34m.\u001b[0m\u001b[0m_check_params\u001b[0m\u001b[0;34m(\u001b[0m\u001b[0mX\u001b[0m\u001b[0;34m,\u001b[0m \u001b[0my\u001b[0m\u001b[0;34m)\u001b[0m\u001b[0;34m\u001b[0m\u001b[0;34m\u001b[0m\u001b[0m\n\u001b[0m\u001b[1;32m    353\u001b[0m         \u001b[0mscore_func_ret\u001b[0m \u001b[0;34m=\u001b[0m \u001b[0mself\u001b[0m\u001b[0;34m.\u001b[0m\u001b[0mscore_func\u001b[0m\u001b[0;34m(\u001b[0m\u001b[0mX\u001b[0m\u001b[0;34m,\u001b[0m \u001b[0my\u001b[0m\u001b[0;34m)\u001b[0m\u001b[0;34m\u001b[0m\u001b[0;34m\u001b[0m\u001b[0m\n\u001b[1;32m    354\u001b[0m         \u001b[0;32mif\u001b[0m \u001b[0misinstance\u001b[0m\u001b[0;34m(\u001b[0m\u001b[0mscore_func_ret\u001b[0m\u001b[0;34m,\u001b[0m \u001b[0;34m(\u001b[0m\u001b[0mlist\u001b[0m\u001b[0;34m,\u001b[0m \u001b[0mtuple\u001b[0m\u001b[0;34m)\u001b[0m\u001b[0;34m)\u001b[0m\u001b[0;34m:\u001b[0m\u001b[0;34m\u001b[0m\u001b[0;34m\u001b[0m\u001b[0m\n",
      "\u001b[0;32m~/anaconda3/lib/python3.7/site-packages/sklearn/feature_selection/_univariate_selection.py\u001b[0m in \u001b[0;36m_check_params\u001b[0;34m(self, X, y)\u001b[0m\n\u001b[1;32m    523\u001b[0m             raise ValueError(\"k should be >=0, <= n_features = %d; got %r. \"\n\u001b[1;32m    524\u001b[0m                              \u001b[0;34m\"Use k='all' to return all features.\"\u001b[0m\u001b[0;34m\u001b[0m\u001b[0;34m\u001b[0m\u001b[0m\n\u001b[0;32m--> 525\u001b[0;31m                              % (X.shape[1], self.k))\n\u001b[0m\u001b[1;32m    526\u001b[0m \u001b[0;34m\u001b[0m\u001b[0m\n\u001b[1;32m    527\u001b[0m     \u001b[0;32mdef\u001b[0m \u001b[0m_get_support_mask\u001b[0m\u001b[0;34m(\u001b[0m\u001b[0mself\u001b[0m\u001b[0;34m)\u001b[0m\u001b[0;34m:\u001b[0m\u001b[0;34m\u001b[0m\u001b[0;34m\u001b[0m\u001b[0m\n",
      "\u001b[0;31mValueError\u001b[0m: k should be >=0, <= n_features = 10; got 22. Use k='all' to return all features."
     ]
    }
   ],
   "source": [
    "scaler = StandardScaler()\n",
    "# fit the scaler to the training data\n",
    "scaler.fit(X_train_resampled)\n",
    "#transform the training data\n",
    "\n",
    "selector = SelectKBest(f_regression, k=22)\n",
    "\n",
    "selector.fit(X_train_resampled, y_train_resampled)\n",
    "\n",
    "selected_columns = X_train_resampled.columns[selector.get_support()]\n",
    "removed_columns = X_train_resampled.columns[~selector.get_support()]\n",
    "\n",
    "log_kbest = LogisticRegression()\n",
    "log_kbest = log_kbest.fit(X_train_resampled[selected_columns], y_train_resampled)\n",
    "\n",
    "log_kpreds = log_kbest.predict(X_test[selected_columns])\n",
    "\n",
    "print(classification_report(y_test, log_kpreds, target_names=['Top 200','Top 10']))"
   ]
  },
  {
   "cell_type": "code",
   "execution_count": 36,
   "metadata": {
    "scrolled": true
   },
   "outputs": [
    {
     "name": "stdout",
     "output_type": "stream",
     "text": [
      "[[6067 2779]\n",
      " [ 216  237]]\n"
     ]
    },
    {
     "data": {
      "image/png": "[encoded data removed]",
      "text/plain": [
       "<Figure size 576x396 with 2 Axes>"
      ]
     },
     "metadata": {},
     "output_type": "display_data"
    }
   ],
   "source": [
    "cm = confusion_matrix(y_test,log_kpreds)\n",
    "classes = ['0','1']\n",
    "plot_confusion_matrix(cm, classes, normalize=False, title='Confusion matrix', cmap=plt.cm.Reds)"
   ]
  },
  {
   "cell_type": "markdown",
   "metadata": {},
   "source": [
    "Using a K-Best Selector to pick our best columns we found that this is model had a better F1 score than our baseline model but a .14 F1 score isn't all that great."
   ]
  },
  {
   "cell_type": "markdown",
   "metadata": {},
   "source": [
    "## GridSearch Log Reg"
   ]
  },
  {
   "cell_type": "code",
   "execution_count": 590,
   "metadata": {},
   "outputs": [
    {
     "name": "stdout",
     "output_type": "stream",
     "text": [
      "Fitting 5 folds for each of 40 candidates, totalling 200 fits\n"
     ]
    },
    {
     "name": "stderr",
     "output_type": "stream",
     "text": [
      "[Parallel(n_jobs=-1)]: Using backend LokyBackend with 4 concurrent workers.\n",
      "[Parallel(n_jobs=-1)]: Done  44 tasks      | elapsed:    4.3s\n",
      "[Parallel(n_jobs=-1)]: Done 200 out of 200 | elapsed:    6.4s finished\n"
     ]
    },
    {
     "data": {
      "text/plain": [
       "GridSearchCV(cv=5, estimator=LogisticRegression(), n_jobs=-1,\n",
       "             param_grid={'C': [0.75, 1.0, 1.25, 1.5],\n",
       "                         'max_iter': [100, 200, 300, 400, 500],\n",
       "                         'penalty': ['l1', 'l2']},\n",
       "             scoring='f1', verbose=1)"
      ]
     },
     "execution_count": 590,
     "metadata": {},
     "output_type": "execute_result"
    }
   ],
   "source": [
    "logreg = LogisticRegression()\n",
    "parameters = {'C': [0.75,1.0,1.25,1.5],\n",
    "             'max_iter': [100,200,300,400,500],\n",
    "             'penalty': ['l1', 'l2']}\n",
    "grid_tree1=GridSearchCV(logreg, parameters, cv=5, scoring='f1',verbose =1,n_jobs=-1)\n",
    "\n",
    "grid_tree1.fit(X_train_resampled,y_train_resampled)"
   ]
  },
  {
   "cell_type": "code",
   "execution_count": 591,
   "metadata": {},
   "outputs": [
    {
     "name": "stdout",
     "output_type": "stream",
     "text": [
      "0.31038169272237653\n",
      "{'C': 0.75, 'max_iter': 100, 'penalty': 'l2'}\n",
      "LogisticRegression(C=0.75)\n"
     ]
    }
   ],
   "source": [
    "# Single best score achieved across all params (min_samples_split)\n",
    "print(grid_tree1.best_score_)\n",
    "\n",
    "# Dictionary containing the parameters (min_samples_split) used to generate that score\n",
    "print(grid_tree1.best_params_)\n",
    "\n",
    "# Actual model object fit with those best parameters\n",
    "# Shows default parameters that we did not specify\n",
    "print(grid_tree1.best_estimator_)"
   ]
  },
  {
   "cell_type": "code",
   "execution_count": 592,
   "metadata": {},
   "outputs": [
    {
     "name": "stdout",
     "output_type": "stream",
     "text": [
      "              precision    recall  f1-score   support\n",
      "\n",
      "     Top 200       0.96      0.54      0.69      8816\n",
      "      Top 10       0.05      0.51      0.10       457\n",
      "\n",
      "    accuracy                           0.54      9273\n",
      "   macro avg       0.50      0.53      0.39      9273\n",
      "weighted avg       0.91      0.54      0.66      9273\n",
      "\n"
     ]
    }
   ],
   "source": [
    "#Predict the response for test dataset\n",
    "y_pred = grid_tree1.best_estimator_.predict(X_test)\n",
    "\n",
    "# Model Accuracy, how often is the classifier correct?\n",
    "print(classification_report(y_test, y_pred, target_names=['Top 200','Top 10']))"
   ]
  },
  {
   "cell_type": "code",
   "execution_count": 593,
   "metadata": {
    "scrolled": true
   },
   "outputs": [
    {
     "name": "stdout",
     "output_type": "stream",
     "text": [
      "[[4736 4080]\n",
      " [ 222  235]]\n"
     ]
    },
    {
     "data": {
      "image/png": "[encoded data removed]",
      "text/plain": [
       "<Figure size 576x396 with 2 Axes>"
      ]
     },
     "metadata": {},
     "output_type": "display_data"
    }
   ],
   "source": [
    "cm = confusion_matrix(y_test,y_pred)\n",
    "classes = ['0','1']\n",
    "plot_confusion_matrix(cm, classes, normalize=False, title='Confusion matrix', cmap=plt.cm.Reds)"
   ]
  },
  {
   "cell_type": "markdown",
   "metadata": {},
   "source": [
    "Our Gridsearch on Logistic Regression performed the same as our best Logistic Regression model with an F1 score of 10%"
   ]
  },
  {
   "cell_type": "markdown",
   "metadata": {},
   "source": [
    "## KNN Model"
   ]
  },
  {
   "cell_type": "code",
   "execution_count": 594,
   "metadata": {},
   "outputs": [
    {
     "name": "stdout",
     "output_type": "stream",
     "text": [
      "              precision    recall  f1-score   support\n",
      "\n",
      "     Top 200       0.99      0.87      0.92      8816\n",
      "      Top 10       0.23      0.76      0.36       457\n",
      "\n",
      "    accuracy                           0.87      9273\n",
      "   macro avg       0.61      0.82      0.64      9273\n",
      "weighted avg       0.95      0.87      0.90      9273\n",
      "\n"
     ]
    }
   ],
   "source": [
    "knn = KNeighborsClassifier(n_neighbors=4)\n",
    "knn.fit(X_train_resampled, y_train_resampled)\n",
    "\n",
    "knn_preds = knn.predict(X_test)\n",
    "\n",
    "knn_f1 = metrics.f1_score(y_test, knn_preds)\n",
    "\n",
    "knn_acc = metrics.accuracy_score(y_test, knn_preds)\n",
    "\n",
    "print(classification_report(y_test, knn_preds, target_names=['Top 200','Top 10']))"
   ]
  },
  {
   "cell_type": "code",
   "execution_count": 595,
   "metadata": {
    "scrolled": true
   },
   "outputs": [
    {
     "name": "stdout",
     "output_type": "stream",
     "text": [
      "[[7678 1138]\n",
      " [ 110  347]]\n"
     ]
    },
    {
     "data": {
      "image/png": "[encoded data removed]",
      "text/plain": [
       "<Figure size 576x396 with 2 Axes>"
      ]
     },
     "metadata": {},
     "output_type": "display_data"
    }
   ],
   "source": [
    "cm = confusion_matrix(y_test,knn_preds)\n",
    "classes = ['0','1']\n",
    "plot_confusion_matrix(cm, classes, normalize=False, title='Confusion matrix', cmap=plt.cm.Reds)"
   ]
  },
  {
   "cell_type": "markdown",
   "metadata": {},
   "source": [
    "Our KNN model performed significantly better than our previous best model with a .36 F1 score."
   ]
  },
  {
   "cell_type": "markdown",
   "metadata": {},
   "source": [
    "## Decision Tree Model"
   ]
  },
  {
   "cell_type": "code",
   "execution_count": 596,
   "metadata": {},
   "outputs": [
    {
     "name": "stdout",
     "output_type": "stream",
     "text": [
      "              precision    recall  f1-score   support\n",
      "\n",
      "     Top 200       0.99      0.86      0.92      8816\n",
      "      Top 10       0.23      0.83      0.37       457\n",
      "\n",
      "    accuracy                           0.86      9273\n",
      "   macro avg       0.61      0.84      0.64      9273\n",
      "weighted avg       0.95      0.86      0.89      9273\n",
      "\n"
     ]
    }
   ],
   "source": [
    "dtc = DecisionTreeClassifier(random_state = 25)\n",
    "\n",
    "dtc.fit(X_train_resampled, y_train_resampled)\n",
    "\n",
    "dtc_preds  = dtc.predict(X_test)\n",
    "\n",
    "dtc_f1 = metrics.f1_score(y_test, dtc_preds)\n",
    "\n",
    "dtc_acc = metrics.accuracy_score(y_test, dtc_preds)\n",
    "\n",
    "print(classification_report(y_test, dtc_preds, target_names=['Top 200','Top 10']))"
   ]
  },
  {
   "cell_type": "code",
   "execution_count": 597,
   "metadata": {
    "scrolled": true
   },
   "outputs": [
    {
     "name": "stdout",
     "output_type": "stream",
     "text": [
      "[[7576 1240]\n",
      " [  78  379]]\n"
     ]
    },
    {
     "data": {
      "image/png": "[encoded data removed]",
      "text/plain": [
       "<Figure size 576x396 with 2 Axes>"
      ]
     },
     "metadata": {},
     "output_type": "display_data"
    }
   ],
   "source": [
    "cm = confusion_matrix(y_test,dtc_preds)\n",
    "classes = ['0','1']\n",
    "plot_confusion_matrix(cm, classes, normalize=False, title='Confusion matrix', cmap=plt.cm.Reds)"
   ]
  },
  {
   "cell_type": "markdown",
   "metadata": {},
   "source": [
    "Our Decision Tree outperformed the KNN model with an F1 score of 37%"
   ]
  },
  {
   "cell_type": "markdown",
   "metadata": {},
   "source": [
    "### Decision Tree Class Weight Balanced"
   ]
  },
  {
   "cell_type": "code",
   "execution_count": 598,
   "metadata": {},
   "outputs": [],
   "source": [
    "clf = DecisionTreeClassifier(class_weight='balanced')\n",
    "scores = {}\n"
   ]
  },
  {
   "cell_type": "code",
   "execution_count": 599,
   "metadata": {},
   "outputs": [
    {
     "name": "stdout",
     "output_type": "stream",
     "text": [
      "Training F1 Score: 0.36810240442829956\n",
      "Testing F1 Score:        danceability  energy  loudness  speechiness  acousticness  \\\n",
      "0             0.825   0.652    -3.183        0.080         0.581   \n",
      "1             0.624   0.876    -3.374        0.100         0.074   \n",
      "2             0.640   0.533    -6.596        0.071         0.119   \n",
      "3             0.461   0.834    -4.868        0.099         0.023   \n",
      "4             0.617   0.635    -6.769        0.032         0.050   \n",
      "...             ...     ...       ...          ...           ...   \n",
      "30990         0.791   0.746    -4.716        0.091         0.009   \n",
      "30991         0.729   0.545    -7.818        0.032         0.017   \n",
      "30992         0.671   0.373   -18.064        0.032         0.257   \n",
      "30993         0.626   0.880    -2.384        0.050         0.205   \n",
      "30994         0.621   0.743    -3.864        0.074         0.281   \n",
      "\n",
      "       instrumentalness  liveness  valence    tempo  duration  \n",
      "0                   0.0     0.093    0.931   95.977    233713  \n",
      "1                   0.0     0.327    0.781   99.943    170827  \n",
      "2                   0.0     0.086    0.515   99.968    220781  \n",
      "3                   0.0     0.140    0.471  135.007    261154  \n",
      "4                   0.0     0.164    0.446  103.019    247160  \n",
      "...                 ...       ...      ...      ...       ...  \n",
      "30990               0.0     0.125    0.905  165.994    183160  \n",
      "30991               0.0     0.369    0.514  103.012    177067  \n",
      "30992               0.0     0.048    0.732   92.717    295893  \n",
      "30993               0.0     0.128    0.534   95.079    202621  \n",
      "30994               0.0     0.411    0.581  111.454    154661  \n",
      "\n",
      "[30907 rows x 10 columns]\n"
     ]
    }
   ],
   "source": [
    "clf = clf.fit(X_train,y_train)\n",
    "y_pred_train = clf.predict(X_train)\n",
    "y_pred_test = clf.predict(X_test)\n",
    "\n",
    "# Model Accuracy, how often is the classifier correct?\n",
    "print(\"Training F1 Score:\",metrics.f1_score(y_train, y_pred_train))\n",
    "df_master = metrics.f1_score(y_test, y_pred_test)\n",
    "print(\"Testing F1 Score:\",df_features)"
   ]
  },
  {
   "cell_type": "code",
   "execution_count": 600,
   "metadata": {},
   "outputs": [
    {
     "data": {
      "text/plain": [
       "0.8282109349725008"
      ]
     },
     "execution_count": 600,
     "metadata": {},
     "output_type": "execute_result"
    }
   ],
   "source": [
    "metrics.accuracy_score(y_test, y_pred_test)"
   ]
  },
  {
   "cell_type": "code",
   "execution_count": 614,
   "metadata": {},
   "outputs": [],
   "source": [
    "importance = clf.feature_importances_\n",
    "dt_coef = list(zip(df_features.columns, importance))"
   ]
  },
  {
   "cell_type": "code",
   "execution_count": 615,
   "metadata": {},
   "outputs": [
    {
     "data": {
      "text/plain": [
       "[('duration', 0.1571872728917043),\n",
       " ('liveness', 0.15085107527868655),\n",
       " ('tempo', 0.1380435496673679),\n",
       " ('valence', 0.13801515656471408),\n",
       " ('speechiness', 0.09941770205844766),\n",
       " ('loudness', 0.0897197298123442),\n",
       " ('acousticness', 0.0837082273815315),\n",
       " ('energy', 0.06184575594328518),\n",
       " ('danceability', 0.05652567865923156),\n",
       " ('instrumentalness', 0.024685851742687004)]"
      ]
     },
     "execution_count": 615,
     "metadata": {},
     "output_type": "execute_result"
    }
   ],
   "source": [
    "dt_coef = sorted(dt_coef, key=lambda x: abs(x[1]), reverse = True)\n",
    "dt_coef[0:15]"
   ]
  },
  {
   "cell_type": "code",
   "execution_count": 603,
   "metadata": {},
   "outputs": [],
   "source": [
    "scores['Decision Tree'] = [metrics.f1_score(y_train, y_pred_train), metrics.f1_score(y_test, y_pred_test), metrics.accuracy_score(y_test, y_pred_test)]\n"
   ]
  },
  {
   "cell_type": "code",
   "execution_count": 604,
   "metadata": {},
   "outputs": [
    {
     "data": {
      "text/plain": [
       "{'Decision Tree': [0.36810240442829956,\n",
       "  0.3381803074366431,\n",
       "  0.8282109349725008]}"
      ]
     },
     "execution_count": 604,
     "metadata": {},
     "output_type": "execute_result"
    }
   ],
   "source": [
    "scores\n"
   ]
  },
  {
   "cell_type": "markdown",
   "metadata": {},
   "source": [
    "By looking at the class weight balanced Deciison Tree, we see that the most noteworth features when determinging a Top 10 song are: Duration, Liveness, Tempo and Valence."
   ]
  },
  {
   "cell_type": "markdown",
   "metadata": {},
   "source": [
    "## Random Forest Models"
   ]
  },
  {
   "cell_type": "code",
   "execution_count": 605,
   "metadata": {},
   "outputs": [
    {
     "name": "stdout",
     "output_type": "stream",
     "text": [
      "              precision    recall  f1-score   support\n",
      "\n",
      "     Top 200       0.99      0.86      0.92      8816\n",
      "      Top 10       0.24      0.84      0.37       457\n",
      "\n",
      "    accuracy                           0.86      9273\n",
      "   macro avg       0.62      0.85      0.65      9273\n",
      "weighted avg       0.95      0.86      0.90      9273\n",
      "\n"
     ]
    }
   ],
   "source": [
    "rfc = RandomForestClassifier(random_state = 25, n_estimators=20, max_features=6)\n",
    "rfc.fit(X_train_resampled, y_train_resampled)\n",
    "rfc_preds = rfc.predict(X_test)\n",
    "\n",
    "rfc_f1 = metrics.f1_score(y_test, rfc_preds)\n",
    "rfc_acc = metrics.accuracy_score(y_test, rfc_preds)\n",
    "\n",
    "# checking accuracy on the test data\n",
    "print(classification_report(y_test, rfc_preds, target_names=['Top 200','Top 10']))"
   ]
  },
  {
   "cell_type": "code",
   "execution_count": 606,
   "metadata": {
    "scrolled": true
   },
   "outputs": [
    {
     "name": "stdout",
     "output_type": "stream",
     "text": [
      "[[7607 1209]\n",
      " [  74  383]]\n"
     ]
    },
    {
     "data": {
      "image/png": "[encoded data removed]",
      "text/plain": [
       "<Figure size 576x396 with 2 Axes>"
      ]
     },
     "metadata": {},
     "output_type": "display_data"
    }
   ],
   "source": [
    "cm = confusion_matrix(y_test,rfc_preds)\n",
    "classes = ['0','1']\n",
    "plot_confusion_matrix(cm, classes, normalize=False, title='Confusion matrix', cmap=plt.cm.Reds)"
   ]
  },
  {
   "cell_type": "markdown",
   "metadata": {},
   "source": [
    "The Random Forest model performed similar to our decision treehad the same results as our decision tree with an f1 score of .37"
   ]
  },
  {
   "cell_type": "code",
   "execution_count": 607,
   "metadata": {},
   "outputs": [
    {
     "name": "stdout",
     "output_type": "stream",
     "text": [
      "Fitting 10 folds for each of 40 candidates, totalling 400 fits\n"
     ]
    },
    {
     "name": "stderr",
     "output_type": "stream",
     "text": [
      "[Parallel(n_jobs=-1)]: Using backend LokyBackend with 4 concurrent workers.\n",
      "[Parallel(n_jobs=-1)]: Done  42 tasks      | elapsed:  2.2min\n",
      "[Parallel(n_jobs=-1)]: Done 192 tasks      | elapsed: 13.7min\n",
      "[Parallel(n_jobs=-1)]: Done 400 out of 400 | elapsed: 36.1min finished\n"
     ]
    },
    {
     "data": {
      "text/plain": [
       "GridSearchCV(cv=10, estimator=RandomForestClassifier(random_state=25),\n",
       "             n_jobs=-1,\n",
       "             param_grid={'criterion': ['gini', 'entropy'],\n",
       "                         'max_features': [4, 5, 6, 7, 8],\n",
       "                         'n_estimators': [50, 100, 150, 200]},\n",
       "             scoring='f1', verbose=1)"
      ]
     },
     "execution_count": 607,
     "metadata": {},
     "output_type": "execute_result"
    }
   ],
   "source": [
    "param_grid2 = { \n",
    "    'n_estimators': [50,100,150,200],\n",
    "    'max_features': [4,5,6,7,8],\n",
    "    'criterion' : ['gini','entropy']\n",
    "    \n",
    "}\n",
    "\n",
    "rfc_CV = RandomForestClassifier(random_state = 25)\n",
    "rfc_CV = GridSearchCV(estimator=rfc_CV, param_grid=param_grid2, cv= 10, scoring='f1', verbose=1, n_jobs=-1)\n",
    "rfc_CV.fit(X_train_resampled, y_train_resampled)"
   ]
  },
  {
   "cell_type": "code",
   "execution_count": 608,
   "metadata": {},
   "outputs": [
    {
     "name": "stdout",
     "output_type": "stream",
     "text": [
      "{'criterion': 'entropy', 'max_features': 4, 'n_estimators': 100}\n",
      "RandomForestClassifier(criterion='entropy', max_features=4, random_state=25)\n",
      "0.9213611408761878\n",
      "              precision    recall  f1-score   support\n",
      "\n",
      "     Top 200       0.99      0.86      0.92      8816\n",
      "      Top 10       0.24      0.83      0.37       457\n",
      "\n",
      "    accuracy                           0.86      9273\n",
      "   macro avg       0.62      0.85      0.65      9273\n",
      "weighted avg       0.95      0.86      0.90      9273\n",
      "\n"
     ]
    }
   ],
   "source": [
    "# Identify the best params \n",
    "print(rfc_CV.best_params_)\n",
    "print(rfc_CV.best_estimator_)\n",
    "\n",
    "\n",
    "#Identify the best score during fitting with cross-validation\n",
    "print(rfc_CV.best_score_)\n",
    "\n",
    "#predict on the test set\n",
    "test_preds_rfc_CV = rfc_CV.best_estimator_.predict(X_test)\n",
    "\n",
    "# checking metrics\n",
    "print(classification_report(y_test, test_preds_rfc_CV, target_names=['Top 200','Top 10']))"
   ]
  },
  {
   "cell_type": "code",
   "execution_count": 609,
   "metadata": {
    "scrolled": true
   },
   "outputs": [
    {
     "name": "stdout",
     "output_type": "stream",
     "text": [
      "[[7625 1191]\n",
      " [  78  379]]\n"
     ]
    },
    {
     "data": {
      "image/png": "[encoded data removed]",
      "text/plain": [
       "<Figure size 576x396 with 2 Axes>"
      ]
     },
     "metadata": {},
     "output_type": "display_data"
    }
   ],
   "source": [
    "cm = confusion_matrix(y_test,test_preds_rfc_CV)\n",
    "classes = ['0','1']\n",
    "plot_confusion_matrix(cm, classes, normalize=False, title='Confusion matrix', cmap=plt.cm.Reds)"
   ]
  },
  {
   "cell_type": "code",
   "execution_count": 611,
   "metadata": {},
   "outputs": [],
   "source": [
    "rf_coef = list(zip(df_features.columns, rfc.feature_importances_))\n",
    "rf_coef = sorted(rf_coef, key=lambda x: abs(x[1]), reverse = True)"
   ]
  },
  {
   "cell_type": "code",
   "execution_count": 612,
   "metadata": {},
   "outputs": [
    {
     "data": {
      "text/plain": [
       "[('liveness', 0.13856450371489015),\n",
       " ('duration', 0.13418215703082687),\n",
       " ('energy', 0.13145760225385641),\n",
       " ('tempo', 0.12911558396700318),\n",
       " ('valence', 0.09689952202795116),\n",
       " ('danceability', 0.09405264660622166),\n",
       " ('acousticness', 0.09308142984125414),\n",
       " ('speechiness', 0.08831439625289686),\n",
       " ('loudness', 0.07881406553635549),\n",
       " ('instrumentalness', 0.015518092768744102)]"
      ]
     },
     "execution_count": 612,
     "metadata": {},
     "output_type": "execute_result"
    }
   ],
   "source": [
    "rf_coef[0:15]\n"
   ]
  },
  {
   "cell_type": "markdown",
   "metadata": {},
   "source": [
    "The most important features when determining a Top 10 song after utilizing the class weight balance on our Rnadom Forest model were: Livenss, Duration, Energy, and Tempo. Unlike our Decision Tree model, Valence was not included in this list."
   ]
  },
  {
   "cell_type": "markdown",
   "metadata": {},
   "source": [
    "Our Gridsearch didn't help with finding a better model"
   ]
  },
  {
   "cell_type": "markdown",
   "metadata": {},
   "source": [
    "## Voting Classifier"
   ]
  },
  {
   "cell_type": "markdown",
   "metadata": {},
   "source": [
    "Utilizing the different models, can a voting classifier put the models together and get better results?"
   ]
  },
  {
   "cell_type": "code",
   "execution_count": 58,
   "metadata": {},
   "outputs": [
    {
     "name": "stdout",
     "output_type": "stream",
     "text": [
      "              precision    recall  f1-score   support\n",
      "\n",
      "     Top 200       0.98      0.89      0.94      8846\n",
      "      Top 10       0.25      0.72      0.38       453\n",
      "\n",
      "    accuracy                           0.88      9299\n",
      "   macro avg       0.62      0.81      0.66      9299\n",
      "weighted avg       0.95      0.88      0.91      9299\n",
      "\n"
     ]
    }
   ],
   "source": [
    "voting_clf = VotingClassifier(\n",
    "                estimators=[('knneighbors', knn), ('decisiontree', dtc), ('logreg', log), ('randomforest', rfc)], \n",
    "                voting='hard', weights= [2,2,1,1])\n",
    "\n",
    "voting_clf.fit(X_train_resampled, y_train_resampled)\n",
    "\n",
    "vc_preds = voting_clf.predict(X_test)\n",
    "\n",
    "vc_f1 = metrics.f1_score(y_test, vc_preds)\n",
    "\n",
    "vc_acc = metrics.accuracy_score(y_test, vc_preds)\n",
    "\n",
    "print(classification_report(y_test, vc_preds, target_names=['Top 200','Top 10']))"
   ]
  },
  {
   "cell_type": "code",
   "execution_count": 44,
   "metadata": {
    "scrolled": true
   },
   "outputs": [
    {
     "name": "stdout",
     "output_type": "stream",
     "text": [
      "[[7872  974]\n",
      " [ 126  327]]\n"
     ]
    },
    {
     "data": {
      "image/png": "[encoded data removed]",
      "text/plain": [
       "<Figure size 576x396 with 2 Axes>"
      ]
     },
     "metadata": {},
     "output_type": "display_data"
    }
   ],
   "source": [
    "cm = confusion_matrix(y_test,vc_preds)\n",
    "classes = ['0','1']\n",
    "plot_confusion_matrix(cm, classes, normalize=False, title='Confusion matrix', cmap=plt.cm.Blues)"
   ]
  },
  {
   "cell_type": "markdown",
   "metadata": {},
   "source": [
    "The voting classifier is our best model with a .38 F1 score."
   ]
  },
  {
   "cell_type": "markdown",
   "metadata": {},
   "source": [
    "## XG-Boost"
   ]
  },
  {
   "cell_type": "code",
   "execution_count": 81,
   "metadata": {},
   "outputs": [
    {
     "name": "stdout",
     "output_type": "stream",
     "text": [
      "-----------------------------------------\n",
      "Synthetic sample class distribution: \n",
      "\n",
      "1    22075\n",
      "0    22075\n",
      "Name: Top_10, dtype: int64\n"
     ]
    }
   ],
   "source": [
    "labels = df_modeling['Top_10']\n",
    "labels_removed_df = df_modeling.drop(columns='Top_10')\n",
    "\n",
    "scaler = StandardScaler()\n",
    "scaled_df = scaler.fit_transform(labels_removed_df)\n",
    "\n",
    "X_train, X_test, y_train, y_test = train_test_split(scaled_df, labels)\n",
    "smote = SMOTE()\n",
    "X_train_resampled, y_train_resampled = smote.fit_sample(X_train, y_train)\n",
    "X_train, y_train= X_train_resampled, y_train_resampled\n",
    " #Preview synthetic sample class distribution\n",
    "print('-----------------------------------------')\n",
    "print('Synthetic sample class distribution: \\n')\n",
    "print(pd.Series(y_train_resampled).value_counts())"
   ]
  },
  {
   "cell_type": "code",
   "execution_count": 82,
   "metadata": {},
   "outputs": [],
   "source": [
    "param_grid = {\n",
    "    \"penalty\": ([\"l1\",'l2']),\n",
    "    \"max_depth\":([2,3,4]),\n",
    "    \"C\": ([0.001,.0001]),\n",
    "    'learning_rate': [.1,.2,.3],\n",
    "    \"solver\": ([\"newton-cg\"]),\n",
    "}"
   ]
  },
  {
   "cell_type": "code",
   "execution_count": 83,
   "metadata": {},
   "outputs": [
    {
     "name": "stdout",
     "output_type": "stream",
     "text": [
      "Fitting 10 folds for each of 36 candidates, totalling 360 fits\n"
     ]
    },
    {
     "name": "stderr",
     "output_type": "stream",
     "text": [
      "[Parallel(n_jobs=-1)]: Using backend LokyBackend with 4 concurrent workers.\n",
      "[Parallel(n_jobs=-1)]: Done  42 tasks      | elapsed: 15.6min\n",
      "[Parallel(n_jobs=-1)]: Done 192 tasks      | elapsed: 72.4min\n",
      "[Parallel(n_jobs=-1)]: Done 360 out of 360 | elapsed: 137.9min finished\n"
     ]
    },
    {
     "name": "stdout",
     "output_type": "stream",
     "text": [
      "[23:36:55] WARNING: /Users/travis/build/dmlc/xgboost/src/learner.cc:516: \n",
      "Parameters: { C, penalty, solver } might not be used.\n",
      "\n",
      "  This may not be accurate due to some parameters are only used in language bindings but\n",
      "  passed down to XGBoost core.  Or some parameters are not used but slip through this\n",
      "  verification. Please open an issue if you find above cases.\n",
      "\n",
      "\n",
      "Grid Search found the following optimal parameters: \n",
      "C: 0.001\n",
      "learning_rate: 0.3\n",
      "max_depth: 4\n",
      "penalty: 'l1'\n",
      "solver: 'newton-cg'\n",
      "              precision    recall  f1-score   support\n",
      "\n",
      "     Top 200       0.96      1.00      0.98      7372\n",
      "      Top 10       0.76      0.15      0.25       377\n",
      "\n",
      "    accuracy                           0.96      7749\n",
      "   macro avg       0.86      0.57      0.61      7749\n",
      "weighted avg       0.95      0.96      0.94      7749\n",
      "\n"
     ]
    }
   ],
   "source": [
    "clf = xgb.XGBClassifier()\n",
    "grid_clf = GridSearchCV(clf, param_grid, scoring='f1', cv=10, n_jobs=-1,verbose=1)\n",
    "grid_clf.fit(scaled_df, labels)\n",
    "best_parameters = grid_clf.best_params_\n",
    "print(\"Grid Search found the following optimal parameters: \")\n",
    "for param_name in sorted(best_parameters.keys()):\n",
    "    print(\"%s: %r\" % (param_name, best_parameters[param_name]))\n",
    "training_preds = grid_clf.predict(X_train)\n",
    "val_preds = grid_clf.predict(X_test)\n",
    "print(classification_report(y_test, val_preds, target_names=['Top 200','Top 10']))"
   ]
  },
  {
   "cell_type": "code",
   "execution_count": 85,
   "metadata": {},
   "outputs": [
    {
     "name": "stdout",
     "output_type": "stream",
     "text": [
      "[[7923  923]\n",
      " [ 136  317]]\n"
     ]
    },
    {
     "data": {
      "image/png": "[encoded data removed]",
      "text/plain": [
       "<Figure size 576x396 with 2 Axes>"
      ]
     },
     "metadata": {},
     "output_type": "display_data"
    }
   ],
   "source": [
    "### cm = confusion_matrix(y_test,val_preds)\n",
    "classes = ['0','1']\n",
    "plot_confusion_matrix(cm, classes, normalize=False, title='Confusion matrix', cmap=plt.cm.Reds)"
   ]
  },
  {
   "cell_type": "markdown",
   "metadata": {},
   "source": [
    "Unfortunately our XG-Boost performed worse than our Voting Classifier. Going through all the models our Voting Classifier finished as our best model."
   ]
  },
  {
   "cell_type": "code",
   "execution_count": null,
   "metadata": {},
   "outputs": [],
   "source": []
  },
  {
   "cell_type": "code",
   "execution_count": null,
   "metadata": {},
   "outputs": [],
   "source": []
  },
  {
   "cell_type": "code",
   "execution_count": null,
   "metadata": {},
   "outputs": [],
   "source": []
  }
 ],
 "metadata": {
  "kernelspec": {
   "display_name": "Python 3",
   "language": "python",
   "name": "python3"
  },
  "language_info": {
   "codemirror_mode": {
    "name": "ipython",
    "version": 3
   },
   "file_extension": ".py",
   "mimetype": "text/x-python",
   "name": "python",
   "nbconvert_exporter": "python",
   "pygments_lexer": "ipython3",
   "version": "3.7.6"
  }
 },
 "nbformat": 4,
 "nbformat_minor": 4
}
