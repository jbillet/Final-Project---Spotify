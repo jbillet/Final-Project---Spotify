{
 "cells": [
  {
   "cell_type": "markdown",
   "metadata": {},
   "source": [
    "### Import Libraries"
   ]
  },
  {
   "cell_type": "code",
   "execution_count": 39,
   "metadata": {},
   "outputs": [],
   "source": [
    "import requests\n",
    "import json\n",
    "import spotipy\n",
    "import spotipy.oauth2 as oauth2\n",
    "from spotipy.oauth2 import SpotifyClientCredentials\n",
    "import pandas as pd\n",
    "import string\n",
    "import mysql.connector\n",
    "from tqdm.notebook import tqdm\n",
    "import seaborn as sns\n",
    "import statsmodels.api as sm\n",
    "from statsmodels.formula.api import ols\n",
    "import matplotlib.pyplot as plt\n",
    "import scipy.stats as stats\n",
    "from spotipy.oauth2 import SpotifyClientCredentials\n",
    "import time\n",
    "import pandas as pd\n",
    "from pandas.io.json import json_normalize\n"
   ]
  },
  {
   "cell_type": "markdown",
   "metadata": {},
   "source": [
    "### Spotify Webscraping"
   ]
  },
  {
   "cell_type": "code",
   "execution_count": 40,
   "metadata": {},
   "outputs": [],
   "source": [
    "url = 'https://spotifycharts.com/regional/global/daily/2020-09-16'\n"
   ]
  },
  {
   "cell_type": "code",
   "execution_count": 41,
   "metadata": {},
   "outputs": [],
   "source": [
    "results = requests.get(url)\n"
   ]
  },
  {
   "cell_type": "markdown",
   "metadata": {},
   "source": [
    "Checked status of the request"
   ]
  },
  {
   "cell_type": "code",
   "execution_count": 42,
   "metadata": {},
   "outputs": [
    {
     "data": {
      "text/plain": [
       "200"
      ]
     },
     "execution_count": 42,
     "metadata": {},
     "output_type": "execute_result"
    }
   ],
   "source": [
    "results.status_code\n"
   ]
  },
  {
   "cell_type": "markdown",
   "metadata": {},
   "source": [
    "Imported Beautiful Soup and neccesary libraries"
   ]
  },
  {
   "cell_type": "code",
   "execution_count": 43,
   "metadata": {},
   "outputs": [],
   "source": [
    "import requests\n",
    "from bs4 import BeautifulSoup as BS\n",
    "import re\n",
    "soup = BS(results.content, 'html.parser')\n"
   ]
  },
  {
   "cell_type": "code",
   "execution_count": 44,
   "metadata": {},
   "outputs": [],
   "source": [
    "cool_songs = soup.find_all('td', class_ = \"chart-table-track\")\n"
   ]
  },
  {
   "cell_type": "markdown",
   "metadata": {},
   "source": [
    "Cleaned up Songs by making only the song name appear"
   ]
  },
  {
   "cell_type": "code",
   "execution_count": 8,
   "metadata": {},
   "outputs": [],
   "source": [
    "songs = []\n",
    "for ele in cool_songs:\n",
    "    songs.append(ele.get_text(separator = ' '))"
   ]
  },
  {
   "cell_type": "code",
   "execution_count": 9,
   "metadata": {},
   "outputs": [
    {
     "data": {
      "text/plain": [
       "['', ' WAP (feat. Megan Thee Stallion) ', ' by Cardi B ', '']"
      ]
     },
     "execution_count": 9,
     "metadata": {},
     "output_type": "execute_result"
    }
   ],
   "source": [
    "songs[0].split('\\n')\n"
   ]
  },
  {
   "cell_type": "code",
   "execution_count": 10,
   "metadata": {},
   "outputs": [],
   "source": [
    "mylist = []\n",
    "for song in songs:\n",
    "    mylist.append(song.strip().split('\\n'))"
   ]
  },
  {
   "cell_type": "code",
   "execution_count": 11,
   "metadata": {},
   "outputs": [
    {
     "data": {
      "text/plain": [
       "' by Cardi B'"
      ]
     },
     "execution_count": 11,
     "metadata": {},
     "output_type": "execute_result"
    }
   ],
   "source": [
    "mylist[0][1]\n"
   ]
  },
  {
   "cell_type": "code",
   "execution_count": 12,
   "metadata": {},
   "outputs": [],
   "source": [
    "i=0\n",
    "name=[]\n",
    "artist=[]\n",
    "for thing in mylist:\n",
    "        name.append(mylist[i][0])\n",
    "        artist.append(mylist[i][1])\n",
    "        i+=1"
   ]
  },
  {
   "cell_type": "code",
   "execution_count": 13,
   "metadata": {},
   "outputs": [
    {
     "data": {
      "text/plain": [
       "' by Cardi B'"
      ]
     },
     "execution_count": 13,
     "metadata": {},
     "output_type": "execute_result"
    }
   ],
   "source": [
    "artist[0]\n"
   ]
  },
  {
   "cell_type": "markdown",
   "metadata": {},
   "source": [
    "Cleaned up artist name by only making the artist name appear"
   ]
  },
  {
   "cell_type": "code",
   "execution_count": 14,
   "metadata": {},
   "outputs": [],
   "source": [
    "new_artist = []\n",
    "for item in artist:\n",
    "    maybe=item.replace('by','')\n",
    "    new_artist.append(maybe)"
   ]
  },
  {
   "cell_type": "code",
   "execution_count": 15,
   "metadata": {},
   "outputs": [],
   "source": [
    "new_new_artist = []\n",
    "for item in new_artist:\n",
    "    maybe=item.replace(' %','')\n",
    "    new_new_artist.append(maybe)"
   ]
  },
  {
   "cell_type": "markdown",
   "metadata": {},
   "source": [
    "### Spotify Top 200 CSV Files"
   ]
  },
  {
   "cell_type": "markdown",
   "metadata": {},
   "source": [
    "Used glob to access all of the downloaded Top 200 songs from Spotify"
   ]
  },
  {
   "cell_type": "code",
   "execution_count": 16,
   "metadata": {},
   "outputs": [],
   "source": [
    "import glob\n",
    "path = \"/Users/joeybillet/Desktop/Final-Project---Spotify/Spotify_weekly_chart_csv_files/*.csv\"\n",
    "\n",
    "cap = glob.glob(path)"
   ]
  },
  {
   "cell_type": "code",
   "execution_count": 17,
   "metadata": {},
   "outputs": [
    {
     "name": "stdout",
     "output_type": "stream",
     "text": [
      "/Users/joeybillet/Desktop/Final-Project---Spotify/Spotify_weekly_chart_csv_files\n"
     ]
    }
   ],
   "source": [
    "cd Spotify_weekly_chart_csv_files"
   ]
  },
  {
   "cell_type": "code",
   "execution_count": 18,
   "metadata": {},
   "outputs": [],
   "source": [
    "\n",
    "charts = [i.replace('/Users/joeybillet/Desktop/Final-Project---Spotify/Spotify_weekly_chart_csv_files ',\"\") for i in cap]\n",
    "\n"
   ]
  },
  {
   "cell_type": "markdown",
   "metadata": {},
   "source": [
    "Called on the ID's of the Top 200 weekly songs"
   ]
  },
  {
   "cell_type": "code",
   "execution_count": 19,
   "metadata": {},
   "outputs": [],
   "source": [
    "def get_ids(csv_name):\n",
    "    track_ids = []\n",
    "    chart = pd.read_csv(csv_name)\n",
    "    for i in range(1,len(chart)):\n",
    "        track = chart['Unnamed: 4'][i].split(\"/\")[4]\n",
    "        track_ids.append(track)\n",
    "    return track_ids"
   ]
  },
  {
   "cell_type": "code",
   "execution_count": 20,
   "metadata": {},
   "outputs": [],
   "source": [
    "all_ids = []\n",
    "for thing in charts:   \n",
    "    all_ids.extend(get_ids(thing))"
   ]
  },
  {
   "cell_type": "markdown",
   "metadata": {},
   "source": [
    "Called on the artists of the weekly Top 200 songs from the csv files accessed through Spotify"
   ]
  },
  {
   "cell_type": "code",
   "execution_count": 22,
   "metadata": {},
   "outputs": [],
   "source": [
    "def get_artists(csv_name):\n",
    "    artist_spotify = []\n",
    "    chart = pd.read_csv(csv_name)\n",
    "    for i in range(1,len(chart)):\n",
    "        artist = chart['Unnamed: 2'][i]\n",
    "        artist_spotify.append(artist)\n",
    "    return artist_spotify"
   ]
  },
  {
   "cell_type": "code",
   "execution_count": 23,
   "metadata": {},
   "outputs": [],
   "source": [
    "all_artists = []\n",
    "for thing in charts:   \n",
    "    all_artists.extend(get_artists(thing))"
   ]
  },
  {
   "cell_type": "markdown",
   "metadata": {},
   "source": [
    "Called on the names of the songs of the weekly Top 200 songs from the csv files accessed through Spotify"
   ]
  },
  {
   "cell_type": "code",
   "execution_count": 24,
   "metadata": {},
   "outputs": [],
   "source": [
    "def get_names(csv_name):\n",
    "    names = []\n",
    "    chart = pd.read_csv(csv_name)\n",
    "    for i in range(1,len(chart)):\n",
    "        artist = chart['Unnamed: 1'][i]\n",
    "        names.append(artist)\n",
    "    return names"
   ]
  },
  {
   "cell_type": "code",
   "execution_count": 25,
   "metadata": {},
   "outputs": [],
   "source": [
    "all_names = []\n",
    "for thing in charts:   \n",
    "    all_names.extend(get_names(thing))"
   ]
  },
  {
   "cell_type": "markdown",
   "metadata": {},
   "source": [
    "Called on the positions of songs of the weekly Top 200 songs from the csv files accessed through Spotify"
   ]
  },
  {
   "cell_type": "code",
   "execution_count": 26,
   "metadata": {},
   "outputs": [],
   "source": [
    "def get_positions(csv_name):\n",
    "    positions = []\n",
    "    chart = pd.read_csv(csv_name)\n",
    "    for i in range(1,len(chart)):\n",
    "        position = chart['Unnamed: 0'][i]\n",
    "        positions.append(position)\n",
    "    return positions"
   ]
  },
  {
   "cell_type": "code",
   "execution_count": 27,
   "metadata": {},
   "outputs": [],
   "source": [
    "all_positions = []\n",
    "for thing in charts:   \n",
    "    all_positions.extend(get_positions(thing))"
   ]
  },
  {
   "cell_type": "markdown",
   "metadata": {},
   "source": [
    "Called on the number of streams of the weekly Top 200 songs from the csv files accessed through Spotify"
   ]
  },
  {
   "cell_type": "code",
   "execution_count": 28,
   "metadata": {},
   "outputs": [],
   "source": [
    "def get_streams(csv_name):\n",
    "    streams = []\n",
    "    chart = pd.read_csv(csv_name)\n",
    "    for i in range(1,len(chart)):\n",
    "        stream = chart['Note that these figures are generated using a formula that protects against any artificial inflation of chart positions.'][i]\n",
    "        streams.append(stream)\n",
    "    return streams"
   ]
  },
  {
   "cell_type": "code",
   "execution_count": 29,
   "metadata": {},
   "outputs": [],
   "source": [
    "all_streams = []\n",
    "for thing in charts:   \n",
    "    all_streams.extend(get_streams(thing))"
   ]
  },
  {
   "cell_type": "markdown",
   "metadata": {},
   "source": [
    "Called on the week numbers of the weekly Top 200 songs from the csv files accessed through Spotify"
   ]
  },
  {
   "cell_type": "code",
   "execution_count": 30,
   "metadata": {},
   "outputs": [],
   "source": [
    "week_numbers = []\n",
    "for i in range(0,155):\n",
    "    counter=200\n",
    "    while counter != 0:\n",
    "        week_numbers.append(i)\n",
    "        counter = counter-1"
   ]
  },
  {
   "cell_type": "markdown",
   "metadata": {},
   "source": [
    "### Spotify API"
   ]
  },
  {
   "cell_type": "markdown",
   "metadata": {},
   "source": [
    "Tested calling all of the audio features from Spotify on one song before calling a full API"
   ]
  },
  {
   "cell_type": "code",
   "execution_count": 36,
   "metadata": {
    "scrolled": true
   },
   "outputs": [
    {
     "name": "stdout",
     "output_type": "stream",
     "text": [
      "[{'danceability': 0.825, 'energy': 0.652, 'key': 1, 'loudness': -3.183, 'mode': 0, 'speechiness': 0.0802, 'acousticness': 0.581, 'instrumentalness': 0, 'liveness': 0.0931, 'valence': 0.931, 'tempo': 95.977, 'type': 'audio_features', 'id': '7qiZfU4dY1lWllzX7mPBI3', 'uri': 'spotify:track:7qiZfU4dY1lWllzX7mPBI3', 'track_href': 'https://api.spotify.com/v1/tracks/7qiZfU4dY1lWllzX7mPBI3', 'analysis_url': 'https://api.spotify.com/v1/audio-analysis/7qiZfU4dY1lWllzX7mPBI3', 'duration_ms': 233713, 'time_signature': 4}]\n"
     ]
    }
   ],
   "source": [
    "credentials = spotipy.oauth2.SpotifyClientCredentials(client_id='9f269f8ff86f432a96ab58abb33dd268', client_secret='e069c4ecb50c4ce097b0cb8974482432')\n",
    "spotify = spotipy.Spotify(client_credentials_manager=credentials)\n",
    "print (spotify.audio_features(['7qiZfU4dY1lWllzX7mPBI3']))\n"
   ]
  },
  {
   "cell_type": "markdown",
   "metadata": {},
   "source": [
    "Fully called the API to access the audio features of 30,000+ songs"
   ]
  },
  {
   "cell_type": "code",
   "execution_count": 38,
   "metadata": {
    "scrolled": true
   },
   "outputs": [],
   "source": [
    "all_audio_features = []\n",
    "for thing in tqdm(all_ids):\n",
    "    all_audio_features.append((spotify.audio_features([f'{thing}'])))\n",
    "    time.sleep(.35)\n"
   ]
  },
  {
   "cell_type": "code",
   "execution_count": 106,
   "metadata": {},
   "outputs": [],
   "source": [
    "audio_feat_pd = pd.DataFrame(all_audio_features) \n",
    "audio_feat_pd.to_csv('audio_features.csv')"
   ]
  },
  {
   "cell_type": "code",
   "execution_count": null,
   "metadata": {},
   "outputs": [],
   "source": []
  },
  {
   "cell_type": "code",
   "execution_count": null,
   "metadata": {},
   "outputs": [],
   "source": []
  }
 ],
 "metadata": {
  "kernelspec": {
   "display_name": "Python 3",
   "language": "python",
   "name": "python3"
  },
  "language_info": {
   "codemirror_mode": {
    "name": "ipython",
    "version": 3
   },
   "file_extension": ".py",
   "mimetype": "text/x-python",
   "name": "python",
   "nbconvert_exporter": "python",
   "pygments_lexer": "ipython3",
   "version": "3.7.6"
  }
 },
 "nbformat": 4,
 "nbformat_minor": 4
}
