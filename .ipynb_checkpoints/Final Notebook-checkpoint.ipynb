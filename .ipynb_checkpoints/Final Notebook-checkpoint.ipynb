{
 "cells": [
  {
   "cell_type": "markdown",
   "metadata": {},
   "source": [
    "# Import Libraries"
   ]
  },
  {
   "cell_type": "code",
   "execution_count": 1,
   "metadata": {},
   "outputs": [],
   "source": [
    "import requests\n",
    "import json\n",
    "import spotipy\n",
    "import spotipy.oauth2 as oauth2\n",
    "from spotipy.oauth2 import SpotifyClientCredentials\n",
    "import pandas as pd\n",
    "import numpy as np \n",
    "import string\n",
    "import mysql.connector\n",
    "from tqdm import tqdm\n",
    "import seaborn as sns\n",
    "import statsmodels.api as sm\n",
    "from statsmodels.formula.api import ols\n",
    "import matplotlib.pyplot as plt\n",
    "import scipy.stats as stats\n",
    "from scipy.stats.stats import pearsonr\n",
    "import scipy as sp\n",
    "from scipy import stats\n",
    "from scipy.stats import skew,norm\n",
    "from sklearn.model_selection import train_test_split\n",
    "from sklearn.preprocessing import StandardScaler\n",
    "from sklearn.preprocessing import PolynomialFeatures\n",
    "plt.style.use('seaborn')\n",
    "from sklearn import metrics\n",
    "from datetime import datetime\n",
    "import matplotlib.pyplot as plt\n",
    "from scipy import stats\n",
    "import statsmodels.api as sm\n",
    "from sklearn.linear_model import LinearRegression\n",
    "from sklearn import metrics\n",
    "from sklearn.linear_model import LogisticRegression\n",
    "from sklearn.metrics import accuracy_score, f1_score, recall_score\n",
    "from sklearn.neighbors import KNeighborsClassifier\n",
    "from sklearn import metrics\n",
    "from sklearn.tree import DecisionTreeClassifier\n",
    "from sklearn.model_selection import GridSearchCV\n",
    "from sklearn.model_selection import RandomizedSearchCV\n",
    "from sklearn.ensemble import RandomForestClassifier\n",
    "from sklearn.model_selection import cross_val_score\n",
    "from sklearn.metrics import classification_report\n",
    "from sklearn.ensemble import RandomForestClassifier\n",
    "from sklearn.metrics import confusion_matrix\n",
    "from sklearn.feature_selection import SelectKBest, f_regression,mutual_info_regression\n",
    "import xgboost as xgb\n",
    "from sklearn.utils import resample\n",
    "from sklearn.ensemble import VotingClassifier\n",
    "import os\n",
    "import itertools\n",
    "from imblearn.over_sampling import SMOTE\n",
    "import pickle"
   ]
  },
  {
   "cell_type": "markdown",
   "metadata": {},
   "source": [
    "## Data Cleaning and EDA"
   ]
  },
  {
   "cell_type": "code",
   "execution_count": 3,
   "metadata": {},
   "outputs": [],
   "source": [
    "df_weekly = pd.read_csv('spotify_weekly.csv', sep = ';')\n",
    "df_artists = pd.read_csv('artists.csv', sep = ';')\n",
    "df_features = pd.read_csv('audio_features.csv', sep = ';')\n",
    "df_albums = pd.read_csv('album_features.csv', sep = ';')\n",
    "df_unique = pd.read_csv('weekly_features_pd.csv')"
   ]
  },
  {
   "cell_type": "markdown",
   "metadata": {},
   "source": [
    "Rename columns to match with features df for successful merge\n"
   ]
  },
  {
   "cell_type": "code",
   "execution_count": 5,
   "metadata": {},
   "outputs": [],
   "source": [
    "df_artists.rename(columns = {'name': 'artist'}, inplace = True)\n"
   ]
  },
  {
   "cell_type": "markdown",
   "metadata": {},
   "source": [
    "Merge dataframes to match track features with track placement on charts\n"
   ]
  },
  {
   "cell_type": "code",
   "execution_count": 6,
   "metadata": {},
   "outputs": [],
   "source": [
    "weekly_features = pd.merge(df_weekly, df_features, how = 'left', on = 'id')"
   ]
  },
  {
   "cell_type": "code",
   "execution_count": 7,
   "metadata": {
    "scrolled": true
   },
   "outputs": [
    {
     "data": {
      "text/html": [
       "<div>\n",
       "<style scoped>\n",
       "    .dataframe tbody tr th:only-of-type {\n",
       "        vertical-align: middle;\n",
       "    }\n",
       "\n",
       "    .dataframe tbody tr th {\n",
       "        vertical-align: top;\n",
       "    }\n",
       "\n",
       "    .dataframe thead th {\n",
       "        text-align: right;\n",
       "    }\n",
       "</style>\n",
       "<table border=\"1\" class=\"dataframe\">\n",
       "  <thead>\n",
       "    <tr style=\"text-align: right;\">\n",
       "      <th></th>\n",
       "      <th>id</th>\n",
       "      <th>week_of</th>\n",
       "      <th>chart_position</th>\n",
       "      <th>track_name</th>\n",
       "      <th>artist</th>\n",
       "      <th>num_of_streams</th>\n",
       "      <th>danceability</th>\n",
       "      <th>energy</th>\n",
       "      <th>loudness</th>\n",
       "      <th>speechiness</th>\n",
       "      <th>acousticness</th>\n",
       "      <th>instrumentalness</th>\n",
       "      <th>liveness</th>\n",
       "      <th>valence</th>\n",
       "      <th>tempo</th>\n",
       "      <th>duration</th>\n",
       "      <th>time_signature</th>\n",
       "    </tr>\n",
       "  </thead>\n",
       "  <tbody>\n",
       "    <tr>\n",
       "      <th>10996</th>\n",
       "      <td>14msK75pk3pA33pzPVNtBF</td>\n",
       "      <td>55</td>\n",
       "      <td>1</td>\n",
       "      <td>7 rings</td>\n",
       "      <td>Ariana Grande</td>\n",
       "      <td>71467874</td>\n",
       "      <td>0.725</td>\n",
       "      <td>0.321</td>\n",
       "      <td>-10.744</td>\n",
       "      <td>0.323</td>\n",
       "      <td>0.578</td>\n",
       "      <td>0.000</td>\n",
       "      <td>0.088</td>\n",
       "      <td>0.319</td>\n",
       "      <td>70.142</td>\n",
       "      <td>178640</td>\n",
       "      <td>4.0</td>\n",
       "    </tr>\n",
       "    <tr>\n",
       "      <th>3600</th>\n",
       "      <td>0bAkKNCQfWkexHFn7fIKns</td>\n",
       "      <td>18</td>\n",
       "      <td>1</td>\n",
       "      <td>In My Feelings</td>\n",
       "      <td>Drake</td>\n",
       "      <td>67499798</td>\n",
       "      <td>0.735</td>\n",
       "      <td>0.482</td>\n",
       "      <td>-9.445</td>\n",
       "      <td>0.139</td>\n",
       "      <td>0.006</td>\n",
       "      <td>0.014</td>\n",
       "      <td>0.448</td>\n",
       "      <td>0.315</td>\n",
       "      <td>181.995</td>\n",
       "      <td>217933</td>\n",
       "      <td>4.0</td>\n",
       "    </tr>\n",
       "    <tr>\n",
       "      <th>8200</th>\n",
       "      <td>0TK2YIli7K1leLovkQiNik</td>\n",
       "      <td>41</td>\n",
       "      <td>1</td>\n",
       "      <td>Señorita</td>\n",
       "      <td>Shawn Mendes</td>\n",
       "      <td>67237638</td>\n",
       "      <td>0.759</td>\n",
       "      <td>0.540</td>\n",
       "      <td>-6.039</td>\n",
       "      <td>0.029</td>\n",
       "      <td>0.037</td>\n",
       "      <td>0.000</td>\n",
       "      <td>0.095</td>\n",
       "      <td>0.750</td>\n",
       "      <td>116.947</td>\n",
       "      <td>190960</td>\n",
       "      <td>4.0</td>\n",
       "    </tr>\n",
       "    <tr>\n",
       "      <th>18596</th>\n",
       "      <td>0TK2YIli7K1leLovkQiNik</td>\n",
       "      <td>93</td>\n",
       "      <td>1</td>\n",
       "      <td>Señorita</td>\n",
       "      <td>Shawn Mendes</td>\n",
       "      <td>66933317</td>\n",
       "      <td>0.759</td>\n",
       "      <td>0.540</td>\n",
       "      <td>-6.039</td>\n",
       "      <td>0.029</td>\n",
       "      <td>0.037</td>\n",
       "      <td>0.000</td>\n",
       "      <td>0.095</td>\n",
       "      <td>0.750</td>\n",
       "      <td>116.947</td>\n",
       "      <td>190960</td>\n",
       "      <td>4.0</td>\n",
       "    </tr>\n",
       "    <tr>\n",
       "      <th>9196</th>\n",
       "      <td>2G7V7zsVDxg1yRsu7Ew9RJ</td>\n",
       "      <td>46</td>\n",
       "      <td>1</td>\n",
       "      <td>In My Feelings</td>\n",
       "      <td>Drake</td>\n",
       "      <td>65825491</td>\n",
       "      <td>0.835</td>\n",
       "      <td>0.626</td>\n",
       "      <td>-5.833</td>\n",
       "      <td>0.125</td>\n",
       "      <td>0.059</td>\n",
       "      <td>0.000</td>\n",
       "      <td>0.396</td>\n",
       "      <td>0.350</td>\n",
       "      <td>91.030</td>\n",
       "      <td>217925</td>\n",
       "      <td>4.0</td>\n",
       "    </tr>\n",
       "    <tr>\n",
       "      <th>19396</th>\n",
       "      <td>0TK2YIli7K1leLovkQiNik</td>\n",
       "      <td>97</td>\n",
       "      <td>1</td>\n",
       "      <td>Señorita</td>\n",
       "      <td>Shawn Mendes</td>\n",
       "      <td>64942021</td>\n",
       "      <td>0.759</td>\n",
       "      <td>0.540</td>\n",
       "      <td>-6.039</td>\n",
       "      <td>0.029</td>\n",
       "      <td>0.037</td>\n",
       "      <td>0.000</td>\n",
       "      <td>0.095</td>\n",
       "      <td>0.750</td>\n",
       "      <td>116.947</td>\n",
       "      <td>190960</td>\n",
       "      <td>4.0</td>\n",
       "    </tr>\n",
       "    <tr>\n",
       "      <th>0</th>\n",
       "      <td>7qiZfU4dY1lWllzX7mPBI3</td>\n",
       "      <td>0</td>\n",
       "      <td>1</td>\n",
       "      <td>Shape of You</td>\n",
       "      <td>Ed Sheeran</td>\n",
       "      <td>64275251</td>\n",
       "      <td>0.825</td>\n",
       "      <td>0.652</td>\n",
       "      <td>-3.183</td>\n",
       "      <td>0.080</td>\n",
       "      <td>0.581</td>\n",
       "      <td>0.000</td>\n",
       "      <td>0.093</td>\n",
       "      <td>0.931</td>\n",
       "      <td>95.977</td>\n",
       "      <td>233713</td>\n",
       "      <td>4.0</td>\n",
       "    </tr>\n",
       "    <tr>\n",
       "      <th>16596</th>\n",
       "      <td>6ocbgoVGwYJhOv1GgI9NsF</td>\n",
       "      <td>83</td>\n",
       "      <td>1</td>\n",
       "      <td>7 rings</td>\n",
       "      <td>Ariana Grande</td>\n",
       "      <td>63197614</td>\n",
       "      <td>0.778</td>\n",
       "      <td>0.317</td>\n",
       "      <td>-10.732</td>\n",
       "      <td>0.334</td>\n",
       "      <td>0.592</td>\n",
       "      <td>0.000</td>\n",
       "      <td>0.088</td>\n",
       "      <td>0.327</td>\n",
       "      <td>140.048</td>\n",
       "      <td>178627</td>\n",
       "      <td>4.0</td>\n",
       "    </tr>\n",
       "    <tr>\n",
       "      <th>12796</th>\n",
       "      <td>0TK2YIli7K1leLovkQiNik</td>\n",
       "      <td>64</td>\n",
       "      <td>1</td>\n",
       "      <td>Señorita</td>\n",
       "      <td>Shawn Mendes</td>\n",
       "      <td>63045599</td>\n",
       "      <td>0.759</td>\n",
       "      <td>0.540</td>\n",
       "      <td>-6.039</td>\n",
       "      <td>0.029</td>\n",
       "      <td>0.037</td>\n",
       "      <td>0.000</td>\n",
       "      <td>0.095</td>\n",
       "      <td>0.750</td>\n",
       "      <td>116.947</td>\n",
       "      <td>190960</td>\n",
       "      <td>4.0</td>\n",
       "    </tr>\n",
       "    <tr>\n",
       "      <th>800</th>\n",
       "      <td>0TK2YIli7K1leLovkQiNik</td>\n",
       "      <td>4</td>\n",
       "      <td>1</td>\n",
       "      <td>Señorita</td>\n",
       "      <td>Shawn Mendes</td>\n",
       "      <td>61224745</td>\n",
       "      <td>0.759</td>\n",
       "      <td>0.540</td>\n",
       "      <td>-6.039</td>\n",
       "      <td>0.029</td>\n",
       "      <td>0.037</td>\n",
       "      <td>0.000</td>\n",
       "      <td>0.095</td>\n",
       "      <td>0.750</td>\n",
       "      <td>116.947</td>\n",
       "      <td>190960</td>\n",
       "      <td>4.0</td>\n",
       "    </tr>\n",
       "  </tbody>\n",
       "</table>\n",
       "</div>"
      ],
      "text/plain": [
       "                           id  week_of  chart_position      track_name  \\\n",
       "10996  14msK75pk3pA33pzPVNtBF       55               1         7 rings   \n",
       "3600   0bAkKNCQfWkexHFn7fIKns       18               1  In My Feelings   \n",
       "8200   0TK2YIli7K1leLovkQiNik       41               1        Señorita   \n",
       "18596  0TK2YIli7K1leLovkQiNik       93               1        Señorita   \n",
       "9196   2G7V7zsVDxg1yRsu7Ew9RJ       46               1  In My Feelings   \n",
       "19396  0TK2YIli7K1leLovkQiNik       97               1        Señorita   \n",
       "0      7qiZfU4dY1lWllzX7mPBI3        0               1    Shape of You   \n",
       "16596  6ocbgoVGwYJhOv1GgI9NsF       83               1         7 rings   \n",
       "12796  0TK2YIli7K1leLovkQiNik       64               1        Señorita   \n",
       "800    0TK2YIli7K1leLovkQiNik        4               1        Señorita   \n",
       "\n",
       "              artist  num_of_streams  danceability  energy  loudness  \\\n",
       "10996  Ariana Grande        71467874         0.725   0.321   -10.744   \n",
       "3600           Drake        67499798         0.735   0.482    -9.445   \n",
       "8200    Shawn Mendes        67237638         0.759   0.540    -6.039   \n",
       "18596   Shawn Mendes        66933317         0.759   0.540    -6.039   \n",
       "9196           Drake        65825491         0.835   0.626    -5.833   \n",
       "19396   Shawn Mendes        64942021         0.759   0.540    -6.039   \n",
       "0         Ed Sheeran        64275251         0.825   0.652    -3.183   \n",
       "16596  Ariana Grande        63197614         0.778   0.317   -10.732   \n",
       "12796   Shawn Mendes        63045599         0.759   0.540    -6.039   \n",
       "800     Shawn Mendes        61224745         0.759   0.540    -6.039   \n",
       "\n",
       "       speechiness  acousticness  instrumentalness  liveness  valence  \\\n",
       "10996        0.323         0.578             0.000     0.088    0.319   \n",
       "3600         0.139         0.006             0.014     0.448    0.315   \n",
       "8200         0.029         0.037             0.000     0.095    0.750   \n",
       "18596        0.029         0.037             0.000     0.095    0.750   \n",
       "9196         0.125         0.059             0.000     0.396    0.350   \n",
       "19396        0.029         0.037             0.000     0.095    0.750   \n",
       "0            0.080         0.581             0.000     0.093    0.931   \n",
       "16596        0.334         0.592             0.000     0.088    0.327   \n",
       "12796        0.029         0.037             0.000     0.095    0.750   \n",
       "800          0.029         0.037             0.000     0.095    0.750   \n",
       "\n",
       "         tempo  duration  time_signature  \n",
       "10996   70.142    178640             4.0  \n",
       "3600   181.995    217933             4.0  \n",
       "8200   116.947    190960             4.0  \n",
       "18596  116.947    190960             4.0  \n",
       "9196    91.030    217925             4.0  \n",
       "19396  116.947    190960             4.0  \n",
       "0       95.977    233713             4.0  \n",
       "16596  140.048    178627             4.0  \n",
       "12796  116.947    190960             4.0  \n",
       "800    116.947    190960             4.0  "
      ]
     },
     "execution_count": 7,
     "metadata": {},
     "output_type": "execute_result"
    }
   ],
   "source": [
    "weekly_features.sort_values('num_of_streams', ascending = False).head(10)\n"
   ]
  },
  {
   "cell_type": "markdown",
   "metadata": {},
   "source": [
    "Merging weekly features and artists into the master dataframe"
   ]
  },
  {
   "cell_type": "code",
   "execution_count": 8,
   "metadata": {},
   "outputs": [],
   "source": [
    "df_master = pd.merge(weekly_features, df_artists, how = 'left', on = 'artist')\n"
   ]
  },
  {
   "cell_type": "code",
   "execution_count": 9,
   "metadata": {},
   "outputs": [
    {
     "data": {
      "text/html": [
       "<div>\n",
       "<style scoped>\n",
       "    .dataframe tbody tr th:only-of-type {\n",
       "        vertical-align: middle;\n",
       "    }\n",
       "\n",
       "    .dataframe tbody tr th {\n",
       "        vertical-align: top;\n",
       "    }\n",
       "\n",
       "    .dataframe thead th {\n",
       "        text-align: right;\n",
       "    }\n",
       "</style>\n",
       "<table border=\"1\" class=\"dataframe\">\n",
       "  <thead>\n",
       "    <tr style=\"text-align: right;\">\n",
       "      <th></th>\n",
       "      <th>id_x</th>\n",
       "      <th>week_of</th>\n",
       "      <th>chart_position</th>\n",
       "      <th>track_name</th>\n",
       "      <th>artist</th>\n",
       "      <th>num_of_streams</th>\n",
       "      <th>danceability</th>\n",
       "      <th>energy</th>\n",
       "      <th>loudness</th>\n",
       "      <th>speechiness</th>\n",
       "      <th>acousticness</th>\n",
       "      <th>instrumentalness</th>\n",
       "      <th>liveness</th>\n",
       "      <th>valence</th>\n",
       "      <th>tempo</th>\n",
       "      <th>duration</th>\n",
       "      <th>time_signature</th>\n",
       "      <th>id_y</th>\n",
       "      <th>popularity_score</th>\n",
       "      <th>num_of_followers</th>\n",
       "    </tr>\n",
       "  </thead>\n",
       "  <tbody>\n",
       "    <tr>\n",
       "      <th>20440</th>\n",
       "      <td>2C6WXnmZ66tHhHlnvwePiK</td>\n",
       "      <td>102</td>\n",
       "      <td>45</td>\n",
       "      <td>Die For Me (feat. Future &amp; Halsey)</td>\n",
       "      <td>Post Malone</td>\n",
       "      <td>10373799</td>\n",
       "      <td>0.614</td>\n",
       "      <td>0.660</td>\n",
       "      <td>-2.848</td>\n",
       "      <td>0.044</td>\n",
       "      <td>0.190</td>\n",
       "      <td>0.0</td>\n",
       "      <td>0.211</td>\n",
       "      <td>0.452</td>\n",
       "      <td>145.010</td>\n",
       "      <td>245267</td>\n",
       "      <td>4.0</td>\n",
       "      <td>246dkjvS1zLTtiykXe5h60</td>\n",
       "      <td>100.0</td>\n",
       "      <td>20854501.0</td>\n",
       "    </tr>\n",
       "    <tr>\n",
       "      <th>17596</th>\n",
       "      <td>7wGoVu4Dady5GV0Sv4UIsx</td>\n",
       "      <td>88</td>\n",
       "      <td>1</td>\n",
       "      <td>rockstar</td>\n",
       "      <td>Post Malone</td>\n",
       "      <td>29659184</td>\n",
       "      <td>0.577</td>\n",
       "      <td>0.522</td>\n",
       "      <td>-6.594</td>\n",
       "      <td>0.098</td>\n",
       "      <td>0.130</td>\n",
       "      <td>0.0</td>\n",
       "      <td>0.142</td>\n",
       "      <td>0.119</td>\n",
       "      <td>159.772</td>\n",
       "      <td>218320</td>\n",
       "      <td>4.0</td>\n",
       "      <td>246dkjvS1zLTtiykXe5h60</td>\n",
       "      <td>100.0</td>\n",
       "      <td>20854501.0</td>\n",
       "    </tr>\n",
       "    <tr>\n",
       "      <th>2485</th>\n",
       "      <td>5yuShbu70mtHXY0yLzCQLQ</td>\n",
       "      <td>12</td>\n",
       "      <td>86</td>\n",
       "      <td>Go Flex</td>\n",
       "      <td>Post Malone</td>\n",
       "      <td>5934885</td>\n",
       "      <td>0.665</td>\n",
       "      <td>0.498</td>\n",
       "      <td>-8.185</td>\n",
       "      <td>0.083</td>\n",
       "      <td>0.228</td>\n",
       "      <td>0.0</td>\n",
       "      <td>0.076</td>\n",
       "      <td>0.127</td>\n",
       "      <td>81.967</td>\n",
       "      <td>179613</td>\n",
       "      <td>4.0</td>\n",
       "      <td>246dkjvS1zLTtiykXe5h60</td>\n",
       "      <td>100.0</td>\n",
       "      <td>20854501.0</td>\n",
       "    </tr>\n",
       "    <tr>\n",
       "      <th>21433</th>\n",
       "      <td>7dt6x5M1jzdTEt8oCbisTK</td>\n",
       "      <td>107</td>\n",
       "      <td>38</td>\n",
       "      <td>Better Now</td>\n",
       "      <td>Post Malone</td>\n",
       "      <td>11775588</td>\n",
       "      <td>0.680</td>\n",
       "      <td>0.578</td>\n",
       "      <td>-5.804</td>\n",
       "      <td>0.040</td>\n",
       "      <td>0.331</td>\n",
       "      <td>0.0</td>\n",
       "      <td>0.135</td>\n",
       "      <td>0.341</td>\n",
       "      <td>145.038</td>\n",
       "      <td>231267</td>\n",
       "      <td>4.0</td>\n",
       "      <td>246dkjvS1zLTtiykXe5h60</td>\n",
       "      <td>100.0</td>\n",
       "      <td>20854501.0</td>\n",
       "    </tr>\n",
       "    <tr>\n",
       "      <th>10002</th>\n",
       "      <td>6MWtB6iiXyIwun0YzU6DFP</td>\n",
       "      <td>50</td>\n",
       "      <td>7</td>\n",
       "      <td>Wow.</td>\n",
       "      <td>Post Malone</td>\n",
       "      <td>22700765</td>\n",
       "      <td>0.833</td>\n",
       "      <td>0.539</td>\n",
       "      <td>-7.399</td>\n",
       "      <td>0.178</td>\n",
       "      <td>0.163</td>\n",
       "      <td>0.0</td>\n",
       "      <td>0.101</td>\n",
       "      <td>0.385</td>\n",
       "      <td>99.947</td>\n",
       "      <td>149520</td>\n",
       "      <td>4.0</td>\n",
       "      <td>246dkjvS1zLTtiykXe5h60</td>\n",
       "      <td>100.0</td>\n",
       "      <td>20854501.0</td>\n",
       "    </tr>\n",
       "  </tbody>\n",
       "</table>\n",
       "</div>"
      ],
      "text/plain": [
       "                         id_x  week_of  chart_position  \\\n",
       "20440  2C6WXnmZ66tHhHlnvwePiK      102              45   \n",
       "17596  7wGoVu4Dady5GV0Sv4UIsx       88               1   \n",
       "2485   5yuShbu70mtHXY0yLzCQLQ       12              86   \n",
       "21433  7dt6x5M1jzdTEt8oCbisTK      107              38   \n",
       "10002  6MWtB6iiXyIwun0YzU6DFP       50               7   \n",
       "\n",
       "                               track_name       artist  num_of_streams  \\\n",
       "20440  Die For Me (feat. Future & Halsey)  Post Malone        10373799   \n",
       "17596                            rockstar  Post Malone        29659184   \n",
       "2485                              Go Flex  Post Malone         5934885   \n",
       "21433                          Better Now  Post Malone        11775588   \n",
       "10002                                Wow.  Post Malone        22700765   \n",
       "\n",
       "       danceability  energy  loudness  speechiness  acousticness  \\\n",
       "20440         0.614   0.660    -2.848        0.044         0.190   \n",
       "17596         0.577   0.522    -6.594        0.098         0.130   \n",
       "2485          0.665   0.498    -8.185        0.083         0.228   \n",
       "21433         0.680   0.578    -5.804        0.040         0.331   \n",
       "10002         0.833   0.539    -7.399        0.178         0.163   \n",
       "\n",
       "       instrumentalness  liveness  valence    tempo  duration  time_signature  \\\n",
       "20440               0.0     0.211    0.452  145.010    245267             4.0   \n",
       "17596               0.0     0.142    0.119  159.772    218320             4.0   \n",
       "2485                0.0     0.076    0.127   81.967    179613             4.0   \n",
       "21433               0.0     0.135    0.341  145.038    231267             4.0   \n",
       "10002               0.0     0.101    0.385   99.947    149520             4.0   \n",
       "\n",
       "                         id_y  popularity_score  num_of_followers  \n",
       "20440  246dkjvS1zLTtiykXe5h60             100.0        20854501.0  \n",
       "17596  246dkjvS1zLTtiykXe5h60             100.0        20854501.0  \n",
       "2485   246dkjvS1zLTtiykXe5h60             100.0        20854501.0  \n",
       "21433  246dkjvS1zLTtiykXe5h60             100.0        20854501.0  \n",
       "10002  246dkjvS1zLTtiykXe5h60             100.0        20854501.0  "
      ]
     },
     "execution_count": 9,
     "metadata": {},
     "output_type": "execute_result"
    }
   ],
   "source": [
    "df_master.sort_values('popularity_score', ascending = False).head()\n"
   ]
  },
  {
   "cell_type": "markdown",
   "metadata": {},
   "source": [
    "Dropping Na's from popularity score"
   ]
  },
  {
   "cell_type": "code",
   "execution_count": 11,
   "metadata": {},
   "outputs": [],
   "source": [
    "pop_score = df_master['popularity_score'].dropna()\n"
   ]
  },
  {
   "cell_type": "code",
   "execution_count": 12,
   "metadata": {},
   "outputs": [],
   "source": [
    "acousticness = df_master['acousticness']\n"
   ]
  },
  {
   "cell_type": "code",
   "execution_count": 14,
   "metadata": {
    "scrolled": true
   },
   "outputs": [
    {
     "data": {
      "text/html": [
       "<div>\n",
       "<style scoped>\n",
       "    .dataframe tbody tr th:only-of-type {\n",
       "        vertical-align: middle;\n",
       "    }\n",
       "\n",
       "    .dataframe tbody tr th {\n",
       "        vertical-align: top;\n",
       "    }\n",
       "\n",
       "    .dataframe thead th {\n",
       "        text-align: right;\n",
       "    }\n",
       "</style>\n",
       "<table border=\"1\" class=\"dataframe\">\n",
       "  <thead>\n",
       "    <tr style=\"text-align: right;\">\n",
       "      <th></th>\n",
       "      <th>Unnamed: 0</th>\n",
       "      <th>id</th>\n",
       "      <th>week_of</th>\n",
       "      <th>chart_position</th>\n",
       "      <th>track_name</th>\n",
       "      <th>artist</th>\n",
       "      <th>num_of_streams</th>\n",
       "      <th>num_times</th>\n",
       "      <th>danceability</th>\n",
       "      <th>energy</th>\n",
       "      <th>loudness</th>\n",
       "      <th>speechiness</th>\n",
       "      <th>acousticness</th>\n",
       "      <th>instrumentalness</th>\n",
       "      <th>liveness</th>\n",
       "      <th>valence</th>\n",
       "      <th>tempo</th>\n",
       "      <th>duration</th>\n",
       "      <th>time_signature</th>\n",
       "    </tr>\n",
       "  </thead>\n",
       "  <tbody>\n",
       "    <tr>\n",
       "      <th>1823</th>\n",
       "      <td>1823</td>\n",
       "      <td>4tHqQMWSqmL6YjXwsqthDI</td>\n",
       "      <td>16</td>\n",
       "      <td>123</td>\n",
       "      <td>Carol of the Bells</td>\n",
       "      <td>Mykola Dmytrovych Leontovych</td>\n",
       "      <td>7362398</td>\n",
       "      <td>6</td>\n",
       "      <td>0.418</td>\n",
       "      <td>0.106</td>\n",
       "      <td>-22.507</td>\n",
       "      <td>0.045</td>\n",
       "      <td>0.994</td>\n",
       "      <td>0.029</td>\n",
       "      <td>0.179</td>\n",
       "      <td>0.800</td>\n",
       "      <td>46.718</td>\n",
       "      <td>85267</td>\n",
       "      <td>4.0</td>\n",
       "    </tr>\n",
       "    <tr>\n",
       "      <th>322</th>\n",
       "      <td>322</td>\n",
       "      <td>0Uv5Kp8sEnriJjkX4oLfNI</td>\n",
       "      <td>8</td>\n",
       "      <td>127</td>\n",
       "      <td>Paul - Skit</td>\n",
       "      <td>Paul Rosenberg</td>\n",
       "      <td>5139520</td>\n",
       "      <td>2</td>\n",
       "      <td>0.636</td>\n",
       "      <td>0.335</td>\n",
       "      <td>-13.327</td>\n",
       "      <td>0.966</td>\n",
       "      <td>0.993</td>\n",
       "      <td>0.000</td>\n",
       "      <td>0.342</td>\n",
       "      <td>0.561</td>\n",
       "      <td>161.680</td>\n",
       "      <td>35240</td>\n",
       "      <td>4.0</td>\n",
       "    </tr>\n",
       "    <tr>\n",
       "      <th>1351</th>\n",
       "      <td>1351</td>\n",
       "      <td>3ITvHA9zhZZdBJsOsAUegF</td>\n",
       "      <td>2</td>\n",
       "      <td>116</td>\n",
       "      <td>Amorfoda</td>\n",
       "      <td>Bad Bunny</td>\n",
       "      <td>5573531</td>\n",
       "      <td>17</td>\n",
       "      <td>0.742</td>\n",
       "      <td>0.432</td>\n",
       "      <td>-7.539</td>\n",
       "      <td>0.062</td>\n",
       "      <td>0.984</td>\n",
       "      <td>0.000</td>\n",
       "      <td>0.080</td>\n",
       "      <td>0.252</td>\n",
       "      <td>148.005</td>\n",
       "      <td>155676</td>\n",
       "      <td>3.0</td>\n",
       "    </tr>\n",
       "    <tr>\n",
       "      <th>415</th>\n",
       "      <td>415</td>\n",
       "      <td>14JzyD6FlBD5z0wV5P07YI</td>\n",
       "      <td>5</td>\n",
       "      <td>51</td>\n",
       "      <td>when the party's over</td>\n",
       "      <td>Billie Eilish</td>\n",
       "      <td>9681823</td>\n",
       "      <td>23</td>\n",
       "      <td>0.498</td>\n",
       "      <td>0.104</td>\n",
       "      <td>-14.080</td>\n",
       "      <td>0.062</td>\n",
       "      <td>0.979</td>\n",
       "      <td>0.000</td>\n",
       "      <td>0.090</td>\n",
       "      <td>0.205</td>\n",
       "      <td>124.001</td>\n",
       "      <td>199931</td>\n",
       "      <td>3.0</td>\n",
       "    </tr>\n",
       "    <tr>\n",
       "      <th>842</th>\n",
       "      <td>842</td>\n",
       "      <td>299lFlaAsNQdgbIZNPmIA0</td>\n",
       "      <td>88</td>\n",
       "      <td>127</td>\n",
       "      <td>Christmas Time Is Here - Vocal</td>\n",
       "      <td>Vince Guaraldi Trio</td>\n",
       "      <td>5457722</td>\n",
       "      <td>1</td>\n",
       "      <td>0.388</td>\n",
       "      <td>0.145</td>\n",
       "      <td>-19.697</td>\n",
       "      <td>0.032</td>\n",
       "      <td>0.978</td>\n",
       "      <td>0.000</td>\n",
       "      <td>0.100</td>\n",
       "      <td>0.091</td>\n",
       "      <td>75.474</td>\n",
       "      <td>166387</td>\n",
       "      <td>3.0</td>\n",
       "    </tr>\n",
       "    <tr>\n",
       "      <th>1553</th>\n",
       "      <td>1553</td>\n",
       "      <td>43zdsphuZLzwA9k4DJhU0I</td>\n",
       "      <td>3</td>\n",
       "      <td>20</td>\n",
       "      <td>when the party's over</td>\n",
       "      <td>Billie Eilish</td>\n",
       "      <td>15201243</td>\n",
       "      <td>39</td>\n",
       "      <td>0.367</td>\n",
       "      <td>0.111</td>\n",
       "      <td>-14.084</td>\n",
       "      <td>0.097</td>\n",
       "      <td>0.978</td>\n",
       "      <td>0.000</td>\n",
       "      <td>0.090</td>\n",
       "      <td>0.198</td>\n",
       "      <td>82.642</td>\n",
       "      <td>196077</td>\n",
       "      <td>4.0</td>\n",
       "    </tr>\n",
       "    <tr>\n",
       "      <th>2353</th>\n",
       "      <td>2353</td>\n",
       "      <td>6B3zy3LOKHndqsviCr2z15</td>\n",
       "      <td>8</td>\n",
       "      <td>164</td>\n",
       "      <td>Em Calls Paul - Skit</td>\n",
       "      <td>Eminem</td>\n",
       "      <td>4351393</td>\n",
       "      <td>2</td>\n",
       "      <td>0.707</td>\n",
       "      <td>0.314</td>\n",
       "      <td>-10.115</td>\n",
       "      <td>0.747</td>\n",
       "      <td>0.977</td>\n",
       "      <td>0.000</td>\n",
       "      <td>0.109</td>\n",
       "      <td>0.602</td>\n",
       "      <td>104.014</td>\n",
       "      <td>49024</td>\n",
       "      <td>4.0</td>\n",
       "    </tr>\n",
       "    <tr>\n",
       "      <th>431</th>\n",
       "      <td>431</td>\n",
       "      <td>16x9bQHw8TBNaGDyULvwad</td>\n",
       "      <td>38</td>\n",
       "      <td>126</td>\n",
       "      <td>before I close my eyes</td>\n",
       "      <td>XXXTENTACION</td>\n",
       "      <td>5025420</td>\n",
       "      <td>1</td>\n",
       "      <td>0.356</td>\n",
       "      <td>0.143</td>\n",
       "      <td>-15.148</td>\n",
       "      <td>0.039</td>\n",
       "      <td>0.976</td>\n",
       "      <td>0.000</td>\n",
       "      <td>0.111</td>\n",
       "      <td>0.334</td>\n",
       "      <td>75.522</td>\n",
       "      <td>99658</td>\n",
       "      <td>4.0</td>\n",
       "    </tr>\n",
       "    <tr>\n",
       "      <th>1136</th>\n",
       "      <td>1136</td>\n",
       "      <td>2vQwlW8H1jFveGNXwZfJCV</td>\n",
       "      <td>135</td>\n",
       "      <td>129</td>\n",
       "      <td>Dead Inside (Interlude)</td>\n",
       "      <td>XXXTENTACION</td>\n",
       "      <td>4496232</td>\n",
       "      <td>1</td>\n",
       "      <td>0.461</td>\n",
       "      <td>0.028</td>\n",
       "      <td>-21.992</td>\n",
       "      <td>0.041</td>\n",
       "      <td>0.973</td>\n",
       "      <td>0.002</td>\n",
       "      <td>0.169</td>\n",
       "      <td>0.354</td>\n",
       "      <td>88.388</td>\n",
       "      <td>86827</td>\n",
       "      <td>4.0</td>\n",
       "    </tr>\n",
       "    <tr>\n",
       "      <th>681</th>\n",
       "      <td>681</td>\n",
       "      <td>1SmiQ65iSAbPto6gPFlBYm</td>\n",
       "      <td>56</td>\n",
       "      <td>73</td>\n",
       "      <td>It’s Nice To Have A Friend</td>\n",
       "      <td>Taylor Swift</td>\n",
       "      <td>7780158</td>\n",
       "      <td>1</td>\n",
       "      <td>0.737</td>\n",
       "      <td>0.175</td>\n",
       "      <td>-9.912</td>\n",
       "      <td>0.040</td>\n",
       "      <td>0.971</td>\n",
       "      <td>0.000</td>\n",
       "      <td>0.171</td>\n",
       "      <td>0.545</td>\n",
       "      <td>70.008</td>\n",
       "      <td>150440</td>\n",
       "      <td>4.0</td>\n",
       "    </tr>\n",
       "  </tbody>\n",
       "</table>\n",
       "</div>"
      ],
      "text/plain": [
       "      Unnamed: 0                      id  week_of  chart_position  \\\n",
       "1823        1823  4tHqQMWSqmL6YjXwsqthDI       16             123   \n",
       "322          322  0Uv5Kp8sEnriJjkX4oLfNI        8             127   \n",
       "1351        1351  3ITvHA9zhZZdBJsOsAUegF        2             116   \n",
       "415          415  14JzyD6FlBD5z0wV5P07YI        5              51   \n",
       "842          842  299lFlaAsNQdgbIZNPmIA0       88             127   \n",
       "1553        1553  43zdsphuZLzwA9k4DJhU0I        3              20   \n",
       "2353        2353  6B3zy3LOKHndqsviCr2z15        8             164   \n",
       "431          431  16x9bQHw8TBNaGDyULvwad       38             126   \n",
       "1136        1136  2vQwlW8H1jFveGNXwZfJCV      135             129   \n",
       "681          681  1SmiQ65iSAbPto6gPFlBYm       56              73   \n",
       "\n",
       "                          track_name                        artist  \\\n",
       "1823              Carol of the Bells  Mykola Dmytrovych Leontovych   \n",
       "322                      Paul - Skit                Paul Rosenberg   \n",
       "1351                        Amorfoda                     Bad Bunny   \n",
       "415            when the party's over                 Billie Eilish   \n",
       "842   Christmas Time Is Here - Vocal           Vince Guaraldi Trio   \n",
       "1553           when the party's over                 Billie Eilish   \n",
       "2353            Em Calls Paul - Skit                        Eminem   \n",
       "431           before I close my eyes                  XXXTENTACION   \n",
       "1136         Dead Inside (Interlude)                  XXXTENTACION   \n",
       "681       It’s Nice To Have A Friend                  Taylor Swift   \n",
       "\n",
       "      num_of_streams  num_times  danceability  energy  loudness  speechiness  \\\n",
       "1823         7362398          6         0.418   0.106   -22.507        0.045   \n",
       "322          5139520          2         0.636   0.335   -13.327        0.966   \n",
       "1351         5573531         17         0.742   0.432    -7.539        0.062   \n",
       "415          9681823         23         0.498   0.104   -14.080        0.062   \n",
       "842          5457722          1         0.388   0.145   -19.697        0.032   \n",
       "1553        15201243         39         0.367   0.111   -14.084        0.097   \n",
       "2353         4351393          2         0.707   0.314   -10.115        0.747   \n",
       "431          5025420          1         0.356   0.143   -15.148        0.039   \n",
       "1136         4496232          1         0.461   0.028   -21.992        0.041   \n",
       "681          7780158          1         0.737   0.175    -9.912        0.040   \n",
       "\n",
       "      acousticness  instrumentalness  liveness  valence    tempo  duration  \\\n",
       "1823         0.994             0.029     0.179    0.800   46.718     85267   \n",
       "322          0.993             0.000     0.342    0.561  161.680     35240   \n",
       "1351         0.984             0.000     0.080    0.252  148.005    155676   \n",
       "415          0.979             0.000     0.090    0.205  124.001    199931   \n",
       "842          0.978             0.000     0.100    0.091   75.474    166387   \n",
       "1553         0.978             0.000     0.090    0.198   82.642    196077   \n",
       "2353         0.977             0.000     0.109    0.602  104.014     49024   \n",
       "431          0.976             0.000     0.111    0.334   75.522     99658   \n",
       "1136         0.973             0.002     0.169    0.354   88.388     86827   \n",
       "681          0.971             0.000     0.171    0.545   70.008    150440   \n",
       "\n",
       "      time_signature  \n",
       "1823             4.0  \n",
       "322              4.0  \n",
       "1351             3.0  \n",
       "415              3.0  \n",
       "842              3.0  \n",
       "1553             4.0  \n",
       "2353             4.0  \n",
       "431              4.0  \n",
       "1136             4.0  \n",
       "681              4.0  "
      ]
     },
     "execution_count": 14,
     "metadata": {},
     "output_type": "execute_result"
    }
   ],
   "source": [
    "df_unique.sort_values('acousticness', ascending = False).head(10)\n"
   ]
  },
  {
   "cell_type": "markdown",
   "metadata": {},
   "source": [
    "## Visualizations"
   ]
  },
  {
   "cell_type": "markdown",
   "metadata": {},
   "source": [
    "Checking the popularity of songs based on the weighted features of each song"
   ]
  },
  {
   "cell_type": "code",
   "execution_count": 88,
   "metadata": {},
   "outputs": [
    {
     "data": {
      "image/png": "[encoded data removed]",
      "text/plain": [
       "<Figure size 720x432 with 1 Axes>"
      ]
     },
     "metadata": {},
     "output_type": "display_data"
    }
   ],
   "source": [
    "fig, ax = plt.subplots(figsize=[10,6])\n",
    "sns.kdeplot(df_unique['danceability'])\n",
    "sns.kdeplot(df_unique['energy'])\n",
    "sns.kdeplot(df_unique['liveness'])\n",
    "sns.kdeplot(df_unique['valence'])\n",
    "sns.kdeplot(df_unique['acousticness'])\n",
    "sns.kdeplot(df_unique['instrumentalness'])\n",
    "sns.kdeplot(df_unique['speechiness'])\n",
    "plt.title('Song Feature Weighted vs Popularity')\n",
    "plt.show()\n",
    "\n",
    "# because x is 0 and there is not much instrumentalness, there were a lot of top 200 songs with no instru\n",
    "# Y axis is in the thousands and x axis is the feature number"
   ]
  },
  {
   "cell_type": "markdown",
   "metadata": {},
   "source": [
    "Creating the Top 10 for song positions on the music charts"
   ]
  },
  {
   "cell_type": "code",
   "execution_count": 16,
   "metadata": {},
   "outputs": [],
   "source": [
    "top_ten = df_unique[df_unique['chart_position']<=10]\n"
   ]
  },
  {
   "cell_type": "code",
   "execution_count": 17,
   "metadata": {
    "scrolled": true
   },
   "outputs": [
    {
     "data": {
      "text/html": [
       "<div>\n",
       "<style scoped>\n",
       "    .dataframe tbody tr th:only-of-type {\n",
       "        vertical-align: middle;\n",
       "    }\n",
       "\n",
       "    .dataframe tbody tr th {\n",
       "        vertical-align: top;\n",
       "    }\n",
       "\n",
       "    .dataframe thead th {\n",
       "        text-align: right;\n",
       "    }\n",
       "</style>\n",
       "<table border=\"1\" class=\"dataframe\">\n",
       "  <thead>\n",
       "    <tr style=\"text-align: right;\">\n",
       "      <th></th>\n",
       "      <th>Unnamed: 0</th>\n",
       "      <th>id</th>\n",
       "      <th>week_of</th>\n",
       "      <th>chart_position</th>\n",
       "      <th>track_name</th>\n",
       "      <th>artist</th>\n",
       "      <th>num_of_streams</th>\n",
       "      <th>num_times</th>\n",
       "      <th>danceability</th>\n",
       "      <th>energy</th>\n",
       "      <th>loudness</th>\n",
       "      <th>speechiness</th>\n",
       "      <th>acousticness</th>\n",
       "      <th>instrumentalness</th>\n",
       "      <th>liveness</th>\n",
       "      <th>valence</th>\n",
       "      <th>tempo</th>\n",
       "      <th>duration</th>\n",
       "      <th>time_signature</th>\n",
       "    </tr>\n",
       "  </thead>\n",
       "  <tbody>\n",
       "    <tr>\n",
       "      <th>2954</th>\n",
       "      <td>2954</td>\n",
       "      <td>7qiZfU4dY1lWllzX7mPBI3</td>\n",
       "      <td>0</td>\n",
       "      <td>1</td>\n",
       "      <td>Shape of You</td>\n",
       "      <td>Ed Sheeran</td>\n",
       "      <td>64275251</td>\n",
       "      <td>153</td>\n",
       "      <td>0.825</td>\n",
       "      <td>0.652</td>\n",
       "      <td>-3.183</td>\n",
       "      <td>0.080</td>\n",
       "      <td>0.581</td>\n",
       "      <td>0.0</td>\n",
       "      <td>0.093</td>\n",
       "      <td>0.931</td>\n",
       "      <td>95.977</td>\n",
       "      <td>233713</td>\n",
       "      <td>4.0</td>\n",
       "    </tr>\n",
       "    <tr>\n",
       "      <th>297</th>\n",
       "      <td>297</td>\n",
       "      <td>0tgVpDi06FyKpA1z0VMD4v</td>\n",
       "      <td>0</td>\n",
       "      <td>7</td>\n",
       "      <td>Perfect</td>\n",
       "      <td>Ed Sheeran</td>\n",
       "      <td>24795623</td>\n",
       "      <td>144</td>\n",
       "      <td>0.599</td>\n",
       "      <td>0.448</td>\n",
       "      <td>-6.312</td>\n",
       "      <td>0.023</td>\n",
       "      <td>0.163</td>\n",
       "      <td>0.0</td>\n",
       "      <td>0.106</td>\n",
       "      <td>0.168</td>\n",
       "      <td>95.050</td>\n",
       "      <td>263400</td>\n",
       "      <td>3.0</td>\n",
       "    </tr>\n",
       "    <tr>\n",
       "      <th>2580</th>\n",
       "      <td>2580</td>\n",
       "      <td>6RUKPb4LETWmmr3iAEQktW</td>\n",
       "      <td>0</td>\n",
       "      <td>5</td>\n",
       "      <td>Something Just Like This</td>\n",
       "      <td>The Chainsmokers</td>\n",
       "      <td>30048981</td>\n",
       "      <td>125</td>\n",
       "      <td>0.617</td>\n",
       "      <td>0.635</td>\n",
       "      <td>-6.769</td>\n",
       "      <td>0.032</td>\n",
       "      <td>0.050</td>\n",
       "      <td>0.0</td>\n",
       "      <td>0.164</td>\n",
       "      <td>0.446</td>\n",
       "      <td>103.019</td>\n",
       "      <td>247160</td>\n",
       "      <td>4.0</td>\n",
       "    </tr>\n",
       "    <tr>\n",
       "      <th>1089</th>\n",
       "      <td>1089</td>\n",
       "      <td>2RttW7RAu5nOAfq6YFvApB</td>\n",
       "      <td>0</td>\n",
       "      <td>10</td>\n",
       "      <td>Happier</td>\n",
       "      <td>Ed Sheeran</td>\n",
       "      <td>23574465</td>\n",
       "      <td>89</td>\n",
       "      <td>0.522</td>\n",
       "      <td>0.385</td>\n",
       "      <td>-7.355</td>\n",
       "      <td>0.029</td>\n",
       "      <td>0.536</td>\n",
       "      <td>0.0</td>\n",
       "      <td>0.135</td>\n",
       "      <td>0.236</td>\n",
       "      <td>89.792</td>\n",
       "      <td>207520</td>\n",
       "      <td>4.0</td>\n",
       "    </tr>\n",
       "    <tr>\n",
       "      <th>2810</th>\n",
       "      <td>2810</td>\n",
       "      <td>7dt6x5M1jzdTEt8oCbisTK</td>\n",
       "      <td>2</td>\n",
       "      <td>2</td>\n",
       "      <td>Better Now</td>\n",
       "      <td>Post Malone</td>\n",
       "      <td>32111555</td>\n",
       "      <td>87</td>\n",
       "      <td>0.680</td>\n",
       "      <td>0.578</td>\n",
       "      <td>-5.804</td>\n",
       "      <td>0.040</td>\n",
       "      <td>0.331</td>\n",
       "      <td>0.0</td>\n",
       "      <td>0.135</td>\n",
       "      <td>0.341</td>\n",
       "      <td>145.038</td>\n",
       "      <td>231267</td>\n",
       "      <td>4.0</td>\n",
       "    </tr>\n",
       "    <tr>\n",
       "      <th>1953</th>\n",
       "      <td>1953</td>\n",
       "      <td>58q2HKrzhC3ozto2nDdN4z</td>\n",
       "      <td>2</td>\n",
       "      <td>10</td>\n",
       "      <td>I Like It</td>\n",
       "      <td>Cardi B</td>\n",
       "      <td>18878956</td>\n",
       "      <td>74</td>\n",
       "      <td>0.816</td>\n",
       "      <td>0.726</td>\n",
       "      <td>-3.998</td>\n",
       "      <td>0.129</td>\n",
       "      <td>0.099</td>\n",
       "      <td>0.0</td>\n",
       "      <td>0.372</td>\n",
       "      <td>0.650</td>\n",
       "      <td>136.048</td>\n",
       "      <td>253390</td>\n",
       "      <td>4.0</td>\n",
       "    </tr>\n",
       "    <tr>\n",
       "      <th>1452</th>\n",
       "      <td>1452</td>\n",
       "      <td>3swc6WTsr7rl9DqQKQA55C</td>\n",
       "      <td>2</td>\n",
       "      <td>7</td>\n",
       "      <td>Psycho (feat. Ty Dolla $ign)</td>\n",
       "      <td>Post Malone</td>\n",
       "      <td>23868633</td>\n",
       "      <td>71</td>\n",
       "      <td>0.750</td>\n",
       "      <td>0.560</td>\n",
       "      <td>-8.094</td>\n",
       "      <td>0.105</td>\n",
       "      <td>0.546</td>\n",
       "      <td>0.0</td>\n",
       "      <td>0.111</td>\n",
       "      <td>0.459</td>\n",
       "      <td>140.060</td>\n",
       "      <td>221440</td>\n",
       "      <td>4.0</td>\n",
       "    </tr>\n",
       "    <tr>\n",
       "      <th>2815</th>\n",
       "      <td>2815</td>\n",
       "      <td>7ef4DlsgrMEH11cDZd32M6</td>\n",
       "      <td>2</td>\n",
       "      <td>3</td>\n",
       "      <td>One Kiss (with Dua Lipa)</td>\n",
       "      <td>Calvin Harris</td>\n",
       "      <td>28915990</td>\n",
       "      <td>70</td>\n",
       "      <td>0.791</td>\n",
       "      <td>0.862</td>\n",
       "      <td>-3.240</td>\n",
       "      <td>0.110</td>\n",
       "      <td>0.037</td>\n",
       "      <td>0.0</td>\n",
       "      <td>0.081</td>\n",
       "      <td>0.592</td>\n",
       "      <td>123.994</td>\n",
       "      <td>214847</td>\n",
       "      <td>4.0</td>\n",
       "    </tr>\n",
       "    <tr>\n",
       "      <th>61</th>\n",
       "      <td>61</td>\n",
       "      <td>08bNPGLD8AhKpnnERrAc6G</td>\n",
       "      <td>2</td>\n",
       "      <td>8</td>\n",
       "      <td>FRIENDS</td>\n",
       "      <td>Marshmello</td>\n",
       "      <td>20990336</td>\n",
       "      <td>67</td>\n",
       "      <td>0.626</td>\n",
       "      <td>0.880</td>\n",
       "      <td>-2.384</td>\n",
       "      <td>0.050</td>\n",
       "      <td>0.205</td>\n",
       "      <td>0.0</td>\n",
       "      <td>0.128</td>\n",
       "      <td>0.534</td>\n",
       "      <td>95.079</td>\n",
       "      <td>202621</td>\n",
       "      <td>4.0</td>\n",
       "    </tr>\n",
       "    <tr>\n",
       "      <th>1391</th>\n",
       "      <td>1391</td>\n",
       "      <td>3NdDpSvN911VPGivFlV5d0</td>\n",
       "      <td>0</td>\n",
       "      <td>6</td>\n",
       "      <td>I Don’t Wanna Live Forever (Fifty Shades Darke...</td>\n",
       "      <td>ZAYN</td>\n",
       "      <td>25353217</td>\n",
       "      <td>65</td>\n",
       "      <td>0.735</td>\n",
       "      <td>0.451</td>\n",
       "      <td>-8.374</td>\n",
       "      <td>0.059</td>\n",
       "      <td>0.063</td>\n",
       "      <td>0.0</td>\n",
       "      <td>0.325</td>\n",
       "      <td>0.086</td>\n",
       "      <td>117.973</td>\n",
       "      <td>245200</td>\n",
       "      <td>4.0</td>\n",
       "    </tr>\n",
       "  </tbody>\n",
       "</table>\n",
       "</div>"
      ],
      "text/plain": [
       "      Unnamed: 0                      id  week_of  chart_position  \\\n",
       "2954        2954  7qiZfU4dY1lWllzX7mPBI3        0               1   \n",
       "297          297  0tgVpDi06FyKpA1z0VMD4v        0               7   \n",
       "2580        2580  6RUKPb4LETWmmr3iAEQktW        0               5   \n",
       "1089        1089  2RttW7RAu5nOAfq6YFvApB        0              10   \n",
       "2810        2810  7dt6x5M1jzdTEt8oCbisTK        2               2   \n",
       "1953        1953  58q2HKrzhC3ozto2nDdN4z        2              10   \n",
       "1452        1452  3swc6WTsr7rl9DqQKQA55C        2               7   \n",
       "2815        2815  7ef4DlsgrMEH11cDZd32M6        2               3   \n",
       "61            61  08bNPGLD8AhKpnnERrAc6G        2               8   \n",
       "1391        1391  3NdDpSvN911VPGivFlV5d0        0               6   \n",
       "\n",
       "                                             track_name            artist  \\\n",
       "2954                                       Shape of You        Ed Sheeran   \n",
       "297                                             Perfect        Ed Sheeran   \n",
       "2580                           Something Just Like This  The Chainsmokers   \n",
       "1089                                            Happier        Ed Sheeran   \n",
       "2810                                         Better Now       Post Malone   \n",
       "1953                                          I Like It           Cardi B   \n",
       "1452                       Psycho (feat. Ty Dolla $ign)       Post Malone   \n",
       "2815                           One Kiss (with Dua Lipa)     Calvin Harris   \n",
       "61                                              FRIENDS        Marshmello   \n",
       "1391  I Don’t Wanna Live Forever (Fifty Shades Darke...              ZAYN   \n",
       "\n",
       "      num_of_streams  num_times  danceability  energy  loudness  speechiness  \\\n",
       "2954        64275251        153         0.825   0.652    -3.183        0.080   \n",
       "297         24795623        144         0.599   0.448    -6.312        0.023   \n",
       "2580        30048981        125         0.617   0.635    -6.769        0.032   \n",
       "1089        23574465         89         0.522   0.385    -7.355        0.029   \n",
       "2810        32111555         87         0.680   0.578    -5.804        0.040   \n",
       "1953        18878956         74         0.816   0.726    -3.998        0.129   \n",
       "1452        23868633         71         0.750   0.560    -8.094        0.105   \n",
       "2815        28915990         70         0.791   0.862    -3.240        0.110   \n",
       "61          20990336         67         0.626   0.880    -2.384        0.050   \n",
       "1391        25353217         65         0.735   0.451    -8.374        0.059   \n",
       "\n",
       "      acousticness  instrumentalness  liveness  valence    tempo  duration  \\\n",
       "2954         0.581               0.0     0.093    0.931   95.977    233713   \n",
       "297          0.163               0.0     0.106    0.168   95.050    263400   \n",
       "2580         0.050               0.0     0.164    0.446  103.019    247160   \n",
       "1089         0.536               0.0     0.135    0.236   89.792    207520   \n",
       "2810         0.331               0.0     0.135    0.341  145.038    231267   \n",
       "1953         0.099               0.0     0.372    0.650  136.048    253390   \n",
       "1452         0.546               0.0     0.111    0.459  140.060    221440   \n",
       "2815         0.037               0.0     0.081    0.592  123.994    214847   \n",
       "61           0.205               0.0     0.128    0.534   95.079    202621   \n",
       "1391         0.063               0.0     0.325    0.086  117.973    245200   \n",
       "\n",
       "      time_signature  \n",
       "2954             4.0  \n",
       "297              3.0  \n",
       "2580             4.0  \n",
       "1089             4.0  \n",
       "2810             4.0  \n",
       "1953             4.0  \n",
       "1452             4.0  \n",
       "2815             4.0  \n",
       "61               4.0  \n",
       "1391             4.0  "
      ]
     },
     "execution_count": 17,
     "metadata": {},
     "output_type": "execute_result"
    }
   ],
   "source": [
    "top_ten.sort_values('num_times', ascending = False).head(10)\n"
   ]
  },
  {
   "cell_type": "markdown",
   "metadata": {},
   "source": [
    "Visualizing the Top 200 songs compared to the Top 10 songs in regards to the feature Danceability"
   ]
  },
  {
   "cell_type": "code",
   "execution_count": 90,
   "metadata": {},
   "outputs": [
    {
     "data": {
      "image/png": "[encoded data removed]",
      "text/plain": [
       "<Figure size 720x432 with 1 Axes>"
      ]
     },
     "metadata": {},
     "output_type": "display_data"
    }
   ],
   "source": [
    "fig, ax = plt.subplots(figsize=[10,6])\n",
    "sns.kdeplot(top_ten['danceability'], label = 'top 10')\n",
    "sns.kdeplot(df_unique['danceability'], label = 'top 200')\n",
    "plt.title('Danceability for Top 20 vs Top 200')\n",
    "plt.show()\n",
    "\n",
    "# Most songs had .8 danceability"
   ]
  },
  {
   "cell_type": "markdown",
   "metadata": {},
   "source": [
    "Visualizing the Top 200 songs compared to the Top 10 songs in regards to the feature Loudness"
   ]
  },
  {
   "cell_type": "code",
   "execution_count": 19,
   "metadata": {},
   "outputs": [
    {
     "data": {
      "image/png": "[encoded data removed]",
      "text/plain": [
       "<Figure size 720x432 with 1 Axes>"
      ]
     },
     "metadata": {
      "needs_background": "light"
     },
     "output_type": "display_data"
    }
   ],
   "source": [
    "fig, ax = plt.subplots(figsize=[10,6])\n",
    "sns.kdeplot(top_ten['loudness'], label = 'top 10', color = 'red')\n",
    "sns.kdeplot(df_unique['loudness'], label = 'top 200', color = 'black')\n",
    "plt.title('Loudness of Songs')\n",
    "plt.show()\n",
    "\n"
   ]
  },
  {
   "cell_type": "markdown",
   "metadata": {},
   "source": [
    "Visualizing the Top 200 songs compared to the Top 10 songs in regards to the feature Liveness"
   ]
  },
  {
   "cell_type": "code",
   "execution_count": 20,
   "metadata": {},
   "outputs": [
    {
     "data": {
      "image/png": "[encoded data removed]",
      "text/plain": [
       "<Figure size 720x432 with 1 Axes>"
      ]
     },
     "metadata": {
      "needs_background": "light"
     },
     "output_type": "display_data"
    }
   ],
   "source": [
    "fig, ax = plt.subplots(figsize=[10,6])\n",
    "sns.kdeplot(top_ten['liveness'], label = 'top 10', color = 'red')\n",
    "sns.kdeplot(df_unique['liveness'], label = 'top 200', color = 'blue')\n",
    "plt.title('Liveness of Songs')\n",
    "plt.show()"
   ]
  },
  {
   "cell_type": "code",
   "execution_count": 21,
   "metadata": {},
   "outputs": [
    {
     "data": {
      "text/plain": [
       "(0.10110372509350708, 0.13269716532580722)"
      ]
     },
     "execution_count": 21,
     "metadata": {},
     "output_type": "execute_result"
    }
   ],
   "source": [
    "top_ten['liveness'].std(), df_unique['liveness'].std()\n"
   ]
  },
  {
   "cell_type": "code",
   "execution_count": 22,
   "metadata": {
    "scrolled": true
   },
   "outputs": [
    {
     "data": {
      "image/png": "[encoded data removed]",
      "text/plain": [
       "<Figure size 288x432 with 1 Axes>"
      ]
     },
     "metadata": {
      "needs_background": "light"
     },
     "output_type": "display_data"
    }
   ],
   "source": [
    "df_bar = [top_ten['liveness'], df_unique['liveness']]\n",
    "\n",
    "fig, ax = plt.subplots(1,1,figsize=[4,6])\n",
    "sns.barplot(data=df_bar, ax=ax,capsize=.15, lw=1, edgecolor=\".2\", ci=95) # SEM errorbars\n",
    "plt.show()"
   ]
  },
  {
   "cell_type": "markdown",
   "metadata": {},
   "source": [
    "Visualizing the Acousticness of a song compared to the time on the charts"
   ]
  },
  {
   "cell_type": "code",
   "execution_count": 23,
   "metadata": {},
   "outputs": [
    {
     "data": {
      "image/png": "[encoded data removed]",
      "text/plain": [
       "<Figure size 432x468 with 1 Axes>"
      ]
     },
     "metadata": {},
     "output_type": "display_data"
    }
   ],
   "source": [
    "sns.set(style=\"whitegrid\")\n",
    "f, ax = plt.subplots(figsize=(6, 6.5))\n",
    "sns.despine(f, left=True, bottom=True)\n",
    "\n",
    "sns.scatterplot(x= df_unique['acousticness'], y = df_unique['num_times'],\n",
    "                sizes=(1, 8), linewidth=0,\n",
    "                 ax=ax, color = 'lightblue', label = 'top 200')\n",
    "                    \n",
    "sns.scatterplot(x= top_ten['acousticness'], y = top_ten['num_times'],\n",
    "                sizes=(1, 8), linewidth=0,\n",
    "                 ax=ax, color = 'salmon', label = 'top 10')                    \n",
    "plt.title('Acousticness on Charts')\n",
    "plt.show()"
   ]
  },
  {
   "cell_type": "markdown",
   "metadata": {},
   "source": [
    "Visualizing the Danceability of a song compared to the time on the charts"
   ]
  },
  {
   "cell_type": "code",
   "execution_count": 24,
   "metadata": {},
   "outputs": [
    {
     "data": {
      "image/png": "[encoded data removed]",
      "text/plain": [
       "<Figure size 468x468 with 1 Axes>"
      ]
     },
     "metadata": {},
     "output_type": "display_data"
    }
   ],
   "source": [
    "sns.set(style=\"whitegrid\")\n",
    "f, ax = plt.subplots(figsize=(6.5, 6.5))\n",
    "sns.despine(f, left=True, bottom=True)\n",
    "\n",
    "sns.scatterplot(x= df_unique['danceability'], y = df_unique['num_times'],\n",
    "                sizes=(1, 8), linewidth=0,\n",
    "                 ax=ax, color = 'lightblue')\n",
    "                    \n",
    "sns.scatterplot(x= top_ten['danceability'], y = top_ten['num_times'],\n",
    "                sizes=(1, 8), linewidth=0,\n",
    "                 ax=ax, color = 'red')                    \n",
    "plt.title('Danceability vs Times on Charts')\n",
    "plt.show()"
   ]
  },
  {
   "cell_type": "markdown",
   "metadata": {},
   "source": [
    "Visualizing the Tempo of a song compared to the time on the charts"
   ]
  },
  {
   "cell_type": "code",
   "execution_count": 31,
   "metadata": {},
   "outputs": [
    {
     "data": {
      "image/png": "[encoded data removed]",
      "text/plain": [
       "<Figure size 720x468 with 1 Axes>"
      ]
     },
     "metadata": {},
     "output_type": "display_data"
    }
   ],
   "source": [
    "sns.set(style=\"whitegrid\")\n",
    "f, ax = plt.subplots(figsize=(10, 6.5))\n",
    "sns.despine(f, left=True, bottom=True)\n",
    "\n",
    "sns.scatterplot(x= df_unique['tempo'], y = df_unique['num_times'],\n",
    "                sizes=(1, 8), linewidth=0,\n",
    "                 ax=ax, color = 'lightblue')\n",
    "                    \n",
    "sns.scatterplot(x= top_ten['tempo'], y = top_ten['num_times'],\n",
    "                sizes=(1, 8), linewidth=0,\n",
    "                 ax=ax, color = 'red')                    \n",
    "plt.title('Tempo vs Times on Charts')\n",
    "plt.show()"
   ]
  },
  {
   "cell_type": "code",
   "execution_count": 32,
   "metadata": {},
   "outputs": [
    {
     "data": {
      "text/plain": [
       "0.15037078651685398"
      ]
     },
     "execution_count": 32,
     "metadata": {},
     "output_type": "execute_result"
    }
   ],
   "source": [
    "top_live_mean = top_ten['liveness'].mean()\n",
    "top_live_mean"
   ]
  },
  {
   "cell_type": "markdown",
   "metadata": {},
   "source": [
    "## Hypothesis Testing"
   ]
  },
  {
   "cell_type": "code",
   "execution_count": 80,
   "metadata": {},
   "outputs": [
    {
     "data": {
      "text/plain": [
       "Ttest_1sampResult(statistic=0.482601584482359, pvalue=0.6305769979326019)"
      ]
     },
     "execution_count": 80,
     "metadata": {},
     "output_type": "execute_result"
    }
   ],
   "source": [
    "stats.ttest_1samp(top_ten['acousticness'], df_unique['acousticness'].mean())\n"
   ]
  },
  {
   "cell_type": "markdown",
   "metadata": {},
   "source": [
    "## Modeling"
   ]
  },
  {
   "cell_type": "markdown",
   "metadata": {},
   "source": [
    "Before any modeling, we made a Top_10 column"
   ]
  },
  {
   "cell_type": "code",
   "execution_count": 35,
   "metadata": {},
   "outputs": [],
   "source": [
    "df_master['Top_10']= np.where(df_master['chart_position']<=10,1,0)"
   ]
  },
  {
   "cell_type": "markdown",
   "metadata": {},
   "source": [
    "Creating specific dataframe with dropped columns"
   ]
  },
  {
   "cell_type": "code",
   "execution_count": 38,
   "metadata": {},
   "outputs": [],
   "source": [
    "columns_to_drop= ['id_x', 'week_of', 'chart_position', 'track_name','num_of_streams','time_signature', 'id_y', 'popularity_score','num_of_followers']\n",
    "df_modeling= df_master.drop(columns= columns_to_drop)"
   ]
  },
  {
   "cell_type": "markdown",
   "metadata": {},
   "source": [
    "Creating dummy variables"
   ]
  },
  {
   "cell_type": "code",
   "execution_count": 39,
   "metadata": {},
   "outputs": [],
   "source": [
    "df_modeling= pd.get_dummies(df_modeling,'artist')"
   ]
  },
  {
   "cell_type": "markdown",
   "metadata": {},
   "source": [
    "### Logistic Regression"
   ]
  },
  {
   "cell_type": "code",
   "execution_count": 41,
   "metadata": {},
   "outputs": [],
   "source": [
    "target = df_modeling['Top_10']\n",
    "features = df_modeling.drop(['Top_10'], axis=1)"
   ]
  },
  {
   "cell_type": "code",
   "execution_count": 42,
   "metadata": {},
   "outputs": [],
   "source": [
    "X_train, X_test, y_train, y_test = train_test_split(features, target, random_state=25,test_size=0.30)"
   ]
  },
  {
   "cell_type": "code",
   "execution_count": 43,
   "metadata": {},
   "outputs": [
    {
     "name": "stdout",
     "output_type": "stream",
     "text": [
      "              precision    recall  f1-score   support\n",
      "\n",
      "     Top 200       0.95      1.00      0.98      8846\n",
      "      Top 10       0.00      0.00      0.00       453\n",
      "\n",
      "    accuracy                           0.95      9299\n",
      "   macro avg       0.48      0.50      0.49      9299\n",
      "weighted avg       0.90      0.95      0.93      9299\n",
      "\n"
     ]
    },
    {
     "name": "stderr",
     "output_type": "stream",
     "text": [
      "/Users/joeybillet/anaconda3/lib/python3.7/site-packages/sklearn/metrics/_classification.py:1221: UndefinedMetricWarning: Precision and F-score are ill-defined and being set to 0.0 in labels with no predicted samples. Use `zero_division` parameter to control this behavior.\n",
      "  _warn_prf(average, modifier, msg_start, len(result))\n"
     ]
    }
   ],
   "source": [
    "log = LogisticRegression()\n",
    "log.fit(X_train, y_train)\n",
    "log_preds = log.predict(X_test)\n",
    "\n",
    "log_f1 = metrics.f1_score(y_test, log_preds)\n",
    "log_acc = metrics.accuracy_score(y_test, log_preds)\n",
    "\n",
    "print(classification_report(y_test, log_preds, target_names=['Top 200','Top 10']))"
   ]
  },
  {
   "cell_type": "markdown",
   "metadata": {},
   "source": [
    "Exclusively picked the Non top 10 class due to high class imbalance, Will solve with SMOTE\n",
    "\n"
   ]
  },
  {
   "cell_type": "markdown",
   "metadata": {},
   "source": [
    "Is there Class Imbalance?"
   ]
  },
  {
   "cell_type": "code",
   "execution_count": 45,
   "metadata": {},
   "outputs": [
    {
     "data": {
      "image/png": "[encoded data removed]",
      "text/plain": [
       "<Figure size 576x396 with 1 Axes>"
      ]
     },
     "metadata": {},
     "output_type": "display_data"
    }
   ],
   "source": [
    "sns.countplot(x=\"Top_10\", data= df_modeling);"
   ]
  },
  {
   "cell_type": "markdown",
   "metadata": {},
   "source": [
    "We clearly see there is a high class imbalance in our dataset. I used SMOTE to fix this."
   ]
  },
  {
   "cell_type": "markdown",
   "metadata": {},
   "source": [
    "### SMOTE"
   ]
  },
  {
   "cell_type": "code",
   "execution_count": 47,
   "metadata": {},
   "outputs": [
    {
     "name": "stdout",
     "output_type": "stream",
     "text": [
      "-----------------------------------------\n",
      "Synthetic sample class distribution: \n",
      "\n",
      "1    20601\n",
      "0    20601\n",
      "Name: Top_10, dtype: int64\n"
     ]
    }
   ],
   "source": [
    "smote = SMOTE()\n",
    "X_train_resampled, y_train_resampled = smote.fit_sample(X_train, y_train)\n",
    "#X_train, y_train= X_train_resampled, y_train_resampled\n",
    "# Preview synthetic sample class distribution\n",
    "print('-----------------------------------------')\n",
    "print('Synthetic sample class distribution: \\n')\n",
    "print(pd.Series(y_train_resampled).value_counts())"
   ]
  },
  {
   "cell_type": "code",
   "execution_count": 49,
   "metadata": {},
   "outputs": [
    {
     "name": "stdout",
     "output_type": "stream",
     "text": [
      "F1:  0.0\n",
      "Acc:  0.9512850844176793\n",
      "              precision    recall  f1-score   support\n",
      "\n",
      "     Top 200       0.95      1.00      0.98      8846\n",
      "      Top 10       0.00      0.00      0.00       453\n",
      "\n",
      "    accuracy                           0.95      9299\n",
      "   macro avg       0.48      0.50      0.49      9299\n",
      "weighted avg       0.90      0.95      0.93      9299\n",
      "\n"
     ]
    },
    {
     "name": "stderr",
     "output_type": "stream",
     "text": [
      "/Users/joeybillet/anaconda3/lib/python3.7/site-packages/sklearn/metrics/_classification.py:1221: UndefinedMetricWarning: Precision and F-score are ill-defined and being set to 0.0 in labels with no predicted samples. Use `zero_division` parameter to control this behavior.\n",
      "  _warn_prf(average, modifier, msg_start, len(result))\n"
     ]
    }
   ],
   "source": [
    "log = LogisticRegression()\n",
    "log.fit(X_train_resampled, y_train_resampled)\n",
    "log_preds = log.predict(X_test)\n",
    "\n",
    "log_f1 = metrics.f1_score(y_test, log_preds)\n",
    "log_acc = metrics.accuracy_score(y_test, log_preds)\n",
    "print('F1: ',log_f1)\n",
    "print('Acc: ',log_acc)\n",
    "print(classification_report(y_test, log_preds, target_names=['Top 200','Top 10']))"
   ]
  },
  {
   "cell_type": "code",
   "execution_count": 51,
   "metadata": {},
   "outputs": [],
   "source": [
    "def plot_confusion_matrix(cm, classes, normalize=False, title='Confusion matrix',cmap=plt.cm.Blues):\n",
    "    if normalize:\n",
    "        cm = cm.astype('float') / cm.sum(axis=1)[:, np.newaxis]\n",
    "    print(cm)\n",
    "    plt.imshow(cm, interpolation='nearest', cmap=cmap)\n",
    "    plt.title(title)\n",
    "    plt.colorbar()\n",
    "    tick_marks = np.arange(len(classes))\n",
    "    plt.xticks(tick_marks, classes, rotation=45)\n",
    "    plt.yticks(tick_marks, classes)\n",
    "\n",
    "    fmt = '.2f' if normalize else 'd'\n",
    "    thresh = cm.max() / 2.\n",
    "    for i, j in itertools.product(range(cm.shape[0]), range(cm.shape[1])):\n",
    "        plt.text(j, i, format(cm[i, j], fmt),\n",
    "                 horizontalalignment=\"center\",\n",
    "                 color=\"white\" if cm[i, j] > thresh else \"black\")\n",
    "\n",
    "    plt.tight_layout()\n",
    "    plt.ylabel('True label')\n",
    "    plt.xlabel('Predicted label')"
   ]
  },
  {
   "cell_type": "code",
   "execution_count": 53,
   "metadata": {
    "scrolled": true
   },
   "outputs": [
    {
     "name": "stdout",
     "output_type": "stream",
     "text": [
      "[[8846    0]\n",
      " [ 453    0]]\n"
     ]
    },
    {
     "data": {
      "image/png": "[encoded data removed]",
      "text/plain": [
       "<Figure size 576x396 with 2 Axes>"
      ]
     },
     "metadata": {},
     "output_type": "display_data"
    }
   ],
   "source": [
    "cm = confusion_matrix(y_test,log_preds)\n",
    "classes = ['TOP_200','Top_10']\n",
    "plot_confusion_matrix(cm, classes, normalize=False, title='Confusion matrix', cmap=plt.cm.Reds)"
   ]
  },
  {
   "cell_type": "markdown",
   "metadata": {},
   "source": [
    "While judging our models we will be focusing on Accuracy. Based on the results I got from my baseline model, this model has a 95% accuracy."
   ]
  },
  {
   "cell_type": "markdown",
   "metadata": {},
   "source": [
    "## K-Best Feature Selection"
   ]
  },
  {
   "cell_type": "code",
   "execution_count": 56,
   "metadata": {},
   "outputs": [
    {
     "name": "stderr",
     "output_type": "stream",
     "text": [
      "/Users/joeybillet/anaconda3/lib/python3.7/site-packages/sklearn/feature_selection/_univariate_selection.py:302: RuntimeWarning: invalid value encountered in true_divide\n",
      "  corr /= X_norms\n",
      "/Users/joeybillet/anaconda3/lib/python3.7/site-packages/scipy/stats/_distn_infrastructure.py:903: RuntimeWarning: invalid value encountered in greater\n",
      "  return (a < x) & (x < b)\n",
      "/Users/joeybillet/anaconda3/lib/python3.7/site-packages/scipy/stats/_distn_infrastructure.py:903: RuntimeWarning: invalid value encountered in less\n",
      "  return (a < x) & (x < b)\n",
      "/Users/joeybillet/anaconda3/lib/python3.7/site-packages/scipy/stats/_distn_infrastructure.py:1912: RuntimeWarning: invalid value encountered in less_equal\n",
      "  cond2 = cond0 & (x <= _a)\n"
     ]
    },
    {
     "name": "stdout",
     "output_type": "stream",
     "text": [
      "              precision    recall  f1-score   support\n",
      "\n",
      "     Top 200       0.97      0.72      0.82      8846\n",
      "      Top 10       0.09      0.52      0.15       453\n",
      "\n",
      "    accuracy                           0.71      9299\n",
      "   macro avg       0.53      0.62      0.49      9299\n",
      "weighted avg       0.92      0.71      0.79      9299\n",
      "\n"
     ]
    }
   ],
   "source": [
    "scaler = StandardScaler()\n",
    "# fit the scaler to the training data\n",
    "scaler.fit(X_train_resampled)\n",
    "#transform the training data\n",
    "\n",
    "selector = SelectKBest(f_regression, k=22)\n",
    "\n",
    "selector.fit(X_train_resampled, y_train_resampled)\n",
    "\n",
    "selected_columns = X_train_resampled.columns[selector.get_support()]\n",
    "removed_columns = X_train_resampled.columns[~selector.get_support()]\n",
    "\n",
    "log_kbest = LogisticRegression()\n",
    "log_kbest = log_kbest.fit(X_train_resampled[selected_columns], y_train_resampled)\n",
    "\n",
    "log_kpreds = log_kbest.predict(X_test[selected_columns])\n",
    "\n",
    "print(classification_report(y_test, log_kpreds, target_names=['Top 200','Top 10']))"
   ]
  },
  {
   "cell_type": "code",
   "execution_count": 57,
   "metadata": {
    "scrolled": true
   },
   "outputs": [
    {
     "name": "stdout",
     "output_type": "stream",
     "text": [
      "[[6361 2485]\n",
      " [ 216  237]]\n"
     ]
    },
    {
     "data": {
      "image/png": "[encoded data removed]",
      "text/plain": [
       "<Figure size 576x396 with 2 Axes>"
      ]
     },
     "metadata": {},
     "output_type": "display_data"
    }
   ],
   "source": [
    "cm = confusion_matrix(y_test,log_kpreds)\n",
    "classes = ['0','1']\n",
    "plot_confusion_matrix(cm, classes, normalize=False, title='Confusion matrix', cmap=plt.cm.Reds)"
   ]
  },
  {
   "cell_type": "markdown",
   "metadata": {},
   "source": [
    "Using a K-Best Selector to pick our best columns we found that this is model actually did a worse job in terms of accuracy with an accuracy percentage of 71"
   ]
  },
  {
   "cell_type": "markdown",
   "metadata": {},
   "source": [
    "## GridSearch Log Reg"
   ]
  },
  {
   "cell_type": "code",
   "execution_count": 59,
   "metadata": {},
   "outputs": [
    {
     "name": "stdout",
     "output_type": "stream",
     "text": [
      "Fitting 5 folds for each of 40 candidates, totalling 200 fits\n"
     ]
    },
    {
     "name": "stderr",
     "output_type": "stream",
     "text": [
      "[Parallel(n_jobs=-1)]: Using backend LokyBackend with 4 concurrent workers.\n",
      "[Parallel(n_jobs=-1)]: Done  42 tasks      | elapsed:   14.1s\n",
      "[Parallel(n_jobs=-1)]: Done 192 tasks      | elapsed:   53.8s\n",
      "[Parallel(n_jobs=-1)]: Done 200 out of 200 | elapsed:   56.3s finished\n"
     ]
    },
    {
     "data": {
      "text/plain": [
       "GridSearchCV(cv=5, estimator=LogisticRegression(), n_jobs=-1,\n",
       "             param_grid={'C': [0.75, 1.0, 1.25, 1.5],\n",
       "                         'max_iter': [100, 200, 300, 400, 500],\n",
       "                         'penalty': ['l1', 'l2']},\n",
       "             scoring='f1', verbose=1)"
      ]
     },
     "execution_count": 59,
     "metadata": {},
     "output_type": "execute_result"
    }
   ],
   "source": [
    "logreg = LogisticRegression()\n",
    "parameters = {'C': [0.75,1.0,1.25,1.5],\n",
    "             'max_iter': [100,200,300,400,500],\n",
    "             'penalty': ['l1', 'l2']}\n",
    "grid_tree1=GridSearchCV(logreg, parameters, cv=5, scoring='f1',verbose =1,n_jobs=-1)\n",
    "\n",
    "grid_tree1.fit(X_train_resampled,y_train_resampled)"
   ]
  },
  {
   "cell_type": "code",
   "execution_count": 60,
   "metadata": {},
   "outputs": [
    {
     "name": "stdout",
     "output_type": "stream",
     "text": [
      "0.0\n",
      "{'C': 0.75, 'max_iter': 100, 'penalty': 'l2'}\n",
      "LogisticRegression(C=0.75)\n"
     ]
    }
   ],
   "source": [
    "# Single best score achieved across all params (min_samples_split)\n",
    "print(grid_tree1.best_score_)\n",
    "\n",
    "# Dictionary containing the parameters (min_samples_split) used to generate that score\n",
    "print(grid_tree1.best_params_)\n",
    "\n",
    "# Actual model object fit with those best parameters\n",
    "# Shows default parameters that we did not specify\n",
    "print(grid_tree1.best_estimator_)"
   ]
  },
  {
   "cell_type": "code",
   "execution_count": 65,
   "metadata": {},
   "outputs": [
    {
     "name": "stdout",
     "output_type": "stream",
     "text": [
      "              precision    recall  f1-score   support\n",
      "\n",
      "     Top 200       0.95      1.00      0.98      8846\n",
      "      Top 10       0.00      0.00      0.00       453\n",
      "\n",
      "    accuracy                           0.95      9299\n",
      "   macro avg       0.48      0.50      0.49      9299\n",
      "weighted avg       0.90      0.95      0.93      9299\n",
      "\n"
     ]
    },
    {
     "name": "stderr",
     "output_type": "stream",
     "text": [
      "/Users/joeybillet/anaconda3/lib/python3.7/site-packages/sklearn/metrics/_classification.py:1221: UndefinedMetricWarning: Precision and F-score are ill-defined and being set to 0.0 in labels with no predicted samples. Use `zero_division` parameter to control this behavior.\n",
      "  _warn_prf(average, modifier, msg_start, len(result))\n"
     ]
    }
   ],
   "source": [
    "#Predict the response for test dataset\n",
    "y_pred = grid_tree1.best_estimator_.predict(X_test)\n",
    "\n",
    "# Model Accuracy, how often is the classifier correct?\n",
    "print(classification_report(y_test, y_pred, target_names=['Top 200','Top 10']))"
   ]
  },
  {
   "cell_type": "code",
   "execution_count": 62,
   "metadata": {
    "scrolled": true
   },
   "outputs": [
    {
     "name": "stdout",
     "output_type": "stream",
     "text": [
      "[[8846    0]\n",
      " [ 453    0]]\n"
     ]
    },
    {
     "data": {
      "image/png": "[encoded data removed]",
      "text/plain": [
       "<Figure size 576x396 with 2 Axes>"
      ]
     },
     "metadata": {},
     "output_type": "display_data"
    }
   ],
   "source": [
    "cm = confusion_matrix(y_test,y_pred)\n",
    "classes = ['0','1']\n",
    "plot_confusion_matrix(cm, classes, normalize=False, title='Confusion matrix', cmap=plt.cm.Reds)"
   ]
  },
  {
   "cell_type": "markdown",
   "metadata": {},
   "source": [
    "Our Gridsearch on Logistic Regression performed the same as our best Logistic Regression model with an accuracy score of 95%."
   ]
  },
  {
   "cell_type": "markdown",
   "metadata": {},
   "source": [
    "## KNN Model"
   ]
  },
  {
   "cell_type": "code",
   "execution_count": 64,
   "metadata": {},
   "outputs": [
    {
     "name": "stdout",
     "output_type": "stream",
     "text": [
      "              precision    recall  f1-score   support\n",
      "\n",
      "     Top 200       0.98      0.88      0.93      8846\n",
      "      Top 10       0.23      0.71      0.35       453\n",
      "\n",
      "    accuracy                           0.87      9299\n",
      "   macro avg       0.61      0.79      0.64      9299\n",
      "weighted avg       0.95      0.87      0.90      9299\n",
      "\n"
     ]
    }
   ],
   "source": [
    "knn = KNeighborsClassifier(n_neighbors=4)\n",
    "knn.fit(X_train_resampled, y_train_resampled)\n",
    "\n",
    "knn_preds = knn.predict(X_test)\n",
    "\n",
    "knn_f1 = metrics.f1_score(y_test, knn_preds)\n",
    "\n",
    "knn_acc = metrics.accuracy_score(y_test, knn_preds)\n",
    "\n",
    "print(classification_report(y_test, knn_preds, target_names=['Top 200','Top 10']))"
   ]
  },
  {
   "cell_type": "code",
   "execution_count": 66,
   "metadata": {
    "scrolled": true
   },
   "outputs": [
    {
     "name": "stdout",
     "output_type": "stream",
     "text": [
      "[[7801 1045]\n",
      " [ 133  320]]\n"
     ]
    },
    {
     "data": {
      "image/png": "[encoded data removed]",
      "text/plain": [
       "<Figure size 576x396 with 2 Axes>"
      ]
     },
     "metadata": {},
     "output_type": "display_data"
    }
   ],
   "source": [
    "cm = confusion_matrix(y_test,knn_preds)\n",
    "classes = ['0','1']\n",
    "plot_confusion_matrix(cm, classes, normalize=False, title='Confusion matrix', cmap=plt.cm.Reds)"
   ]
  },
  {
   "cell_type": "markdown",
   "metadata": {},
   "source": [
    "Our KNN model performed significantly worse than our best model (Gridsearch Logistic Regression) in Accuracy with a score of 87%."
   ]
  },
  {
   "cell_type": "markdown",
   "metadata": {},
   "source": [
    "## Decision Tree Model"
   ]
  },
  {
   "cell_type": "code",
   "execution_count": 67,
   "metadata": {},
   "outputs": [
    {
     "name": "stdout",
     "output_type": "stream",
     "text": [
      "              precision    recall  f1-score   support\n",
      "\n",
      "     Top 200       0.99      0.85      0.91      8846\n",
      "      Top 10       0.22      0.84      0.35       453\n",
      "\n",
      "    accuracy                           0.85      9299\n",
      "   macro avg       0.60      0.84      0.63      9299\n",
      "weighted avg       0.95      0.85      0.89      9299\n",
      "\n"
     ]
    }
   ],
   "source": [
    "dtc = DecisionTreeClassifier(random_state = 25)\n",
    "\n",
    "dtc.fit(X_train_resampled, y_train_resampled)\n",
    "\n",
    "dtc_preds  = dtc.predict(X_test)\n",
    "\n",
    "dtc_f1 = metrics.f1_score(y_test, dtc_preds)\n",
    "\n",
    "dtc_acc = metrics.accuracy_score(y_test, dtc_preds)\n",
    "\n",
    "print(classification_report(y_test, dtc_preds, target_names=['Top 200','Top 10']))"
   ]
  },
  {
   "cell_type": "code",
   "execution_count": 68,
   "metadata": {
    "scrolled": true
   },
   "outputs": [
    {
     "name": "stdout",
     "output_type": "stream",
     "text": [
      "[[7500 1346]\n",
      " [  74  379]]\n"
     ]
    },
    {
     "data": {
      "image/png": "[encoded data removed]",
      "text/plain": [
       "<Figure size 576x396 with 2 Axes>"
      ]
     },
     "metadata": {},
     "output_type": "display_data"
    }
   ],
   "source": [
    "cm = confusion_matrix(y_test,dtc_preds)\n",
    "classes = ['0','1']\n",
    "plot_confusion_matrix(cm, classes, normalize=False, title='Confusion matrix', cmap=plt.cm.Reds)"
   ]
  },
  {
   "cell_type": "markdown",
   "metadata": {},
   "source": [
    "The Decision Tree model did not perfrom as well as the Gridsearch Logistic Regression model with only an Accuracy score of 85%."
   ]
  },
  {
   "cell_type": "markdown",
   "metadata": {},
   "source": [
    "## Random Forest Models"
   ]
  },
  {
   "cell_type": "code",
   "execution_count": 69,
   "metadata": {},
   "outputs": [
    {
     "name": "stdout",
     "output_type": "stream",
     "text": [
      "              precision    recall  f1-score   support\n",
      "\n",
      "     Top 200       0.99      0.85      0.92      8846\n",
      "      Top 10       0.23      0.83      0.36       453\n",
      "\n",
      "    accuracy                           0.85      9299\n",
      "   macro avg       0.61      0.84      0.64      9299\n",
      "weighted avg       0.95      0.85      0.89      9299\n",
      "\n"
     ]
    }
   ],
   "source": [
    "rfc = RandomForestClassifier(random_state = 25, n_estimators=20, max_features=6)\n",
    "rfc.fit(X_train_resampled, y_train_resampled)\n",
    "rfc_preds = rfc.predict(X_test)\n",
    "\n",
    "rfc_f1 = metrics.f1_score(y_test, rfc_preds)\n",
    "rfc_acc = metrics.accuracy_score(y_test, rfc_preds)\n",
    "\n",
    "# checking accuracy on the test data\n",
    "print(classification_report(y_test, rfc_preds, target_names=['Top 200','Top 10']))"
   ]
  },
  {
   "cell_type": "code",
   "execution_count": 70,
   "metadata": {
    "scrolled": true
   },
   "outputs": [
    {
     "name": "stdout",
     "output_type": "stream",
     "text": [
      "[[7562 1284]\n",
      " [  76  377]]\n"
     ]
    },
    {
     "data": {
      "image/png": "[encoded data removed]",
      "text/plain": [
       "<Figure size 576x396 with 2 Axes>"
      ]
     },
     "metadata": {},
     "output_type": "display_data"
    }
   ],
   "source": [
    "cm = confusion_matrix(y_test,rfc_preds)\n",
    "classes = ['0','1']\n",
    "plot_confusion_matrix(cm, classes, normalize=False, title='Confusion matrix', cmap=plt.cm.Reds)"
   ]
  },
  {
   "cell_type": "markdown",
   "metadata": {},
   "source": [
    "The Random Forest model had the same accuracy score as the Decision Tree model. Can Gridsearch help find a better Random Forest model?"
   ]
  },
  {
   "cell_type": "code",
   "execution_count": 71,
   "metadata": {},
   "outputs": [
    {
     "name": "stdout",
     "output_type": "stream",
     "text": [
      "Fitting 10 folds for each of 40 candidates, totalling 400 fits\n"
     ]
    },
    {
     "name": "stderr",
     "output_type": "stream",
     "text": [
      "[Parallel(n_jobs=-1)]: Using backend LokyBackend with 4 concurrent workers.\n",
      "[Parallel(n_jobs=-1)]: Done  42 tasks      | elapsed: 15.4min\n",
      "[Parallel(n_jobs=-1)]: Done 192 tasks      | elapsed: 41.2min\n",
      "[Parallel(n_jobs=-1)]: Done 400 out of 400 | elapsed: 75.4min finished\n"
     ]
    },
    {
     "data": {
      "text/plain": [
       "GridSearchCV(cv=10, estimator=RandomForestClassifier(random_state=25),\n",
       "             n_jobs=-1,\n",
       "             param_grid={'criterion': ['gini', 'entropy'],\n",
       "                         'max_features': [4, 5, 6, 7, 8],\n",
       "                         'n_estimators': [50, 100, 150, 200]},\n",
       "             scoring='f1', verbose=1)"
      ]
     },
     "execution_count": 71,
     "metadata": {},
     "output_type": "execute_result"
    }
   ],
   "source": [
    "param_grid2 = { \n",
    "    'n_estimators': [50,100,150,200],\n",
    "    'max_features': [4,5,6,7,8],\n",
    "    'criterion' : ['gini','entropy']\n",
    "    \n",
    "}\n",
    "\n",
    "rfc_CV = RandomForestClassifier(random_state = 25)\n",
    "rfc_CV = GridSearchCV(estimator=rfc_CV, param_grid=param_grid2, cv= 10, scoring='f1', verbose=1, n_jobs=-1)\n",
    "rfc_CV.fit(X_train_resampled, y_train_resampled)"
   ]
  },
  {
   "cell_type": "code",
   "execution_count": 72,
   "metadata": {},
   "outputs": [
    {
     "name": "stdout",
     "output_type": "stream",
     "text": [
      "{'criterion': 'entropy', 'max_features': 4, 'n_estimators': 50}\n",
      "RandomForestClassifier(criterion='entropy', max_features=4, n_estimators=50,\n",
      "                       random_state=25)\n",
      "0.9215861109249595\n",
      "              precision    recall  f1-score   support\n",
      "\n",
      "     Top 200       0.99      0.86      0.92      8846\n",
      "      Top 10       0.23      0.84      0.36       453\n",
      "\n",
      "    accuracy                           0.86      9299\n",
      "   macro avg       0.61      0.85      0.64      9299\n",
      "weighted avg       0.95      0.86      0.89      9299\n",
      "\n"
     ]
    }
   ],
   "source": [
    "# Identify the best params \n",
    "print(rfc_CV.best_params_)\n",
    "print(rfc_CV.best_estimator_)\n",
    "\n",
    "\n",
    "#Identify the best score during fitting with cross-validation\n",
    "print(rfc_CV.best_score_)\n",
    "\n",
    "#predict on the test set\n",
    "test_preds_rfc_CV = rfc_CV.best_estimator_.predict(X_test)\n",
    "\n",
    "# checking metrics\n",
    "print(classification_report(y_test, test_preds_rfc_CV, target_names=['Top 200','Top 10']))"
   ]
  },
  {
   "cell_type": "code",
   "execution_count": 75,
   "metadata": {},
   "outputs": [
    {
     "name": "stdout",
     "output_type": "stream",
     "text": [
      "[[7573 1273]\n",
      " [  74  379]]\n"
     ]
    },
    {
     "data": {
      "image/png": "[encoded data removed]",
      "text/plain": [
       "<Figure size 576x396 with 2 Axes>"
      ]
     },
     "metadata": {},
     "output_type": "display_data"
    }
   ],
   "source": [
    "cm = confusion_matrix(y_test,test_preds_rfc_CV)\n",
    "classes = ['0','1']\n",
    "plot_confusion_matrix(cm, classes, normalize=False, title='Confusion matrix', cmap=plt.cm.Reds)"
   ]
  },
  {
   "cell_type": "markdown",
   "metadata": {},
   "source": [
    "The Gridsearch was able to help bring the accuracy score up to 86%."
   ]
  },
  {
   "cell_type": "markdown",
   "metadata": {},
   "source": [
    "## Voting Classifier"
   ]
  },
  {
   "cell_type": "markdown",
   "metadata": {},
   "source": [
    "Utilizing the different models, can a voting classifier put the models together and get better results?"
   ]
  },
  {
   "cell_type": "code",
   "execution_count": 76,
   "metadata": {},
   "outputs": [
    {
     "name": "stdout",
     "output_type": "stream",
     "text": [
      "              precision    recall  f1-score   support\n",
      "\n",
      "     Top 200       0.98      0.90      0.94      8846\n",
      "      Top 10       0.26      0.70      0.37       453\n",
      "\n",
      "    accuracy                           0.89      9299\n",
      "   macro avg       0.62      0.80      0.66      9299\n",
      "weighted avg       0.95      0.89      0.91      9299\n",
      "\n"
     ]
    }
   ],
   "source": [
    "voting_clf = VotingClassifier(\n",
    "                estimators=[('knneighbors', knn), ('decisiontree', dtc), ('logreg', log), ('randomforest', rfc)], \n",
    "                voting='hard', weights= [1,1,1,1])\n",
    "\n",
    "voting_clf.fit(X_train_resampled, y_train_resampled)\n",
    "\n",
    "vc_preds = voting_clf.predict(X_test)\n",
    "\n",
    "vc_f1 = metrics.f1_score(y_test, vc_preds)\n",
    "\n",
    "vc_acc = metrics.accuracy_score(y_test, vc_preds)\n",
    "\n",
    "print(classification_report(y_test, vc_preds, target_names=['Top 200','Top 10']))"
   ]
  },
  {
   "cell_type": "code",
   "execution_count": 77,
   "metadata": {
    "scrolled": true
   },
   "outputs": [
    {
     "name": "stdout",
     "output_type": "stream",
     "text": [
      "[[7923  923]\n",
      " [ 136  317]]\n"
     ]
    },
    {
     "data": {
      "image/png": "[encoded data removed]",
      "text/plain": [
       "<Figure size 576x396 with 2 Axes>"
      ]
     },
     "metadata": {},
     "output_type": "display_data"
    }
   ],
   "source": [
    "cm = confusion_matrix(y_test,vc_preds)\n",
    "classes = ['0','1']\n",
    "plot_confusion_matrix(cm, classes, normalize=False, title='Confusion matrix', cmap=plt.cm.Blues)"
   ]
  },
  {
   "cell_type": "markdown",
   "metadata": {},
   "source": [
    "The voting classifier is still not as good as the GriSearch Logistic Regression accuracy score. "
   ]
  },
  {
   "cell_type": "markdown",
   "metadata": {},
   "source": [
    "## XG-Boost"
   ]
  },
  {
   "cell_type": "code",
   "execution_count": 81,
   "metadata": {},
   "outputs": [
    {
     "name": "stdout",
     "output_type": "stream",
     "text": [
      "-----------------------------------------\n",
      "Synthetic sample class distribution: \n",
      "\n",
      "1    22075\n",
      "0    22075\n",
      "Name: Top_10, dtype: int64\n"
     ]
    }
   ],
   "source": [
    "labels = df_modeling['Top_10']\n",
    "labels_removed_df = df_modeling.drop(columns='Top_10')\n",
    "\n",
    "scaler = StandardScaler()\n",
    "scaled_df = scaler.fit_transform(labels_removed_df)\n",
    "\n",
    "X_train, X_test, y_train, y_test = train_test_split(scaled_df, labels)\n",
    "smote = SMOTE()\n",
    "X_train_resampled, y_train_resampled = smote.fit_sample(X_train, y_train)\n",
    "X_train, y_train= X_train_resampled, y_train_resampled\n",
    " #Preview synthetic sample class distribution\n",
    "print('-----------------------------------------')\n",
    "print('Synthetic sample class distribution: \\n')\n",
    "print(pd.Series(y_train_resampled).value_counts())"
   ]
  },
  {
   "cell_type": "code",
   "execution_count": 82,
   "metadata": {},
   "outputs": [],
   "source": [
    "param_grid = {\n",
    "    \"penalty\": ([\"l1\",'l2']),\n",
    "    \"max_depth\":([2,3,4]),\n",
    "    \"C\": ([0.001,.0001]),\n",
    "    'learning_rate': [.1,.2,.3],\n",
    "    \"solver\": ([\"newton-cg\"]),\n",
    "}"
   ]
  },
  {
   "cell_type": "code",
   "execution_count": 83,
   "metadata": {},
   "outputs": [
    {
     "name": "stdout",
     "output_type": "stream",
     "text": [
      "Fitting 10 folds for each of 36 candidates, totalling 360 fits\n"
     ]
    },
    {
     "name": "stderr",
     "output_type": "stream",
     "text": [
      "[Parallel(n_jobs=-1)]: Using backend LokyBackend with 4 concurrent workers.\n",
      "[Parallel(n_jobs=-1)]: Done  42 tasks      | elapsed: 15.6min\n",
      "[Parallel(n_jobs=-1)]: Done 192 tasks      | elapsed: 72.4min\n",
      "[Parallel(n_jobs=-1)]: Done 360 out of 360 | elapsed: 137.9min finished\n"
     ]
    },
    {
     "name": "stdout",
     "output_type": "stream",
     "text": [
      "[23:36:55] WARNING: /Users/travis/build/dmlc/xgboost/src/learner.cc:516: \n",
      "Parameters: { C, penalty, solver } might not be used.\n",
      "\n",
      "  This may not be accurate due to some parameters are only used in language bindings but\n",
      "  passed down to XGBoost core.  Or some parameters are not used but slip through this\n",
      "  verification. Please open an issue if you find above cases.\n",
      "\n",
      "\n",
      "Grid Search found the following optimal parameters: \n",
      "C: 0.001\n",
      "learning_rate: 0.3\n",
      "max_depth: 4\n",
      "penalty: 'l1'\n",
      "solver: 'newton-cg'\n",
      "              precision    recall  f1-score   support\n",
      "\n",
      "     Top 200       0.96      1.00      0.98      7372\n",
      "      Top 10       0.76      0.15      0.25       377\n",
      "\n",
      "    accuracy                           0.96      7749\n",
      "   macro avg       0.86      0.57      0.61      7749\n",
      "weighted avg       0.95      0.96      0.94      7749\n",
      "\n"
     ]
    }
   ],
   "source": [
    "\n",
    "clf = xgb.XGBClassifier()\n",
    "grid_clf = GridSearchCV(clf, param_grid, scoring='f1', cv=10, n_jobs=-1,verbose=1)\n",
    "grid_clf.fit(scaled_df, labels)\n",
    "best_parameters = grid_clf.best_params_\n",
    "print(\"Grid Search found the following optimal parameters: \")\n",
    "for param_name in sorted(best_parameters.keys()):\n",
    "    print(\"%s: %r\" % (param_name, best_parameters[param_name]))\n",
    "training_preds = grid_clf.predict(X_train)\n",
    "val_preds = grid_clf.predict(X_test)\n",
    "print(classification_report(y_test, val_preds, target_names=['Top 200','Top 10']))"
   ]
  },
  {
   "cell_type": "code",
   "execution_count": 85,
   "metadata": {},
   "outputs": [
    {
     "name": "stdout",
     "output_type": "stream",
     "text": [
      "[[7923  923]\n",
      " [ 136  317]]\n"
     ]
    },
    {
     "data": {
      "image/png": "[encoded data removed]",
      "text/plain": [
       "<Figure size 576x396 with 2 Axes>"
      ]
     },
     "metadata": {},
     "output_type": "display_data"
    }
   ],
   "source": [
    "### cm = confusion_matrix(y_test,val_preds)\n",
    "classes = ['0','1']\n",
    "plot_confusion_matrix(cm, classes, normalize=False, title='Confusion matrix', cmap=plt.cm.Reds)"
   ]
  },
  {
   "cell_type": "markdown",
   "metadata": {},
   "source": [
    "When comparing XG Boost to other models, it shows it is the best model. The accuracy score is above the rest of them (beat GridSearch Logistic Regression by 1%) and even though we did not mention Precision yet, it well outperformed the rest of them with a precision score of 76%."
   ]
  },
  {
   "cell_type": "code",
   "execution_count": null,
   "metadata": {},
   "outputs": [],
   "source": []
  },
  {
   "cell_type": "code",
   "execution_count": null,
   "metadata": {},
   "outputs": [],
   "source": []
  },
  {
   "cell_type": "code",
   "execution_count": null,
   "metadata": {},
   "outputs": [],
   "source": []
  }
 ],
 "metadata": {
  "kernelspec": {
   "display_name": "Python 3",
   "language": "python",
   "name": "python3"
  },
  "language_info": {
   "codemirror_mode": {
    "name": "ipython",
    "version": 3
   },
   "file_extension": ".py",
   "mimetype": "text/x-python",
   "name": "python",
   "nbconvert_exporter": "python",
   "pygments_lexer": "ipython3",
   "version": "3.7.6"
  }
 },
 "nbformat": 4,
 "nbformat_minor": 4
}
